{
  "nbformat": 4,
  "nbformat_minor": 0,
  "metadata": {
    "accelerator": "GPU",
    "colab": {
      "name": "Data_analysis4_random.ipynb",
      "provenance": [],
      "collapsed_sections": [],
      "include_colab_link": true
    },
    "kernelspec": {
      "name": "python3",
      "display_name": "Python 3"
    },
    "language_info": {
      "codemirror_mode": {
        "name": "ipython",
        "version": 3
      },
      "file_extension": ".py",
      "mimetype": "text/x-python",
      "name": "python",
      "nbconvert_exporter": "python",
      "pygments_lexer": "ipython3",
      "version": "3.7.3"
    }
  },
  "cells": [
    {
      "cell_type": "markdown",
      "metadata": {
        "id": "view-in-github",
        "colab_type": "text"
      },
      "source": [
        "<a href=\"https://colab.research.google.com/github/lustea0201/Interpretability/blob/master/Data_analysis4_random.ipynb\" target=\"_parent\"><img src=\"https://colab.research.google.com/assets/colab-badge.svg\" alt=\"Open In Colab\"/></a>"
      ]
    },
    {
      "cell_type": "markdown",
      "metadata": {
        "id": "1uv-An0P9QTD",
        "colab_type": "text"
      },
      "source": [
        "# Importing the fourth dataset "
      ]
    },
    {
      "cell_type": "code",
      "metadata": {
        "colab_type": "code",
        "id": "h4NeSToBbJMn",
        "outputId": "2e867a26-35f6-4158-e8ed-a2193dd9b04b",
        "colab": {
          "base_uri": "https://localhost:8080/",
          "height": 34
        }
      },
      "source": [
        "#@title\n",
        "import zipfile\n",
        "import io\n",
        "import cv2\n",
        "import glob \n",
        "import numpy as np\n",
        "import random \n",
        "import torch \n",
        "from torchvision.datasets import ImageFolder\n",
        "from torch.utils.data import DataLoader\n",
        "from torchvision.transforms import ToTensor, Normalize\n",
        "from torchvision import transforms\n",
        "import os\n",
        "import matplotlib.pyplot as plt\n",
        "import numpy as np\n",
        "import torch.nn as nn\n",
        "import torch.nn.functional as F\n",
        "import torch.optim as optim\n",
        "from google.colab import drive\n",
        "\n",
        "torch.manual_seed(0) # Reproducible, for now \n",
        "\n",
        "FIGSIZE = (12,10)\n",
        "\n",
        "!rm -rf main_dir\n",
        "!rm -rf data.zip\n",
        "\n",
        "drive.mount('/content/drive/')\n",
        "data = zipfile.ZipFile(\"/content/drive/My Drive/Interpretability/5000/data4/random.zip\", 'r')\n",
        "\n",
        "root_dir = \"main_dir\"\n",
        "data.extractall(root_dir)\n",
        "data.close()"
      ],
      "execution_count": 14,
      "outputs": [
        {
          "output_type": "stream",
          "text": [
            "Drive already mounted at /content/drive/; to attempt to forcibly remount, call drive.mount(\"/content/drive/\", force_remount=True).\n"
          ],
          "name": "stdout"
        }
      ]
    },
    {
      "cell_type": "code",
      "metadata": {
        "colab_type": "code",
        "id": "vAf1Fk2IbguJ",
        "colab": {}
      },
      "source": [
        "transf = transforms.Compose( [ToTensor(), \n",
        "                                  Normalize(mean=(0.5, 0.5, 0.5), std=(0.5, 0.5, 0.5))])\n",
        "\n",
        "\n",
        "train_data = ImageFolder(root = os.path.join(root_dir, 'train'), transform = transf)\n",
        "\n",
        "val_data = ImageFolder(root = os.path.join(root_dir, 'val'), transform = transf)\n",
        "\n",
        "test_data = ImageFolder(root = os.path.join(root_dir, 'test'), transform = transf)\n",
        "\n",
        "idx_to_class = {j:i for i,j in train_data.class_to_idx.items()}\n"
      ],
      "execution_count": 0,
      "outputs": []
    },
    {
      "cell_type": "markdown",
      "metadata": {
        "id": "rZbOwxII9bcn",
        "colab_type": "text"
      },
      "source": [
        "# Dataset description \n",
        "\n",
        "\n",
        "*   Label 0: the image doesn't contain any shape \n",
        "*   Label 1: the image contains at least one shape \n",
        "Here are two examples: \n",
        "\n"
      ]
    },
    {
      "cell_type": "code",
      "metadata": {
        "colab_type": "code",
        "id": "cSTJr4lCmYaB",
        "outputId": "9770b472-ace9-4e1d-a618-7b6574e46cf5",
        "colab": {
          "base_uri": "https://localhost:8080/",
          "height": 607
        }
      },
      "source": [
        "#@title\n",
        "def display_image(image, true_label, predicted_label = None): \n",
        "  plt.figure(figsize = FIGSIZE)\n",
        "  sample_image = image.numpy().transpose(1,2,0)\n",
        "  mean = np.array([0.5, 0.5, 0.5])\n",
        "  sd = np.array([0.5, 0.5, 0.5])\n",
        "  im = sample_image*sd + mean\n",
        "  plt.imshow(im)\n",
        "  title_ = \"True label : \" + idx_to_class[true_label]\n",
        "  \n",
        "  if (predicted_label != None):\n",
        "    title_ += \"/ Predicted : \" + idx_to_class[predicted_label]\n",
        "\n",
        "\n",
        "  plt.title(title_)\n",
        "\n",
        "display_image(train_data[0][0], train_data[0][1])"
      ],
      "execution_count": 16,
      "outputs": [
        {
          "output_type": "display_data",
          "data": {
            "image/png": "[encoded data removed]",
            "text/plain": [
              "<Figure size 864x720 with 1 Axes>"
            ]
          },
          "metadata": {
            "tags": []
          }
        }
      ]
    },
    {
      "cell_type": "code",
      "metadata": {
        "id": "_M0hHUuQ-qYb",
        "colab_type": "code",
        "outputId": "cf05c59d-7687-43db-f65c-20b9f2680290",
        "colab": {
          "base_uri": "https://localhost:8080/",
          "height": 607
        }
      },
      "source": [
        "display_image(train_data[-1][0], train_data[-1][1])"
      ],
      "execution_count": 17,
      "outputs": [
        {
          "output_type": "display_data",
          "data": {
            "image/png": "[encoded data removed]",
            "text/plain": [
              "<Figure size 864x720 with 1 Axes>"
            ]
          },
          "metadata": {
            "tags": []
          }
        }
      ]
    },
    {
      "cell_type": "code",
      "metadata": {
        "colab_type": "code",
        "id": "Hoo3HmSLqBbd",
        "colab": {}
      },
      "source": [
        "#@title\n",
        "batch_Size = 64\n",
        "dataloader = DataLoader(train_data, batch_size = batch_Size, shuffle = True, num_workers = 0)\n",
        "valloader = DataLoader(val_data, batch_size = batch_Size, shuffle = True, num_workers = 0)\n",
        "testloader = DataLoader(test_data, batch_size = batch_Size, shuffle = True, num_workers = 0)\n",
        "train_loader = iter(dataloader)\n",
        "x,y = next(train_loader)"
      ],
      "execution_count": 0,
      "outputs": []
    },
    {
      "cell_type": "markdown",
      "metadata": {
        "id": "qkyIUp28HrrJ",
        "colab_type": "text"
      },
      "source": [
        "# Model description\n",
        "The neural network used to classify the images receives batches of 3x100x120 images. \n",
        "It consists of \n",
        "* two convolutional layers followed by max pooling \n",
        "* three fully connected layers"
      ]
    },
    {
      "cell_type": "code",
      "metadata": {
        "colab_type": "code",
        "id": "7ZHuALqxGmy9",
        "colab": {}
      },
      "source": [
        "class Net(nn.Module):\n",
        "  \n",
        "  def __init__(self):\n",
        "    super(Net, self).__init__()\n",
        "    self.conv1 = nn.Conv2d(3, 6, 5)\n",
        "    self.pool1 = nn.MaxPool2d(2)\n",
        "    self.conv2 = nn.Conv2d(6, 16, 4)\n",
        "    self.pool2 = nn.MaxPool2d(5)\n",
        "    self.fc1 = nn.Linear(16 * 9 * 11, 120)\n",
        "    self.fc2 = nn.Linear(120, 84)\n",
        "    self.fc3 = nn.Linear(84, 2)\n",
        "    self.drop = nn.Dropout(p = 0.5)\n",
        "  \n",
        "\n",
        "  def forward(self, x):\n",
        "    x = F.relu(self.conv1(x))\n",
        "    x = self.pool1(x)\n",
        "    x = F.relu(self.conv2(x))\n",
        "    x = self.pool2(x)\n",
        "    x = x.view(-1, self.num_flat_features(x)) # 16*9*11\n",
        "    x = self.drop(F.relu(self.fc1(x)))\n",
        "    x = self.drop(F.relu(self.fc2(x)))\n",
        "    x = self.fc3(x)\n",
        "    return x\n",
        "  \n",
        "  def num_flat_features(self, x):\n",
        "      size = x.size()[1:]  # all dimensions except the batch dimension\n",
        "      num_features = 1\n",
        "      for s in size:\n",
        "          num_features *= s\n",
        "      return num_features\n",
        "\n",
        "\n",
        "net = Net()\n",
        "criterion = nn.CrossEntropyLoss()\n",
        "optimizer = optim.Adam(net.parameters()) # , lr = 2e-4, eps=5e-7"
      ],
      "execution_count": 0,
      "outputs": []
    },
    {
      "cell_type": "code",
      "metadata": {
        "colab_type": "code",
        "id": "D5-jWYmoaViF",
        "outputId": "991526b1-4f75-44ea-edbf-5c9e30a5443a",
        "colab": {
          "base_uri": "https://localhost:8080/",
          "height": 170
        }
      },
      "source": [
        "max_epochs = 50\n",
        "converged = False\n",
        "epsilon = 0.0001\n",
        "\n",
        "def almost_equal(n1, n2, e): \n",
        "  return abs(n1-n2) < e\n",
        "\n",
        "def training_accuracy(network, loader): \n",
        "  with torch.no_grad(): \n",
        "    correct = 0\n",
        "    total = 0\n",
        "    for data in loader: \n",
        "      images, labels = data             \n",
        "      outputs = network(images)\n",
        "      _, predicted = torch.max(outputs.data, 1)\n",
        "      total += labels.size(0)\n",
        "      correct += (predicted == labels).sum().item()\n",
        "  return 100 * correct/total\n",
        "\n",
        "def validation_stats(network, loader, crit): \n",
        "  total_loss = 0\n",
        "  correct = 0\n",
        "  total = 0\n",
        "  with torch.no_grad(): \n",
        "    for data in loader: \n",
        "      images, labels = data             \n",
        "      outputs = network(images)\n",
        "      _, predicted = torch.max(outputs.data, 1)\n",
        "      total += labels.size(0)\n",
        "      correct += (predicted == labels).sum().item()\n",
        "      loss = criterion(outputs, labels)\n",
        "      total_loss += loss.item()\n",
        "\n",
        "  return (100 * correct/total, total_loss/len(loader.dataset))\n",
        "\n",
        "def network_has_converged(loss, e): \n",
        "  if (len(loss) < 3):\n",
        "    return False\n",
        "  else: \n",
        "    return (almost_equal(loss[-3], loss[-2], e) and \n",
        "            almost_equal(loss[-3], loss[-1], e) )\n",
        "          \n",
        "\n",
        "train_loss = []\n",
        "val_loss = []\n",
        "train_accuracy = []\n",
        "val_accuracy = []\n",
        "\n",
        "for epoch in range(max_epochs):  # loop over the dataset multiple times\n",
        "\n",
        "  running_loss = 0.0\n",
        "  if not converged: \n",
        "    for i, data in enumerate(dataloader, 0):\n",
        "      \n",
        "      # get the inputs; data is a list of [inputs, labels]\n",
        "      inputs, labels = data\n",
        "\n",
        "      # zero the parameter gradients\n",
        "      optimizer.zero_grad()\n",
        "\n",
        "      # forward + backward + optimize\n",
        "      outputs = net(inputs)\n",
        "      loss = criterion(outputs, labels)\n",
        "\n",
        "      loss.backward()\n",
        "      optimizer.step()\n",
        "\n",
        "      # plot loss \n",
        "      running_loss += loss.item()\n",
        "\n",
        "    \n",
        "    train_loss.append(running_loss/len(dataloader.dataset))\n",
        "    train_accuracy.append(training_accuracy(net, dataloader))\n",
        "    A, L = validation_stats(net, valloader, criterion)\n",
        "    val_loss.append(L)\n",
        "    val_accuracy.append(A)\n",
        "\n",
        "    print('Generation %d. training loss: %.4f,' \n",
        "          % (epoch + 1, train_loss[-1]), end = \"\")\n",
        "    print(\" training accuracy: %.2f \" % (train_accuracy[-1]), end = \"%,\")\n",
        "    print(\" validation loss: %.4f,\" % (val_loss[-1]), end = \" \")\n",
        "    print(\" validation accuracy: %.2f \" % (val_accuracy[-1]), end=\"% \\n\")    \n",
        "\n",
        "    converged = network_has_converged(train_loss, epsilon)\n",
        "      \n",
        "if (converged): \n",
        "  print (\"Network has converged.\")\n",
        "else: \n",
        "  print(\"Network hasn't been able to converge in \" + str(max_epochs) + \" generations.\")"
      ],
      "execution_count": 20,
      "outputs": [
        {
          "output_type": "stream",
          "text": [
            "Generation 1. training loss: 0.0097, training accuracy: 78.34 %, validation loss: 0.0080,  validation accuracy: 77.25 % \n",
            "Generation 2. training loss: 0.0028, training accuracy: 98.44 %, validation loss: 0.0010,  validation accuracy: 98.20 % \n",
            "Generation 3. training loss: 0.0006, training accuracy: 99.31 %, validation loss: 0.0008,  validation accuracy: 98.85 % \n",
            "Generation 4. training loss: 0.0003, training accuracy: 99.82 %, validation loss: 0.0003,  validation accuracy: 99.50 % \n",
            "Generation 5. training loss: 0.0002, training accuracy: 99.71 %, validation loss: 0.0007,  validation accuracy: 99.25 % \n",
            "Generation 6. training loss: 0.0001, training accuracy: 100.00 %, validation loss: 0.0001,  validation accuracy: 99.75 % \n",
            "Generation 7. training loss: 0.0001, training accuracy: 99.98 %, validation loss: 0.0001,  validation accuracy: 99.90 % \n",
            "Generation 8. training loss: 0.0000, training accuracy: 99.91 %, validation loss: 0.0001,  validation accuracy: 99.90 % \n",
            "Network has converged.\n"
          ],
          "name": "stdout"
        }
      ]
    },
    {
      "cell_type": "code",
      "metadata": {
        "id": "Ryn4L-Rn7E6s",
        "colab_type": "code",
        "outputId": "27947f69-9f68-4279-9528-84bac36086ef",
        "colab": {
          "base_uri": "https://localhost:8080/",
          "height": 623
        }
      },
      "source": [
        "plt.figure(figsize = FIGSIZE)\n",
        "x_scale = np.linspace(0, len(train_loss)- 1, len(train_loss) )\n",
        "_ = plt.plot(x_scale, train_loss)\n",
        "_ = plt.plot(x_scale, val_loss)\n",
        "plt.legend([\"Loss on the training set\", \"Loss on the validation set\"])\n",
        "plt.xlabel(\"Number of generations\")\n",
        "plt.ylabel(\"Evaluation of the loss function\")"
      ],
      "execution_count": 21,
      "outputs": [
        {
          "output_type": "execute_result",
          "data": {
            "text/plain": [
              "Text(0, 0.5, 'Evaluation of the loss function')"
            ]
          },
          "metadata": {
            "tags": []
          },
          "execution_count": 21
        },
        {
          "output_type": "display_data",
          "data": {
            "image/png": "[encoded data removed]",
            "text/plain": [
              "<Figure size 864x720 with 1 Axes>"
            ]
          },
          "metadata": {
            "tags": []
          }
        }
      ]
    },
    {
      "cell_type": "code",
      "metadata": {
        "id": "rcKq6Gw4erkC",
        "colab_type": "code",
        "outputId": "f81862e3-b034-4624-cf0e-ca4fd408c094",
        "colab": {
          "base_uri": "https://localhost:8080/",
          "height": 623
        }
      },
      "source": [
        "plt.figure(figsize = FIGSIZE)\n",
        "x_scale = np.linspace(0, len(train_accuracy)- 1, len(train_accuracy) )\n",
        "_ = plt.plot(x_scale, train_accuracy)\n",
        "_ = plt.plot(x_scale, val_accuracy)\n",
        "plt.legend([\"Training accuracy\", \"Validation accuracy\"])\n",
        "plt.xlabel(\"Number of generations\")\n",
        "plt.ylabel(\"Accuracy \")"
      ],
      "execution_count": 22,
      "outputs": [
        {
          "output_type": "execute_result",
          "data": {
            "text/plain": [
              "Text(0, 0.5, 'Accuracy ')"
            ]
          },
          "metadata": {
            "tags": []
          },
          "execution_count": 22
        },
        {
          "output_type": "display_data",
          "data": {
            "image/png": "[encoded data removed]",
            "text/plain": [
              "<Figure size 864x720 with 1 Axes>"
            ]
          },
          "metadata": {
            "tags": []
          }
        }
      ]
    },
    {
      "cell_type": "code",
      "metadata": {
        "colab_type": "code",
        "id": "CSoLjUOliRxh",
        "colab": {}
      },
      "source": [
        "def test(loader):\n",
        "  correct = 0\n",
        "  total = 0\n",
        "  wrong_im = []\n",
        "  wrong_label = []\n",
        "  wrongly_predicted_label = []\n",
        "\n",
        "  with torch.no_grad():\n",
        "      for data in loader:\n",
        "          images, labels = data\n",
        "\n",
        "          outputs = net(images)\n",
        "          _, predicted = torch.max(outputs.data, 1)\n",
        "          total += labels.size(0)\n",
        "          correct += (predicted == labels).sum().item()\n",
        "          k = 0\n",
        "          for truth in (predicted == labels): \n",
        "            if not truth: \n",
        "              wrong_im.append(images[k])\n",
        "              wrong_label.append(int(labels[k]))\n",
        "              wrongly_predicted_label.append(int(predicted[k]))\n",
        "            k += 1\n",
        "          \n",
        "          \n",
        "\n",
        "  print(\"Accuracy of the network on the \" + str(total) + ' test images: %.3f %%' % (\n",
        "      100 * correct / total))\n",
        "\n",
        "  print(\"Number of mistakes : \" +str(total-correct))\n",
        "  return wrong_im, wrong_label, wrongly_predicted_label"
      ],
      "execution_count": 0,
      "outputs": []
    },
    {
      "cell_type": "code",
      "metadata": {
        "id": "ckHXawr_gPs7",
        "colab_type": "code",
        "colab": {
          "base_uri": "https://localhost:8080/",
          "height": 51
        },
        "outputId": "a582d7d2-ba16-4566-e306-ef67223eb404"
      },
      "source": [
        "wi, wl, wpl = test(testloader)\n",
        "index = 0"
      ],
      "execution_count": 37,
      "outputs": [
        {
          "output_type": "stream",
          "text": [
            "Accuracy of the network on the 4000 test images: 99.700 %\n",
            "Number of mistakes : 12\n"
          ],
          "name": "stdout"
        }
      ]
    },
    {
      "cell_type": "code",
      "metadata": {
        "colab_type": "code",
        "id": "_2qbFlsY0EY3",
        "colab": {
          "base_uri": "https://localhost:8080/",
          "height": 641
        },
        "outputId": "7747992b-2778-4f1b-dc62-fd8dd5b53050"
      },
      "source": [
        "if index in range(len(wi)):\n",
        "  display_image(wi[index], wl[index], wpl[index])\n",
        "  outputs = net(wi[index].unsqueeze(0)).data\n",
        "  print(\"Score for predicted label: \", outputs.numpy()[0][wpl[index]])\n",
        "  print(\"Score for true label: \", outputs.numpy()[0][wl[index]])\n",
        "  index += 1"
      ],
      "execution_count": 38,
      "outputs": [
        {
          "output_type": "stream",
          "text": [
            "Score for predicted label:  1.5324535\n",
            "Score for true label:  -1.6174943\n"
          ],
          "name": "stdout"
        },
        {
          "output_type": "display_data",
          "data": {
            "image/png": "[encoded data removed]",
            "text/plain": [
              "<Figure size 864x720 with 1 Axes>"
            ]
          },
          "metadata": {
            "tags": []
          }
        }
      ]
    },
    {
      "cell_type": "code",
      "metadata": {
        "id": "1u0zjyeN2AYr",
        "colab_type": "code",
        "colab": {}
      },
      "source": [
        "index = 0"
      ],
      "execution_count": 0,
      "outputs": []
    },
    {
      "cell_type": "code",
      "metadata": {
        "id": "_XbkmjG-Vw0p",
        "colab_type": "code",
        "outputId": "decf6007-bb2f-4773-ad38-1d7b5cdeb5ae",
        "colab": {
          "base_uri": "https://localhost:8080/",
          "height": 51
        }
      },
      "source": [
        "save = input(\"Overwrite current state dictionnary ? [y/n]\")\n",
        "if (save == 'y'): \n",
        "  torch.save(net.state_dict(), 'drive/My Drive/Interpretability/model4_random.pth')\n",
        "  print(\"State dictionnary saved.\")\n",
        "else: \n",
        "  print(\"State dictionnary has not been saved.\")"
      ],
      "execution_count": 27,
      "outputs": [
        {
          "output_type": "stream",
          "text": [
            "Overwrite current state dictionnary ? [y/n]y\n",
            "State dictionnary saved.\n"
          ],
          "name": "stdout"
        }
      ]
    }
  ]
}