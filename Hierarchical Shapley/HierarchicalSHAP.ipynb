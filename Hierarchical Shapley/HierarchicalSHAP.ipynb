{
  "nbformat": 4,
  "nbformat_minor": 0,
  "metadata": {
    "colab": {
      "name": "HierarchicalSHAP.ipynb",
      "provenance": []
    },
    "kernelspec": {
      "name": "python3",
      "display_name": "Python 3"
    }
  },
  "cells": [
    {
      "cell_type": "markdown",
      "metadata": {
        "id": "XYsKAelsK2ce",
        "colab_type": "text"
      },
      "source": [
        "# Hierarchical SHAP\n",
        "\n",
        "This notebook contains code and examples for a hierarchical implementation of Shapley coefficients evaluation for images, with a fixed size of features per layer.\n",
        "\n"
      ]
    },
    {
      "cell_type": "code",
      "metadata": {
        "id": "r-HlXjjub4NG",
        "colab_type": "code",
        "colab": {
          "base_uri": "https://localhost:8080/",
          "height": 238
        },
        "outputId": "be9457d4-4045-495e-fc16-6714eda21289"
      },
      "source": [
        "#IMPORTS\n",
        "from scipy.special import comb\n",
        "from itertools import permutations\n",
        "from functools import reduce\n",
        "import time\n",
        "import numpy as np\n",
        "import torch \n",
        "from torchvision.datasets import ImageFolder\n",
        "from torchvision.transforms import Resize, ToTensor, Normalize\n",
        "from torchvision import transforms\n",
        "import matplotlib.pyplot as plt\n",
        "import seaborn as sns\n",
        "import zipfile\n",
        "import os\n",
        "from torch.utils.data import DataLoader\n",
        "from google.colab import drive\n",
        "drive.mount('/content/drive/')\n",
        "\n",
        "#INSTALL SHAP\n",
        "!pip install shap\n",
        "import shap\n",
        "\n",
        "#IMPORT UTILS\n",
        "!wget https://raw.githubusercontent.com/JacopoTeneggi/Interpretability/master/Utils/utils.py -P local_modules -nc\n",
        "import local_modules.utils as Utils"
      ],
      "execution_count": 13,
      "outputs": [
        {
          "output_type": "stream",
          "text": [
            "Drive already mounted at /content/drive/; to attempt to forcibly remount, call drive.mount(\"/content/drive/\", force_remount=True).\n",
            "Requirement already satisfied: shap in /usr/local/lib/python3.6/dist-packages (0.35.0)\n",
            "Requirement already satisfied: pandas in /usr/local/lib/python3.6/dist-packages (from shap) (1.0.5)\n",
            "Requirement already satisfied: scikit-learn in /usr/local/lib/python3.6/dist-packages (from shap) (0.22.2.post1)\n",
            "Requirement already satisfied: numpy in /usr/local/lib/python3.6/dist-packages (from shap) (1.18.5)\n",
            "Requirement already satisfied: tqdm>4.25.0 in /usr/local/lib/python3.6/dist-packages (from shap) (4.41.1)\n",
            "Requirement already satisfied: scipy in /usr/local/lib/python3.6/dist-packages (from shap) (1.4.1)\n",
            "Requirement already satisfied: pytz>=2017.2 in /usr/local/lib/python3.6/dist-packages (from pandas->shap) (2018.9)\n",
            "Requirement already satisfied: python-dateutil>=2.6.1 in /usr/local/lib/python3.6/dist-packages (from pandas->shap) (2.8.1)\n",
            "Requirement already satisfied: joblib>=0.11 in /usr/local/lib/python3.6/dist-packages (from scikit-learn->shap) (0.16.0)\n",
            "Requirement already satisfied: six>=1.5 in /usr/local/lib/python3.6/dist-packages (from python-dateutil>=2.6.1->pandas->shap) (1.15.0)\n",
            "File ‘local_modules/utils.py’ already there; not retrieving.\n",
            "\n"
          ],
          "name": "stdout"
        }
      ]
    },
    {
      "cell_type": "markdown",
      "metadata": {
        "id": "-UTR7D2HLOLV",
        "colab_type": "text"
      },
      "source": [
        "## Load the model\n",
        "\n",
        "This pre-trained model detects the presence of a cross in the image. If the cross is detected, the image is labeled with a ```1```, with a ```0``` otherwhise."
      ]
    },
    {
      "cell_type": "code",
      "metadata": {
        "id": "08fVTDIfyPv_",
        "colab_type": "code",
        "colab": {
          "base_uri": "https://localhost:8080/",
          "height": 68
        },
        "outputId": "b22dba5a-3746-4db9-cc0e-3962481819ca"
      },
      "source": [
        "#LOAD PRE-TRAINED-NETWORK\n",
        "model = Utils.Net()\n",
        "model.load_state_dict(torch.load('drive/My Drive/Interpretability/model2.pth')) \n",
        "model.eval()\n",
        "\n",
        "MEAN, STD = np.array([0.5, 0.5, 0.5]), np.array([0.5, 0.5, 0.5])\n",
        "transf = transforms.Compose([ToTensor(), Normalize(mean=MEAN, std=STD)])\n",
        "\n",
        "# LOAD TRAIN DATA\n",
        "data = zipfile.ZipFile(\"/content/drive/My Drive/Interpretability/5000/data2/data.zip\", 'r')\n",
        "train_data_dir = \"train_data_dir\"\n",
        "data.extractall(train_data_dir)\n",
        "data.close()\n",
        "train_batch_size = 64\n",
        "train_data = ImageFolder(root = os.path.join(train_data_dir, 'train'), transform = transf)\n",
        "dataloader = DataLoader(train_data, batch_size = train_batch_size, shuffle = True, num_workers = 0)\n",
        "train_loader = iter(dataloader)\n",
        "X, Y = next(train_loader)\n",
        "background = torch.mean(X, dim = 0)\n",
        "background.detach()\n",
        "print(background.shape)\n",
        "\n",
        "# LOAD EXAMPLE IMAGES\n",
        "ImF = ImageFolder(root = \"/content/drive/My Drive/Interpretability/img4saliencymap/data2\", transform = transf)\n",
        "example_batch_size = 2\n",
        "exloader = DataLoader(ImF, batch_size = example_batch_size, shuffle = False, num_workers = 0)\n",
        "exIter = iter(exloader)\n",
        "images, labels = next(exIter)\n",
        "\n",
        "# LABEL = 0\n",
        "image0 = images[0]\n",
        "label0 = labels[0]\n",
        "input0 = image0.view(-1, 3, 100, 120)\n",
        "output0 = model(input0)\n",
        "print(output0)\n",
        "\n",
        "# LABEL = 1\n",
        "image1 = images[1]\n",
        "label1 = labels[1]\n",
        "input1 = image1.view(-1, 3, 100, 120)\n",
        "output1 = model(input1)\n",
        "print(output1)"
      ],
      "execution_count": 14,
      "outputs": [
        {
          "output_type": "stream",
          "text": [
            "torch.Size([3, 100, 120])\n",
            "tensor([[ 11.1314, -13.0076]], grad_fn=<AddmmBackward>)\n",
            "tensor([[-79.0918,  88.0700]], grad_fn=<AddmmBackward>)\n"
          ],
          "name": "stdout"
        }
      ]
    },
    {
      "cell_type": "code",
      "metadata": {
        "id": "Wi790Vcj4BUL",
        "colab_type": "code",
        "colab": {}
      },
      "source": [
        "# GLOBAL STAT VARIABLES\n",
        "computed = 0\n",
        "rejected = 0\n",
        "\n",
        "class HierarchicalSHAPNode:\n",
        "\n",
        "  def __init__(self, depth, M, features, masks, path = None, score = None):\n",
        "    self.depth = depth\n",
        "    self.M = M\n",
        "    self.features = features\n",
        "    self.masks = masks\n",
        "    self.path = path\n",
        "    self.score = score\n",
        "\n",
        "  def computeShap(self, feature, predictions):\n",
        "    feature_index = np.where(feature == 1)\n",
        "    subset_indices = np.where(self.masks[:, feature_index[0][0]] == 0)\n",
        "    subset = self.masks[subset_indices]\n",
        "    added_subset = [np.add(sub, feature) for sub in subset] \n",
        "    deltas = np.array(list(zip(added_subset, subset)))\n",
        "    diffs = [1/comb(self.M - 1, np.sum(b)) * (predictions[self.mask2str(a)] - predictions[self.mask2str(b)]) for a, b in deltas]\n",
        "    phi = np.sum(diffs) / self.M\n",
        "    return phi.detach().numpy()\n",
        "\n",
        "  def mask2path(self, mask):\n",
        "    if self.path is None:\n",
        "      return [mask]\n",
        "    else:\n",
        "      return np.concatenate((self.path, mask))\n",
        "  \n",
        "  def mask2str(self, mask):\n",
        "    return reduce(lambda a, b: str(a) + str(b), mask.astype(int)) \n",
        "\n",
        "  def str2mask(self, string):\n",
        "    L = len(string) \n",
        "    mask = np.empty((L,))\n",
        "    for i in range(L):\n",
        "      mask[i] = int(string[i])\n",
        "    return mask\n",
        "  \n",
        "  def pathMaskCoordinates(self, path, startRow = 0, endRow = 100, startColumn = 0, endColumn = 120):\n",
        "    if path is not None:\n",
        "      for layer in path:\n",
        "        w = endColumn - startColumn\n",
        "        h = endRow - startRow\n",
        "        feature_index = np.where(layer == 1)[0]\n",
        "        if feature_index == 0:\n",
        "          endRow = startRow + h / 2\n",
        "          endColumn = startColumn + w / 2\n",
        "        elif feature_index == 1:\n",
        "          endRow = startRow + h / 2\n",
        "          startColumn += w / 2\n",
        "        elif feature_index == 2:\n",
        "          startRow += h / 2\n",
        "          endColumn = startColumn + w / 2\n",
        "        elif feature_index == 3:\n",
        "          startRow += h / 2\n",
        "          startColumn += w / 2\n",
        "    return int(startRow), int(endRow), int(startColumn), int(endColumn)\n",
        "  \n",
        "  def maskInput(self, mask, rootInput, startRow, endRow, startColumn, endColumn, background):\n",
        "    w = endColumn - startColumn\n",
        "    h = endRow - startRow\n",
        "    maskedInput = rootInput.clone();\n",
        "    maskIndices = np.where(mask == 0)[0]\n",
        "    for index in maskIndices:\n",
        "      maskStartRow = startRow\n",
        "      maskEndRow = endRow\n",
        "      maskStartColumn = startColumn\n",
        "      maskEndColumn = endColumn\n",
        "      if index == 0:\n",
        "        maskEndRow = startRow + h / 2\n",
        "        maskEndColumn = startColumn + w / 2\n",
        "      elif index == 1:\n",
        "        maskEndRow = startRow + h / 2\n",
        "        maskStartColumn += w / 2\n",
        "      elif index == 2:\n",
        "        maskStartRow += h / 2\n",
        "        maskEndColumn = startColumn + w / 2\n",
        "      elif index == 3:\n",
        "        maskStartRow += h / 2\n",
        "        maskStartColumn += w / 2\n",
        "      maskStartRow = int(maskStartRow)\n",
        "      maskEndRow = int(maskEndRow)\n",
        "      maskStartColumn = int(maskStartColumn)\n",
        "      maskEndColumn = int(maskEndColumn)\n",
        "      maskedInput[:, maskStartRow:maskEndRow+1, maskStartColumn:maskEndColumn+1] = background[:, maskStartRow:maskEndRow+1, maskStartColumn:maskEndColumn+1]\n",
        "    maskedInput = maskedInput.view(-1, 3, 100, 120)\n",
        "    return maskedInput\n",
        "\n",
        "  def rootPathInput(self, path, input, background, w = 120, h = 100):\n",
        "    startRow, endRow, startColumn, endColumn = self.pathMaskCoordinates(path, 0, h, 0, w)\n",
        "    rootInput = background.clone()\n",
        "    rootInput[:, startRow:endRow+1, startColumn:endColumn+1] = input[:, startRow:endRow+1, startColumn:endColumn+1]\n",
        "    return rootInput, startRow, endRow, startColumn, endColumn\n",
        "  \n",
        "  def nodeScores(self, model, input, background, label, threshold, minW, minH):\n",
        "    # \n",
        "    rootInput, startRow, endRow, startColumn, endColumn = self.rootPathInput(self.path, input, background)\n",
        "    rootw = endColumn - startColumn\n",
        "    rooth = endRow - startRow\n",
        "    # Stop when it reaches the deepest layer and return current node\n",
        "    if (rootw < minW) or (rooth < minH):\n",
        "      return self\n",
        "    # If not, go down another level and compute shap coefficients for features\n",
        "    predictions = {self.mask2str(mask): model(self.maskInput(mask, rootInput, startRow, endRow, startColumn, endColumn, background))[:, label] for mask in self.masks}\n",
        "    phis = {self.mask2str(feature): self.computeShap(feature, predictions) for feature in self.features}\n",
        "\n",
        "    # Update number of computed features\n",
        "    global computed\n",
        "    computed += self.M\n",
        "\n",
        "    # Convert SHAP dictionary to lists -> TODO: evaluate wether SHAP dictionary is necessary\n",
        "    values = np.fromiter(phis.values(), dtype=float)\n",
        "    keys = list(phis.keys())\n",
        "\n",
        "    # Identify relevant features\n",
        "    relevantIndices = np.where(values > threshold)[0]\n",
        "\n",
        "    # Update number of rejected features\n",
        "    global rejected\n",
        "    rejected += self.M - len(relevantIndices)\n",
        "\n",
        "    # Initialize children and recursively compute SHAP values\n",
        "    children = []\n",
        "    for relevantIndex in relevantIndices:\n",
        "      childPath = np.array([self.str2mask(keys[relevantIndex])])\n",
        "      if self.path is not None:\n",
        "        childPath = np.concatenate((self.path, childPath))\n",
        "      child = HierarchicalSHAPNode(self.depth + 1, self.M, self.features, self.masks, path = childPath, score = values[relevantIndex])\n",
        "      children.append(child.nodeScores(model, input, background, label, threshold, minW, minH))\n",
        "    return children\n",
        "\n",
        "class HierarchicalSHAPExplainer:\n",
        "\n",
        "  def __init__(self, model, background, M):\n",
        "    self.M = M\n",
        "    self.MEAN = np.array([0.5, 0.5, 0.5])\n",
        "    self.STD = np.array([0.5, 0.5, 0.5])\n",
        "    self.input = input\n",
        "    self.background = background\n",
        "    self.masks = self.generateMasks() \n",
        "    self.features = np.identity(self.M, dtype=np.bool).reshape((self.M, self.M))\n",
        "\n",
        "  def generateMasks(self):\n",
        "    masks = np.ones((1,self.M), dtype=np.bool) # initialize masks array with all features on -> no need to compute permutations fro |S| = M\n",
        "    for i in range(self.M):\n",
        "      s = np.zeros(self.M, dtype=np.bool)\n",
        "      s[0:i] = 1\n",
        "      p = permutations(s)\n",
        "      a = np.array(list(set(p)))\n",
        "      masks = np.concatenate((masks, a))\n",
        "    return masks\n",
        "\n",
        "  def flatten(self, l):\n",
        "    for el in l:\n",
        "      if isinstance(el, list) and not isinstance(el, (str, bytes)):\n",
        "        yield from flatten(el)\n",
        "      else:\n",
        "        yield el\n",
        "\n",
        "  def addNodeMask(node, map):\n",
        "    startRow, endRow, startColumn, endColumn = node.pathMaskCoordinates(node.path)\n",
        "    map[startRow:endRow+1, startColumn:endColumn+1] = node.score\n",
        "\n",
        "  def explain(self, input, background, label = None, threshold = 0, minW = 2, minH = 2):\n",
        "    global computed\n",
        "    computed = 0\n",
        "    global rejected \n",
        "    rejected = 0\n",
        "    mainNode = HierarchicalSHAPNode(0, 4, self.features, self.masks, score = 1)\n",
        "    nodes = mainNode.nodeScores(model, input, background, label, threshold, minW, minH)\n",
        "\n",
        "    flatnodes = list(flatten(nodes))\n",
        "    saliency_map = np.zeros((100, 120))\n",
        "    for node in flatnodes:\n",
        "      addNodeMask(node, saliency_map)\n",
        "\n",
        "    fix, (ax1, ax2) = plt.subplots(1, 2)\n",
        "    im = Utils.input2image(input, MEAN, STD)\n",
        "    ax1.imshow(im)\n",
        "    ax1.set_title(\"Input image\")\n",
        "    ax2.imshow(saliency_map)\n",
        "    ax2.set_title(\"Saliency map\")\n",
        "    return saliency_map\n",
        "\n",
        "# Initialize explainer\n",
        "explainer = HierarchicalSHAPExplainer(model, background, 4)"
      ],
      "execution_count": 25,
      "outputs": []
    },
    {
      "cell_type": "code",
      "metadata": {
        "id": "6VpZ_j1u-Q-N",
        "colab_type": "code",
        "colab": {
          "base_uri": "https://localhost:8080/",
          "height": 242
        },
        "outputId": "5fdace5c-626b-4ab4-9878-019916ffc7a8"
      },
      "source": [
        "# EXPLAIN IMAGE 1\n",
        "t0 = time.time()\n",
        "print(\"STARTED EXPLAINING IMAGE 1 @\", t0, \"s\")\n",
        "threshold = 0\n",
        "minW = 2\n",
        "minH = 2\n",
        "saliency_map = explainer.explain(image1, background, label = 1, threshold = threshold, minW = minW, minH = H)\n",
        "tf = time.time()\n",
        "print(\"Computed\", computed ,\"features out of\", 100*120, \"pixels (\", round(computed/120, 2), \"%) in\", round((tf -t0) * 1000, 3), \"ms ->\", round(((tf-t0)*1000)/computed, 3), \"ms per feature\")\n",
        "print(\"Rejected\", rejected, \"features (\", round(rejected/computed*100, 2), \"%) @ threshold =\", threshold)"
      ],
      "execution_count": 26,
      "outputs": [
        {
          "output_type": "stream",
          "text": [
            "STARTED EXPLAINING IMAGE 1 @ 1596658724.6874287 s\n",
            "Computed 1752 features out of 12000 pixels ( 14.6 %) in 15653.261 ms -> 8.935 ms per feature\n",
            "Rejected 586 features ( 33.45 %) @ threshold = 0\n"
          ],
          "name": "stdout"
        },
        {
          "output_type": "display_data",
          "data": {
            "image/png": "[encoded data removed]",
            "text/plain": [
              "<Figure size 432x288 with 2 Axes>"
            ]
          },
          "metadata": {
            "tags": [],
            "needs_background": "light"
          }
        }
      ]
    },
    {
      "cell_type": "code",
      "metadata": {
        "id": "7x5KLbbuQUba",
        "colab_type": "code",
        "colab": {
          "base_uri": "https://localhost:8080/",
          "height": 242
        },
        "outputId": "bde09a99-144b-4026-b180-49d7ab281442"
      },
      "source": [
        "# EXPLAIN IMAGE 0\n",
        "t0 = time.time()\n",
        "print(\"STARTED EXPLAINING IMAGE 0 @\", t0, \"s\")\n",
        "saliency_map = explainer.explain(image0, background, label = 0)\n",
        "tf = time.time()\n",
        "print(\"Computed\", computed ,\"features out of\", 100*120, \"pixels (\", round(computed/120, 2), \"%) in\", round((tf -t0) * 1000, 3), \"ms ->\", round(((tf-t0)*1000)/computed, 3), \"ms per feature\")\n",
        "print(\"Rejected\", rejected, \"features (\", round(rejected/computed*100, 2), \"%) @ threshold =\", threshold)"
      ],
      "execution_count": 27,
      "outputs": [
        {
          "output_type": "stream",
          "text": [
            "STARTED EXPLAINING IMAGE 0 @ 1596658942.8207324 s\n",
            "Computed 996 features out of 12000 pixels ( 8.3 %) in 9025.578 ms -> 9.062 ms per feature\n",
            "Rejected 588 features ( 59.04 %) @ threshold = 0\n"
          ],
          "name": "stdout"
        },
        {
          "output_type": "display_data",
          "data": {
            "image/png": "[encoded data removed]",
            "text/plain": [
              "<Figure size 432x288 with 2 Axes>"
            ]
          },
          "metadata": {
            "tags": [],
            "needs_background": "light"
          }
        }
      ]
    }
  ]
}