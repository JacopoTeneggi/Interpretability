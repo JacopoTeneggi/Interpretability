{
 "cells": [
  {
   "cell_type": "code",
   "execution_count": 6,
   "metadata": {},
   "outputs": [
    {
     "name": "stdout",
     "output_type": "stream",
     "text": [
      "[[1.0000e+00 0.0000e+00 0.0000e+00 2.0000e+00]\n",
      " [4.0000e+00 3.0000e+00 0.0000e+00 2.0000e+00]\n",
      " [7.0000e+00 6.0000e+00 0.0000e+00 2.0000e+00]\n",
      " ...\n",
      " [7.1994e+04 7.1992e+04 0.0000e+00 1.8000e+04]\n",
      " [7.1995e+04 7.1993e+04 0.0000e+00 1.8000e+04]\n",
      " [7.1997e+04 7.1996e+04 0.0000e+00 3.6000e+04]]\n"
     ]
    },
    {
     "data": {
      "image/png": "[encoded data removed]",
      "text/plain": [
       "<Figure size 432x288 with 1 Axes>"
      ]
     },
     "metadata": {
      "needs_background": "light"
     },
     "output_type": "display_data"
    }
   ],
   "source": [
    "import matplotlib.pyplot as plt\n",
    "from shap.maskers import Image as ImageMasker\n",
    "import numpy as np\n",
    "\n",
    "class TensorImageMasker(ImageMasker):\n",
    "    def __init__(self, mask, shape=None):\n",
    "        super().__init__(mask, shape)\n",
    "    \n",
    "    def __call__(self, mask, x):\n",
    "        x = x.cpu().numpy()\n",
    "        # print(\"masker\", x.shape)\n",
    "        masked_x = super().__call__(mask, x)\n",
    "        return masked_x\n",
    "\n",
    "shape = (100, 120, 3)\n",
    "M = np.prod(shape)\n",
    "masker = TensorImageMasker(\"inpaint_telea\", shape)   \n",
    "plt.plot(masker.clustering[:, 3])\n",
    "plt.yscale(\"log\")\n",
    "print(masker.clustering)"
   ]
  },
  {
   "cell_type": "code",
   "execution_count": 8,
   "metadata": {},
   "outputs": [
    {
     "name": "stdout",
     "output_type": "stream",
     "text": [
      "71998 36000\n",
      "71997 71996\n"
     ]
    }
   ],
   "source": [
    "out_shape = (2*masker.clustering.shape[0]+1,)\n",
    "dvalues = np.zeros(out_shape)\n",
    "ind = len(dvalues)-1\n",
    "print(ind, M)\n",
    "# get the left and right children of this cluster\n",
    "lind = int(masker.clustering[ind-M, 0]) if ind >= M else -1\n",
    "rind = int(masker.clustering[ind-M, 1]) if ind >= M else -1\n",
    "print(lind, rind)"
   ]
  },
  {
   "cell_type": "code",
   "execution_count": 3,
   "metadata": {},
   "outputs": [
    {
     "data": {
      "text/plain": [
       "48"
      ]
     },
     "execution_count": 3,
     "metadata": {},
     "output_type": "execute_result"
    }
   ],
   "source": [
    "100 // 2 - 2"
   ]
  },
  {
   "cell_type": "code",
   "execution_count": null,
   "metadata": {},
   "outputs": [],
   "source": []
  }
 ],
 "metadata": {
  "kernelspec": {
   "display_name": "Python 3",
   "language": "python",
   "name": "python3"
  },
  "language_info": {
   "codemirror_mode": {
    "name": "ipython",
    "version": 3
   },
   "file_extension": ".py",
   "mimetype": "text/x-python",
   "name": "python",
   "nbconvert_exporter": "python",
   "pygments_lexer": "ipython3",
   "version": "3.8.5"
  }
 },
 "nbformat": 4,
 "nbformat_minor": 4
}
