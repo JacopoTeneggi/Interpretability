{
  "nbformat": 4,
  "nbformat_minor": 0,
  "metadata": {
    "accelerator": "GPU",
    "colab": {
      "name": "Data_analysis3_random.ipynb",
      "provenance": [],
      "collapsed_sections": [],
      "include_colab_link": true
    },
    "kernelspec": {
      "name": "python3",
      "display_name": "Python 3"
    },
    "language_info": {
      "codemirror_mode": {
        "name": "ipython",
        "version": 3
      },
      "file_extension": ".py",
      "mimetype": "text/x-python",
      "name": "python",
      "nbconvert_exporter": "python",
      "pygments_lexer": "ipython3",
      "version": "3.7.3"
    }
  },
  "cells": [
    {
      "cell_type": "markdown",
      "metadata": {
        "id": "view-in-github",
        "colab_type": "text"
      },
      "source": [
        "<a href=\"https://colab.research.google.com/github/lustea0201/Interpretability/blob/master/Data_analysis3_random.ipynb\" target=\"_parent\"><img src=\"https://colab.research.google.com/assets/colab-badge.svg\" alt=\"Open In Colab\"/></a>"
      ]
    },
    {
      "cell_type": "markdown",
      "metadata": {
        "id": "1uv-An0P9QTD",
        "colab_type": "text"
      },
      "source": [
        "# Importing the third dataset (noisy version)"
      ]
    },
    {
      "cell_type": "code",
      "metadata": {
        "colab_type": "code",
        "id": "h4NeSToBbJMn",
        "outputId": "ea1aa834-f9b6-4355-a968-a73a8cb559b4",
        "colab": {
          "base_uri": "https://localhost:8080/",
          "height": 124
        }
      },
      "source": [
        "#@title\n",
        "import zipfile\n",
        "import io\n",
        "import cv2\n",
        "import glob \n",
        "import numpy as np\n",
        "import random \n",
        "import torch \n",
        "from torchvision.datasets import ImageFolder\n",
        "from torch.utils.data import DataLoader\n",
        "from torchvision.transforms import ToTensor, Normalize\n",
        "from torchvision import transforms\n",
        "import os\n",
        "import matplotlib.pyplot as plt\n",
        "import numpy as np\n",
        "import torch.nn as nn\n",
        "import torch.nn.functional as F\n",
        "import torch.optim as optim\n",
        "from google.colab import drive\n",
        "\n",
        "torch.manual_seed(0) # Reproducible, for now \n",
        "\n",
        "FIGSIZE = (12,10)\n",
        "\n",
        "!rm -rf main_dir\n",
        "!rm -rf data.zip\n",
        "\n",
        "drive.mount('/content/drive/')\n",
        "data = zipfile.ZipFile(\"/content/drive/My Drive/Interpretability/3000/data3/random.zip\", 'r')\n",
        "\n",
        "root_dir = \"main_dir\"\n",
        "data.extractall(root_dir)\n",
        "data.close()"
      ],
      "execution_count": 1,
      "outputs": [
        {
          "output_type": "stream",
          "text": [
            "Go to this URL in a browser: https://accounts.google.com/o/oauth2/auth?client_id=947318989803-6bn6qk8qdgf4n4g3pfee6491hc0brc4i.apps.googleusercontent.com&redirect_uri=urn%3aietf%3awg%3aoauth%3a2.0%3aoob&response_type=code&scope=email%20https%3a%2f%2fwww.googleapis.com%2fauth%2fdocs.test%20https%3a%2f%2fwww.googleapis.com%2fauth%2fdrive%20https%3a%2f%2fwww.googleapis.com%2fauth%2fdrive.photos.readonly%20https%3a%2f%2fwww.googleapis.com%2fauth%2fpeopleapi.readonly\n",
            "\n",
            "Enter your authorization code:\n",
            "··········\n",
            "Mounted at /content/drive/\n"
          ],
          "name": "stdout"
        }
      ]
    },
    {
      "cell_type": "code",
      "metadata": {
        "colab_type": "code",
        "id": "vAf1Fk2IbguJ",
        "colab": {}
      },
      "source": [
        "transf = transforms.Compose( [ToTensor(), \n",
        "                                  Normalize(mean=(0.5, 0.5, 0.5), std=(0.5, 0.5, 0.5))])\n",
        "\n",
        "\n",
        "train_data = ImageFolder(root = os.path.join(root_dir, 'train'), transform = transf)\n",
        "\n",
        "val_data = ImageFolder(root = os.path.join(root_dir, 'val'), transform = transf)\n",
        "\n",
        "test_data = ImageFolder(root = os.path.join(root_dir, 'test'), transform = transf)\n",
        "\n",
        "idx_to_class = {j:i for i,j in train_data.class_to_idx.items()}\n"
      ],
      "execution_count": 0,
      "outputs": []
    },
    {
      "cell_type": "markdown",
      "metadata": {
        "id": "rZbOwxII9bcn",
        "colab_type": "text"
      },
      "source": [
        "# Dataset description \n",
        "\n",
        "\n",
        "*   Label 0: the image doesn't contain any shape \n",
        "*   Label 1: the image contains at least one shape \n",
        "Here are two examples: \n",
        "\n"
      ]
    },
    {
      "cell_type": "code",
      "metadata": {
        "colab_type": "code",
        "id": "cSTJr4lCmYaB",
        "outputId": "9828782f-82ef-4dda-b58f-167f0fa37311",
        "colab": {
          "base_uri": "https://localhost:8080/",
          "height": 607
        }
      },
      "source": [
        "#@title\n",
        "def display_image(image, true_label, predicted_label = None): \n",
        "  plt.figure(figsize = FIGSIZE)\n",
        "  sample_image = image.numpy().transpose(1,2,0)\n",
        "  mean = np.array([0.5, 0.5, 0.5])\n",
        "  sd = np.array([0.5, 0.5, 0.5])\n",
        "  im = sample_image*sd + mean\n",
        "  plt.imshow(im)\n",
        "  title_ = \"True label : \" + idx_to_class[true_label]\n",
        "  \n",
        "  if (predicted_label != None):\n",
        "    title_ += \"/ Predicted : \" + idx_to_class[predicted_label]\n",
        "\n",
        "\n",
        "  plt.title(title_)\n",
        "\n",
        "display_image(train_data[0][0], train_data[0][1])"
      ],
      "execution_count": 3,
      "outputs": [
        {
          "output_type": "display_data",
          "data": {
            "image/png": "[encoded data removed]",
            "text/plain": [
              "<Figure size 864x720 with 1 Axes>"
            ]
          },
          "metadata": {
            "tags": []
          }
        }
      ]
    },
    {
      "cell_type": "code",
      "metadata": {
        "id": "_M0hHUuQ-qYb",
        "colab_type": "code",
        "outputId": "e560eb7c-5164-4fbd-a3d1-d92e1bc4b9c7",
        "colab": {
          "base_uri": "https://localhost:8080/",
          "height": 607
        }
      },
      "source": [
        "display_image(train_data[-1][0], train_data[-1][1])"
      ],
      "execution_count": 4,
      "outputs": [
        {
          "output_type": "display_data",
          "data": {
            "image/png": "[encoded data removed]",
            "text/plain": [
              "<Figure size 864x720 with 1 Axes>"
            ]
          },
          "metadata": {
            "tags": []
          }
        }
      ]
    },
    {
      "cell_type": "code",
      "metadata": {
        "colab_type": "code",
        "id": "Hoo3HmSLqBbd",
        "colab": {}
      },
      "source": [
        "#@title\n",
        "batch_Size = 4\n",
        "dataloader = DataLoader(train_data, batch_size = batch_Size, shuffle = True, num_workers = 0)\n",
        "valloader = DataLoader(val_data, batch_size = batch_Size, shuffle = True, num_workers = 0)\n",
        "testloader = DataLoader(test_data, batch_size = batch_Size, shuffle = True, num_workers = 0)\n",
        "train_loader = iter(dataloader)\n",
        "x,y = next(train_loader)"
      ],
      "execution_count": 0,
      "outputs": []
    },
    {
      "cell_type": "markdown",
      "metadata": {
        "id": "qkyIUp28HrrJ",
        "colab_type": "text"
      },
      "source": [
        "# Model description\n",
        "The neural network used to classify the images receives batches of 3x100x120 images. \n",
        "It consists of \n",
        "* two convolutional layers followed by max pooling \n",
        "* three fully connected layers"
      ]
    },
    {
      "cell_type": "code",
      "metadata": {
        "colab_type": "code",
        "id": "7ZHuALqxGmy9",
        "colab": {}
      },
      "source": [
        "class Net(nn.Module):\n",
        "  \n",
        "  def __init__(self):\n",
        "    super(Net, self).__init__()\n",
        "    self.conv1 = nn.Conv2d(3, 6, 5)\n",
        "    self.pool1 = nn.MaxPool2d(2)\n",
        "    self.conv2 = nn.Conv2d(6, 16, 4)\n",
        "    self.pool2 = nn.MaxPool2d(5)\n",
        "    self.fc1 = nn.Linear(16 * 9 * 11, 120)\n",
        "    self.fc2 = nn.Linear(120, 84)\n",
        "    self.fc3 = nn.Linear(84, 2)\n",
        "    self.drop = nn.Dropout(p = 0.5)\n",
        "  \n",
        "\n",
        "  def forward(self, x):\n",
        "    x = F.relu(self.conv1(x))\n",
        "    x = self.pool1(x)\n",
        "    x = F.relu(self.conv2(x))\n",
        "    x = self.pool2(x)\n",
        "    x = x.view(-1, self.num_flat_features(x)) # 16*9*11\n",
        "    x = self.drop(F.relu(self.fc1(x)))\n",
        "    x = self.drop(F.relu(self.fc2(x)))\n",
        "    x = self.fc3(x)\n",
        "    return x\n",
        "  \n",
        "  def num_flat_features(self, x):\n",
        "      size = x.size()[1:]  # all dimensions except the batch dimension\n",
        "      num_features = 1\n",
        "      for s in size:\n",
        "          num_features *= s\n",
        "      return num_features\n",
        "\n",
        "\n",
        "net = Net()\n",
        "criterion = nn.CrossEntropyLoss()\n",
        "optimizer = optim.Adam(net.parameters(), lr=1e-4, eps=5e-7)"
      ],
      "execution_count": 0,
      "outputs": []
    },
    {
      "cell_type": "code",
      "metadata": {
        "colab_type": "code",
        "id": "D5-jWYmoaViF",
        "outputId": "a02849f0-0260-44f9-cc85-f6794e9bdf4f",
        "colab": {
          "base_uri": "https://localhost:8080/",
          "height": 416
        }
      },
      "source": [
        "max_epochs = 50\n",
        "converged = False\n",
        "epsilon = 0.0001\n",
        "\n",
        "def almost_equal(n1, n2, e): \n",
        "  return abs(n1-n2) < e\n",
        "\n",
        "def training_accuracy(network, loader): \n",
        "  with torch.no_grad(): \n",
        "    correct = 0\n",
        "    total = 0\n",
        "    for data in loader: \n",
        "      images, labels = data             \n",
        "      outputs = network(images)\n",
        "      _, predicted = torch.max(outputs.data, 1)\n",
        "      total += labels.size(0)\n",
        "      correct += (predicted == labels).sum().item()\n",
        "  return 100 * correct/total\n",
        "\n",
        "def validation_stats(network, loader, crit): \n",
        "  total_loss = 0\n",
        "  correct = 0\n",
        "  total = 0\n",
        "  with torch.no_grad(): \n",
        "    for data in loader: \n",
        "      images, labels = data             \n",
        "      outputs = network(images)\n",
        "      _, predicted = torch.max(outputs.data, 1)\n",
        "      total += labels.size(0)\n",
        "      correct += (predicted == labels).sum().item()\n",
        "      loss = criterion(outputs, labels)\n",
        "      total_loss += loss.item()\n",
        "\n",
        "  return (100 * correct/total, total_loss/len(loader.dataset))\n",
        "\n",
        "def network_has_converged(loss, e): \n",
        "  if (len(loss) < 4):\n",
        "    return False\n",
        "  else: \n",
        "    return (almost_equal(loss[-4], loss[-3], e) and \n",
        "            almost_equal(loss[-4], loss[-2], e) and \n",
        "            almost_equal(loss[-4], loss[-1], e) )\n",
        "          \n",
        "\n",
        "train_loss = []\n",
        "val_loss = []\n",
        "train_accuracy = []\n",
        "val_accuracy = []\n",
        "\n",
        "for epoch in range(max_epochs):  # loop over the dataset multiple times\n",
        "\n",
        "  running_loss = 0.0\n",
        "  if not converged: \n",
        "    for i, data in enumerate(dataloader, 0):\n",
        "      \n",
        "      # get the inputs; data is a list of [inputs, labels]\n",
        "      inputs, labels = data\n",
        "\n",
        "      # zero the parameter gradients\n",
        "      optimizer.zero_grad()\n",
        "\n",
        "      # forward + backward + optimize\n",
        "      outputs = net(inputs)\n",
        "      loss = criterion(outputs, labels)\n",
        "\n",
        "      loss.backward()\n",
        "      optimizer.step()\n",
        "\n",
        "      # plot loss \n",
        "      running_loss += loss.item()\n",
        "\n",
        "    \n",
        "    train_loss.append(running_loss/len(dataloader.dataset))\n",
        "    train_accuracy.append(training_accuracy(net, dataloader))\n",
        "    A, L = validation_stats(net, valloader, criterion)\n",
        "    val_loss.append(L)\n",
        "    val_accuracy.append(A)\n",
        "\n",
        "    print('Generation %d. training loss: %.4f,' \n",
        "          % (epoch + 1, train_loss[-1]), end = \"\")\n",
        "    print(\" training accuracy: %.2f \" % (train_accuracy[-1]), end = \"%,\")\n",
        "    print(\" validation loss: %.4f,\" % (val_loss[-1]), end = \" \")\n",
        "    print(\" validation accuracy: %.2f \" % (val_accuracy[-1]), end=\"% \\n\")    \n",
        "\n",
        "    converged = network_has_converged(train_loss, epsilon)\n",
        "      \n",
        "if (converged): \n",
        "  print (\"Network has converged.\")\n",
        "else: \n",
        "  print(\"Network hasn't been able to converge in \" + str(max_epochs) + \" generations.\")"
      ],
      "execution_count": 7,
      "outputs": [
        {
          "output_type": "stream",
          "text": [
            "Generation 1. training loss: 0.1729, training accuracy: 54.15 %, validation loss: 0.1741,  validation accuracy: 52.70 % \n",
            "Generation 2. training loss: 0.1708, training accuracy: 58.73 %, validation loss: 0.1682,  validation accuracy: 58.30 % \n",
            "Generation 3. training loss: 0.1514, training accuracy: 85.47 %, validation loss: 0.1176,  validation accuracy: 82.10 % \n",
            "Generation 4. training loss: 0.0585, training accuracy: 98.05 %, validation loss: 0.0295,  validation accuracy: 98.10 % \n",
            "Generation 5. training loss: 0.0113, training accuracy: 99.63 %, validation loss: 0.0076,  validation accuracy: 99.50 % \n",
            "Generation 6. training loss: 0.0038, training accuracy: 99.83 %, validation loss: 0.0044,  validation accuracy: 99.60 % \n",
            "Generation 7. training loss: 0.0021, training accuracy: 99.93 %, validation loss: 0.0019,  validation accuracy: 99.90 % \n",
            "Generation 8. training loss: 0.0008, training accuracy: 99.97 %, validation loss: 0.0021,  validation accuracy: 99.80 % \n",
            "Generation 9. training loss: 0.0010, training accuracy: 99.98 %, validation loss: 0.0009,  validation accuracy: 99.90 % \n",
            "Generation 10. training loss: 0.0002, training accuracy: 99.97 %, validation loss: 0.0005,  validation accuracy: 99.90 % \n",
            "Generation 11. training loss: 0.0013, training accuracy: 100.00 %, validation loss: 0.0008,  validation accuracy: 99.90 % \n",
            "Generation 12. training loss: 0.0003, training accuracy: 99.98 %, validation loss: 0.0006,  validation accuracy: 99.90 % \n",
            "Generation 13. training loss: 0.0001, training accuracy: 99.98 %, validation loss: 0.0003,  validation accuracy: 100.00 % \n",
            "Generation 14. training loss: 0.0004, training accuracy: 100.00 %, validation loss: 0.0001,  validation accuracy: 100.00 % \n",
            "Generation 15. training loss: 0.0000, training accuracy: 100.00 %, validation loss: 0.0010,  validation accuracy: 99.80 % \n",
            "Generation 16. training loss: 0.0000, training accuracy: 100.00 %, validation loss: 0.0014,  validation accuracy: 99.70 % \n",
            "Generation 17. training loss: 0.0000, training accuracy: 99.98 %, validation loss: 0.0024,  validation accuracy: 99.80 % \n",
            "Generation 18. training loss: 0.0002, training accuracy: 100.00 %, validation loss: 0.0007,  validation accuracy: 99.90 % \n",
            "Generation 19. training loss: 0.0000, training accuracy: 99.95 %, validation loss: 0.0002,  validation accuracy: 100.00 % \n",
            "Generation 20. training loss: 0.0000, training accuracy: 100.00 %, validation loss: 0.0001,  validation accuracy: 100.00 % \n",
            "Generation 21. training loss: 0.0000, training accuracy: 100.00 %, validation loss: 0.0002,  validation accuracy: 100.00 % \n",
            "Generation 22. training loss: 0.0000, training accuracy: 100.00 %, validation loss: 0.0012,  validation accuracy: 99.90 % \n",
            "Network has converged.\n"
          ],
          "name": "stdout"
        }
      ]
    },
    {
      "cell_type": "code",
      "metadata": {
        "id": "Ryn4L-Rn7E6s",
        "colab_type": "code",
        "outputId": "44309f93-ceff-40fe-9790-4c4a042d2ad5",
        "colab": {
          "base_uri": "https://localhost:8080/",
          "height": 623
        }
      },
      "source": [
        "plt.figure(figsize = FIGSIZE)\n",
        "x_scale = np.linspace(0, len(train_loss)- 1, len(train_loss) )\n",
        "_ = plt.plot(x_scale, train_loss)\n",
        "_ = plt.plot(x_scale, val_loss)\n",
        "plt.legend([\"Loss on the training set\", \"Loss on the validation set\"])\n",
        "plt.xlabel(\"Number of generations\")\n",
        "plt.ylabel(\"Evaluation of the loss function\")"
      ],
      "execution_count": 8,
      "outputs": [
        {
          "output_type": "execute_result",
          "data": {
            "text/plain": [
              "Text(0, 0.5, 'Evaluation of the loss function')"
            ]
          },
          "metadata": {
            "tags": []
          },
          "execution_count": 8
        },
        {
          "output_type": "display_data",
          "data": {
            "image/png": "[encoded data removed]",
            "text/plain": [
              "<Figure size 864x720 with 1 Axes>"
            ]
          },
          "metadata": {
            "tags": []
          }
        }
      ]
    },
    {
      "cell_type": "code",
      "metadata": {
        "id": "rcKq6Gw4erkC",
        "colab_type": "code",
        "outputId": "2fcbb048-c038-4286-8853-9c665984cf79",
        "colab": {
          "base_uri": "https://localhost:8080/",
          "height": 623
        }
      },
      "source": [
        "plt.figure(figsize = FIGSIZE)\n",
        "x_scale = np.linspace(0, len(train_accuracy)- 1, len(train_accuracy) )\n",
        "_ = plt.plot(x_scale, train_accuracy)\n",
        "_ = plt.plot(x_scale, val_accuracy)\n",
        "plt.legend([\"Training accuracy\", \"Validation accuracy\"])\n",
        "plt.xlabel(\"Number of generations\")\n",
        "plt.ylabel(\"Accuracy \")"
      ],
      "execution_count": 9,
      "outputs": [
        {
          "output_type": "execute_result",
          "data": {
            "text/plain": [
              "Text(0, 0.5, 'Accuracy ')"
            ]
          },
          "metadata": {
            "tags": []
          },
          "execution_count": 9
        },
        {
          "output_type": "display_data",
          "data": {
            "image/png": "[encoded data removed]",
            "text/plain": [
              "<Figure size 864x720 with 1 Axes>"
            ]
          },
          "metadata": {
            "tags": []
          }
        }
      ]
    },
    {
      "cell_type": "code",
      "metadata": {
        "colab_type": "code",
        "id": "CSoLjUOliRxh",
        "colab": {}
      },
      "source": [
        "def test(loader):\n",
        "  correct = 0\n",
        "  total = 0\n",
        "  wrong_im = []\n",
        "  wrong_label = []\n",
        "  wrongly_predicted_label = []\n",
        "\n",
        "  with torch.no_grad():\n",
        "      for data in loader:\n",
        "          images, labels = data\n",
        "\n",
        "          outputs = net(images)\n",
        "          _, predicted = torch.max(outputs.data, 1)\n",
        "          total += labels.size(0)\n",
        "          correct += (predicted == labels).sum().item()\n",
        "          k = 0\n",
        "          for truth in (predicted == labels): \n",
        "            if not truth: \n",
        "              wrong_im.append(images[k])\n",
        "              wrong_label.append(int(labels[k]))\n",
        "              wrongly_predicted_label.append(int(predicted[k]))\n",
        "            k += 1\n",
        "          \n",
        "          \n",
        "\n",
        "  print(\"Accuracy of the network on the \" + str(total) + ' test images: %.3f %%' % (\n",
        "      100 * correct / total))\n",
        "\n",
        "  print(\"Number of mistakes : \" +str(total-correct))\n",
        "  return wrong_im, wrong_label, wrongly_predicted_label"
      ],
      "execution_count": 0,
      "outputs": []
    },
    {
      "cell_type": "code",
      "metadata": {
        "id": "qm6RlIrE9mC-",
        "colab_type": "code",
        "colab": {
          "base_uri": "https://localhost:8080/",
          "height": 52
        },
        "outputId": "169ed38b-aee0-4752-a979-510296cd5186"
      },
      "source": [
        "wi, wl, wpl = test(testloader)\n",
        "index = 0"
      ],
      "execution_count": 11,
      "outputs": [
        {
          "output_type": "stream",
          "text": [
            "Accuracy of the network on the 2000 test images: 99.950 %\n",
            "Number of mistakes : 1\n"
          ],
          "name": "stdout"
        }
      ]
    },
    {
      "cell_type": "code",
      "metadata": {
        "colab_type": "code",
        "id": "_2qbFlsY0EY3",
        "colab": {
          "base_uri": "https://localhost:8080/",
          "height": 607
        },
        "outputId": "6d7938bf-7097-4c92-df1e-ec4f70ae077d"
      },
      "source": [
        "if index in range(len(wi)):\n",
        "  display_image(wi[index], wl[index], wpl[index])\n",
        "  index += 1"
      ],
      "execution_count": 12,
      "outputs": [
        {
          "output_type": "display_data",
          "data": {
            "image/png": "[encoded data removed]",
            "text/plain": [
              "<Figure size 864x720 with 1 Axes>"
            ]
          },
          "metadata": {
            "tags": []
          }
        }
      ]
    },
    {
      "cell_type": "code",
      "metadata": {
        "id": "uZZ5ejhumCn5",
        "colab_type": "code",
        "outputId": "beb449b9-2a88-4715-ed25-d3b6f11e5453",
        "colab": {
          "base_uri": "https://localhost:8080/",
          "height": 52
        }
      },
      "source": [
        "save = input(\"Overwrite current state dictionnary ? [y/n]\")\n",
        "if (save == 'y'): \n",
        "  torch.save(net.state_dict(), 'drive/My Drive/Interpretability/model3_random.pth')\n",
        "  print(\"State dictionnary saved.\")\n",
        "else: \n",
        "  print(\"State dictionnary has not been saved.\")"
      ],
      "execution_count": 15,
      "outputs": [
        {
          "output_type": "stream",
          "text": [
            "Overwrite current state dictionnary ? [y/n]y\n",
            "State dictionnary saved.\n"
          ],
          "name": "stdout"
        }
      ]
    }
  ]
}