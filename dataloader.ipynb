{
  "nbformat": 4,
  "nbformat_minor": 0,
  "metadata": {
    "colab": {
      "name": "dataloader.ipynb",
      "provenance": [],
      "collapsed_sections": [],
      "authorship_tag": "ABX9TyPxsnHNIvnxSvnaqf/xMYzs",
      "include_colab_link": true
    },
    "kernelspec": {
      "name": "python3",
      "display_name": "Python 3"
    },
    "accelerator": "GPU"
  },
  "cells": [
    {
      "cell_type": "markdown",
      "metadata": {
        "id": "view-in-github",
        "colab_type": "text"
      },
      "source": [
        "<a href=\"https://colab.research.google.com/github/lustea0201/Interpretability/blob/master/dataloader.ipynb\" target=\"_parent\"><img src=\"https://colab.research.google.com/assets/colab-badge.svg\" alt=\"Open In Colab\"/></a>"
      ]
    },
    {
      "cell_type": "code",
      "metadata": {
        "id": "h4NeSToBbJMn",
        "colab_type": "code",
        "outputId": "c0eb484d-971f-4266-cd00-d2e803dd291f",
        "colab": {
          "base_uri": "https://localhost:8080/",
          "height": 34
        }
      },
      "source": [
        "import zipfile\n",
        "import io\n",
        "import cv2\n",
        "import glob \n",
        "import numpy as np\n",
        "import random \n",
        "import torch \n",
        "\n",
        "\n",
        "!rm -rf main_dir\n",
        "!rm -rf data.zip\n",
        "\n",
        "method = {\n",
        "    1: \"import locally\", \n",
        "    2: \"from drive\"\n",
        "    }\n",
        "\n",
        "m = 2\n",
        "\n",
        "if (m == 1): \n",
        "  from google.colab import files\n",
        "  uploaded = files.upload()\n",
        "  data = zipfile.ZipFile(io.BytesIO(uploaded['data.zip']), 'r')\n",
        "\n",
        "if (m == 2): \n",
        "  from google.colab import drive\n",
        "  drive.mount('/content/drive/')\n",
        "\n",
        "  data = zipfile.ZipFile(\"/content/drive/My Drive/Research project/data1/data.zip\", 'r')\n",
        "\n",
        "\n",
        "  \n",
        "\n",
        "\n",
        "\n",
        "\n",
        "root_dir = \"main_dir\"\n",
        "data.extractall(root_dir)\n",
        "data.close()\n",
        "\n",
        "\n",
        "\n"
      ],
      "execution_count": 106,
      "outputs": [
        {
          "output_type": "stream",
          "text": [
            "Drive already mounted at /content/drive/; to attempt to forcibly remount, call drive.mount(\"/content/drive/\", force_remount=True).\n"
          ],
          "name": "stdout"
        }
      ]
    },
    {
      "cell_type": "code",
      "metadata": {
        "id": "vAf1Fk2IbguJ",
        "colab_type": "code",
        "colab": {}
      },
      "source": [
        "from torchvision.datasets import ImageFolder\n",
        "from torch.utils.data import DataLoader\n",
        "from torchvision.transforms import Resize, ToTensor, Normalize\n",
        "from torchvision import transforms\n",
        "import os\n",
        "import matplotlib.pyplot as plt\n",
        "import numpy as np\n",
        "\n",
        "transforms = transforms.Compose( [Resize((32, 32), 1), # shouldn't be necessary change later\n",
        "                                  ToTensor(), \n",
        "                                  Normalize(mean=(0.5, 0.5, 0.5), std=(0.5, 0.5, 0.5))])\n",
        "\n",
        "\n",
        "train_data = ImageFolder(root = os.path.join(root_dir, 'train'), transform = transforms)\n",
        "\n",
        "test_data = ImageFolder(root = os.path.join(root_dir, 'test'), transform = transforms)\n",
        "\n",
        "idx_to_class = {j:i for i,j in train_data.class_to_idx.items()}\n"
      ],
      "execution_count": 0,
      "outputs": []
    },
    {
      "cell_type": "code",
      "metadata": {
        "id": "cSTJr4lCmYaB",
        "colab_type": "code",
        "outputId": "70f60bfb-b64a-4f74-9f91-b1a77b1d456f",
        "colab": {
          "base_uri": "https://localhost:8080/",
          "height": 281
        }
      },
      "source": [
        "def display_image(image, label): \n",
        "  sample_image = image.numpy().transpose(1,2,0)\n",
        "  mean = np.array([0.5, 0.5, 0.5])\n",
        "  sd = np.array([0.5, 0.5, 0.5])\n",
        "  im = sample_image*sd + mean\n",
        "  plt.imshow(im)\n",
        "  plt.title(\"label : \" + idx_to_class[label])\n",
        "\n",
        "display_image(train_data[-1][0], train_data[-1][1])\n",
        "\n"
      ],
      "execution_count": 108,
      "outputs": [
        {
          "output_type": "display_data",
          "data": {
            "image/png": "[encoded data removed]",
            "text/plain": [
              "<Figure size 432x288 with 1 Axes>"
            ]
          },
          "metadata": {
            "tags": []
          }
        }
      ]
    },
    {
      "cell_type": "code",
      "metadata": {
        "id": "Hoo3HmSLqBbd",
        "colab_type": "code",
        "colab": {}
      },
      "source": [
        "\n",
        "dataloader = DataLoader(train_data, batch_size = 4, shuffle = True, num_workers = 0)\n",
        "\n",
        "testloader = DataLoader(test_data, batch_size = 4, shuffle = True, num_workers = 0)\n",
        "\n",
        "train_loader = iter(dataloader)\n",
        "x,y = next(train_loader)\n",
        "\n"
      ],
      "execution_count": 0,
      "outputs": []
    },
    {
      "cell_type": "markdown",
      "metadata": {
        "id": "q04CfJzYqnVr",
        "colab_type": "text"
      },
      "source": [
        "https://www.youtube.com/watch?v=fXEdtz8U3Sc"
      ]
    },
    {
      "cell_type": "code",
      "metadata": {
        "id": "7ZHuALqxGmy9",
        "colab_type": "code",
        "colab": {}
      },
      "source": [
        "import torch.nn as nn\n",
        "import torch.nn.functional as F\n",
        "\n",
        "\n",
        "\n",
        "\n",
        "\n",
        "\n",
        "\n",
        "class Net(nn.Module):\n",
        "    \n",
        "  def __init__(self):\n",
        "    super(Net, self).__init__()\n",
        "    self.conv1 = nn.Conv2d(3, 6, 5)\n",
        "    self.pool = nn.MaxPool2d(2, 2)\n",
        "    self.conv2 = nn.Conv2d(6, 16, 5)\n",
        "    self.fc1 = nn.Linear(16 * 5 * 5, 120)\n",
        "    self.fc2 = nn.Linear(120, 84)\n",
        "    self.fc3 = nn.Linear(84, 2)\n",
        "  \n",
        "\n",
        "  \"\"\"\n",
        "  def __init__(self):\n",
        "    super(Net, self).__init__()\n",
        "    self.conv1 = nn.Conv2d(3, 6, 11)\n",
        "    self.pool5 = nn.MaxPool2d(5, 5)\n",
        "    self.pool4 = nn.MaxPool2d(4, 4)\n",
        "    self.conv2 = nn.Conv2d(6, 16, 4)\n",
        "    self.fc1 = nn.Linear(16 * 6 * 5, 120)\n",
        "    self.fc2 = nn.Linear(120, 84)\n",
        "    self.fc3 = nn.Linear(84, 2)\n",
        "  \"\"\"\n",
        "\n",
        "  def forward(self, x):\n",
        "      x = self.pool(F.relu(self.conv1(x)))\n",
        "      x = self.pool(F.relu(self.conv2(x)))\n",
        "      x = x.view(-1, self.num_flat_features(x)) #or 16 * 5 * 5 ### now 16*6*5\n",
        "      x = F.relu(self.fc1(x))\n",
        "      x = F.relu(self.fc2(x))\n",
        "      x = self.fc3(x)\n",
        "      return x\n",
        "  \n",
        "  def num_flat_features(self, x):\n",
        "      size = x.size()[1:]  # all dimensions except the batch dimension\n",
        "      num_features = 1\n",
        "      for s in size:\n",
        "          num_features *= s\n",
        "      return num_features\n",
        "\n",
        "\n",
        "net = Net()"
      ],
      "execution_count": 0,
      "outputs": []
    },
    {
      "cell_type": "code",
      "metadata": {
        "id": "OxH1U0hnaTzk",
        "colab_type": "code",
        "colab": {}
      },
      "source": [
        "import torch.optim as optim\n",
        "\n",
        "criterion = nn.NLLLoss()\n",
        "optimizer = optim.SGD(net.parameters(), lr=0.001, momentum=0.9)"
      ],
      "execution_count": 0,
      "outputs": []
    },
    {
      "cell_type": "code",
      "metadata": {
        "id": "D5-jWYmoaViF",
        "colab_type": "code",
        "outputId": "e5e9a468-e6f8-474e-d179-d10949bcaccc",
        "colab": {
          "base_uri": "https://localhost:8080/",
          "height": 34
        }
      },
      "source": [
        "for epoch in range(200):  # loop over the dataset multiple times\n",
        "\n",
        "    running_loss = 0.0\n",
        "    for i, data in enumerate(dataloader, 0):\n",
        "      # get the inputs; data is a list of [inputs, labels]\n",
        "      inputs, labels = data\n",
        "\n",
        "      # zero the parameter gradients\n",
        "      optimizer.zero_grad()\n",
        "\n",
        "      # forward + backward + optimize\n",
        "      outputs = net(inputs)\n",
        "      loss = criterion(outputs, labels)\n",
        "      loss.backward()\n",
        "      optimizer.step()\n",
        "\n",
        "      # print statistics\n",
        "      running_loss += loss.item()\n",
        "      if i % 1000 == 999:    # print every 1000 mini-batches\n",
        "          print('[%d, %5d] loss: %.3f' %\n",
        "                (epoch + 1, i + 1, running_loss / 1000))\n",
        "          running_loss = 0.0\n",
        "\n",
        "print('Finished Training')"
      ],
      "execution_count": 112,
      "outputs": [
        {
          "output_type": "stream",
          "text": [
            "Finished Training\n"
          ],
          "name": "stdout"
        }
      ]
    },
    {
      "cell_type": "code",
      "metadata": {
        "id": "CSoLjUOliRxh",
        "colab_type": "code",
        "outputId": "4f55d90e-92cb-447a-8747-4895a208b768",
        "colab": {
          "base_uri": "https://localhost:8080/",
          "height": 50
        }
      },
      "source": [
        "correct = 0\n",
        "total = 0\n",
        "wrong_im = []\n",
        "wrong_label = []\n",
        "with torch.no_grad():\n",
        "    for data in testloader:\n",
        "        images, labels = data\n",
        "        outputs = net(images)\n",
        "        _, predicted = torch.max(outputs.data, 1)\n",
        "        total += labels.size(0)\n",
        "        correct += (predicted == labels).sum().item()\n",
        "        k = 0\n",
        "        for truth in (predicted == labels): \n",
        "          if not truth: \n",
        "            wrong_im.append(images[k])\n",
        "            wrong_label.append(int(labels[k]))\n",
        "          k += 1\n",
        "        \n",
        "        \n",
        "\n",
        "print(\"Accuracy of the network on the \" + str(total) + ' test images: %d %%' % (\n",
        "    100 * correct / total))\n",
        "\n",
        "print(\"Number of mistakes : \" +str(total-correct))"
      ],
      "execution_count": 113,
      "outputs": [
        {
          "output_type": "stream",
          "text": [
            "Accuracy of the network on the 40 test images: 50 %\n",
            "Number of mistakes : 20\n"
          ],
          "name": "stdout"
        }
      ]
    },
    {
      "cell_type": "code",
      "metadata": {
        "id": "_2qbFlsY0EY3",
        "colab_type": "code",
        "colab": {
          "base_uri": "https://localhost:8080/",
          "height": 281
        },
        "outputId": "019502fd-f01d-4156-cf63-9cd0628a7662"
      },
      "source": [
        "if ((total-correct)>0): \n",
        "  display_image(wrong_im[0], wrong_label[0])"
      ],
      "execution_count": 114,
      "outputs": [
        {
          "output_type": "display_data",
          "data": {
            "image/png": "[encoded data removed]",
            "text/plain": [
              "<Figure size 432x288 with 1 Axes>"
            ]
          },
          "metadata": {
            "tags": []
          }
        }
      ]
    }
  ]
}