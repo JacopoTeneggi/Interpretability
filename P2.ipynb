{
  "nbformat": 4,
  "nbformat_minor": 0,
  "metadata": {
    "accelerator": "GPU",
    "colab": {
      "name": "P2.ipynb",
      "provenance": [],
      "collapsed_sections": [],
      "include_colab_link": true
    },
    "kernelspec": {
      "display_name": "Python 3",
      "language": "python",
      "name": "python3"
    },
    "language_info": {
      "codemirror_mode": {
        "name": "ipython",
        "version": 3
      },
      "file_extension": ".py",
      "mimetype": "text/x-python",
      "name": "python",
      "nbconvert_exporter": "python",
      "pygments_lexer": "ipython3",
      "version": "3.7.3"
    }
  },
  "cells": [
    {
      "cell_type": "markdown",
      "metadata": {
        "id": "view-in-github",
        "colab_type": "text"
      },
      "source": [
        "<a href=\"https://colab.research.google.com/github/lustea0201/Interpretability/blob/master/P2.ipynb\" target=\"_parent\"><img src=\"https://colab.research.google.com/assets/colab-badge.svg\" alt=\"Open In Colab\"/></a>"
      ]
    },
    {
      "cell_type": "code",
      "metadata": {
        "colab_type": "code",
        "id": "h4NeSToBbJMn",
        "outputId": "454e09a6-9cb6-4960-9aa7-088cf120c676",
        "colab": {
          "base_uri": "https://localhost:8080/",
          "height": 34
        }
      },
      "source": [
        "import zipfile\n",
        "import io\n",
        "import cv2\n",
        "import glob \n",
        "import numpy as np\n",
        "import random \n",
        "import torch \n",
        "\n",
        "\n",
        "!rm -rf main_dir\n",
        "!rm -rf data.zip\n",
        "\n",
        "method = {\n",
        "    1: \"import locally\", \n",
        "    2: \"from drive\"\n",
        "    }\n",
        "\n",
        "m = 2\n",
        "\n",
        "if (m == 1): \n",
        "  from google.colab import files\n",
        "  uploaded = files.upload()\n",
        "  data = zipfile.ZipFile(io.BytesIO(uploaded['data.zip']), 'r')\n",
        "\n",
        "if (m == 2): \n",
        "  from google.colab import drive\n",
        "  drive.mount('/content/drive/')\n",
        "\n",
        "  data = zipfile.ZipFile(\"/content/drive/My Drive/Research project/data4/data.zip\", 'r')\n",
        "\n",
        "\n",
        "  \n",
        "\n",
        "\n",
        "\n",
        "\n",
        "root_dir = \"main_dir\"\n",
        "data.extractall(root_dir)\n",
        "data.close()\n",
        "\n",
        "\n",
        "\n"
      ],
      "execution_count": 2,
      "outputs": [
        {
          "output_type": "stream",
          "text": [
            "Drive already mounted at /content/drive/; to attempt to forcibly remount, call drive.mount(\"/content/drive/\", force_remount=True).\n"
          ],
          "name": "stdout"
        }
      ]
    },
    {
      "cell_type": "code",
      "metadata": {
        "colab_type": "code",
        "id": "vAf1Fk2IbguJ",
        "colab": {}
      },
      "source": [
        "from torchvision.datasets import ImageFolder\n",
        "from torch.utils.data import DataLoader\n",
        "from torchvision.transforms import Resize, ToTensor, Normalize\n",
        "from torchvision import transforms\n",
        "import os\n",
        "import matplotlib.pyplot as plt\n",
        "import numpy as np\n",
        "\n",
        "transforms = transforms.Compose( [Resize((32, 32), 1), # shouldn't be necessary change later\n",
        "                                  ToTensor(), \n",
        "                                  Normalize(mean=(0.5, 0.5, 0.5), std=(0.5, 0.5, 0.5))])\n",
        "\n",
        "\n",
        "train_data = ImageFolder(root = os.path.join(root_dir, 'train'), transform = transforms)\n",
        "\n",
        "test_data = ImageFolder(root = os.path.join(root_dir, 'test'), transform = transforms)\n",
        "\n",
        "idx_to_class = {j:i for i,j in train_data.class_to_idx.items()}\n"
      ],
      "execution_count": 0,
      "outputs": []
    },
    {
      "cell_type": "code",
      "metadata": {
        "colab_type": "code",
        "id": "cSTJr4lCmYaB",
        "outputId": "692a54e6-b3db-493e-e3c0-eaa5bc688d15",
        "colab": {
          "base_uri": "https://localhost:8080/",
          "height": 281
        }
      },
      "source": [
        "def display_image(image, label): \n",
        "  sample_image = image.numpy().transpose(1,2,0)\n",
        "  mean = np.array([0.5, 0.5, 0.5])\n",
        "  sd = np.array([0.5, 0.5, 0.5])\n",
        "  im = sample_image*sd + mean\n",
        "  plt.imshow(im)\n",
        "  plt.title(\"label : \" + idx_to_class[label])\n",
        "\n",
        "display_image(train_data[-1][0], train_data[-1][1])\n",
        "\n"
      ],
      "execution_count": 4,
      "outputs": [
        {
          "output_type": "display_data",
          "data": {
            "image/png": "[encoded data removed]",
            "text/plain": [
              "<Figure size 432x288 with 1 Axes>"
            ]
          },
          "metadata": {
            "tags": []
          }
        }
      ]
    },
    {
      "cell_type": "code",
      "metadata": {
        "colab_type": "code",
        "id": "Hoo3HmSLqBbd",
        "colab": {}
      },
      "source": [
        "\n",
        "dataloader = DataLoader(train_data, batch_size = 4, shuffle = True, num_workers = 0)\n",
        "\n",
        "testloader = DataLoader(test_data, batch_size = 4, shuffle = True, num_workers = 0)\n",
        "\n",
        "train_loader = iter(dataloader)\n",
        "x,y = next(train_loader)\n",
        "\n"
      ],
      "execution_count": 0,
      "outputs": []
    },
    {
      "cell_type": "markdown",
      "metadata": {
        "colab_type": "text",
        "id": "q04CfJzYqnVr"
      },
      "source": [
        "https://www.youtube.com/watch?v=fXEdtz8U3Sc"
      ]
    },
    {
      "cell_type": "code",
      "metadata": {
        "colab_type": "code",
        "id": "7ZHuALqxGmy9",
        "colab": {}
      },
      "source": [
        "import torch.nn as nn\n",
        "import torch.nn.functional as F\n",
        "\n",
        "\n",
        "\n",
        "\n",
        "\n",
        "\n",
        "\n",
        "class Net(nn.Module):\n",
        "    \n",
        "  def __init__(self):\n",
        "    super(Net, self).__init__()\n",
        "    self.conv1 = nn.Conv2d(3, 6, 5)\n",
        "    self.pool = nn.MaxPool2d(2, 2)\n",
        "    self.conv2 = nn.Conv2d(6, 16, 5)\n",
        "    self.fc1 = nn.Linear(16 * 5 * 5, 120)\n",
        "    self.fc2 = nn.Linear(120, 84)\n",
        "    self.fc3 = nn.Linear(84, 2)\n",
        "  \n",
        "\n",
        "  \"\"\"\n",
        "  def __init__(self):\n",
        "    super(Net, self).__init__()\n",
        "    self.conv1 = nn.Conv2d(3, 6, 11)\n",
        "    self.pool5 = nn.MaxPool2d(5, 5)\n",
        "    self.pool4 = nn.MaxPool2d(4, 4)\n",
        "    self.conv2 = nn.Conv2d(6, 16, 4)\n",
        "    self.fc1 = nn.Linear(16 * 6 * 5, 120)\n",
        "    self.fc2 = nn.Linear(120, 84)\n",
        "    self.fc3 = nn.Linear(84, 2)\n",
        "  \"\"\"\n",
        "\n",
        "  def forward(self, x):\n",
        "      x = self.pool(F.relu(self.conv1(x)))\n",
        "      x = self.pool(F.relu(self.conv2(x)))\n",
        "      x = x.view(-1, self.num_flat_features(x)) #or 16 * 5 * 5 ### now 16*6*5\n",
        "      x = F.relu(self.fc1(x))\n",
        "      x = F.relu(self.fc2(x))\n",
        "      x = self.fc3(x)\n",
        "      return x\n",
        "  \n",
        "  def num_flat_features(self, x):\n",
        "      size = x.size()[1:]  # all dimensions except the batch dimension\n",
        "      num_features = 1\n",
        "      for s in size:\n",
        "          num_features *= s\n",
        "      return num_features\n",
        "\n",
        "\n",
        "net = Net()"
      ],
      "execution_count": 0,
      "outputs": []
    },
    {
      "cell_type": "code",
      "metadata": {
        "colab_type": "code",
        "id": "OxH1U0hnaTzk",
        "colab": {}
      },
      "source": [
        "import torch.optim as optim\n",
        "\n",
        "criterion = nn.CrossEntropyLoss()\n",
        "optimizer = optim.SGD(net.parameters(), lr=0.001, momentum=0.9)"
      ],
      "execution_count": 0,
      "outputs": []
    },
    {
      "cell_type": "code",
      "metadata": {
        "colab_type": "code",
        "id": "D5-jWYmoaViF",
        "outputId": "4d706f5a-d7bd-4501-9340-cce7b473a92d",
        "colab": {
          "base_uri": "https://localhost:8080/",
          "height": 1000
        }
      },
      "source": [
        "for epoch in range(4):  # loop over the dataset multiple times\n",
        "\n",
        "    running_loss = 0.0\n",
        "    for i, data in enumerate(dataloader, 0):\n",
        "      # get the inputs; data is a list of [inputs, labels]\n",
        "      inputs, labels = data\n",
        "\n",
        "      # zero the parameter gradients\n",
        "      optimizer.zero_grad()\n",
        "\n",
        "      # forward + backward + optimize\n",
        "      outputs = net(inputs)\n",
        "      loss = criterion(outputs, labels)\n",
        "      loss.backward()\n",
        "      optimizer.step()\n",
        "\n",
        "      # print statistics\n",
        "      running_loss += loss.item()\n",
        "      if i % 1000 == 999:    # print every 1000 mini-batches\n",
        "          print('[%d, %5d] loss: %.3f' %\n",
        "                (epoch + 1, i + 1, running_loss / 1000))\n",
        "          running_loss = 0.0\n",
        "\n",
        "print('Finished Training')"
      ],
      "execution_count": 15,
      "outputs": [
        {
          "output_type": "stream",
          "text": [
            "[1,  1000] loss: 0.000\n",
            "[1,  2000] loss: 0.000\n",
            "[1,  3000] loss: 0.000\n",
            "[1,  4000] loss: 0.000\n",
            "[1,  5000] loss: 0.000\n",
            "[1,  6000] loss: 0.000\n",
            "[1,  7000] loss: 0.000\n",
            "[1,  8000] loss: 0.000\n",
            "[1,  9000] loss: 0.000\n",
            "[1, 10000] loss: 0.000\n",
            "[1, 11000] loss: 0.000\n",
            "[1, 12000] loss: 0.000\n",
            "[1, 13000] loss: 0.000\n",
            "[1, 14000] loss: 0.000\n",
            "[1, 15000] loss: 0.000\n",
            "[1, 16000] loss: 0.000\n",
            "[1, 17000] loss: 0.000\n",
            "[1, 18000] loss: 0.000\n",
            "[1, 19000] loss: 0.000\n",
            "[1, 20000] loss: 0.000\n",
            "[1, 21000] loss: 0.000\n",
            "[1, 22000] loss: 0.000\n",
            "[1, 23000] loss: 0.000\n",
            "[1, 24000] loss: 0.000\n",
            "[1, 25000] loss: 0.000\n",
            "[1, 26000] loss: 0.000\n",
            "[1, 27000] loss: 0.000\n",
            "[1, 28000] loss: 0.000\n",
            "[1, 29000] loss: 0.000\n",
            "[1, 30000] loss: 0.000\n",
            "[1, 31000] loss: 0.000\n",
            "[1, 32000] loss: 0.000\n",
            "[1, 33000] loss: 0.000\n",
            "[1, 34000] loss: 0.000\n",
            "[1, 35000] loss: 0.000\n",
            "[1, 36000] loss: 0.000\n",
            "[1, 37000] loss: 0.000\n",
            "[1, 38000] loss: 0.000\n",
            "[1, 39000] loss: 0.000\n",
            "[1, 40000] loss: 0.000\n",
            "[1, 41000] loss: 0.000\n",
            "[1, 42000] loss: 0.000\n",
            "[1, 43000] loss: 0.000\n",
            "[1, 44000] loss: 0.000\n",
            "[1, 45000] loss: 0.000\n",
            "[1, 46000] loss: 0.000\n",
            "[1, 47000] loss: 0.000\n",
            "[1, 48000] loss: 0.000\n",
            "[1, 49000] loss: 0.000\n",
            "[1, 50000] loss: 0.003\n",
            "[1, 51000] loss: 0.000\n",
            "[1, 52000] loss: 0.000\n",
            "[2,  1000] loss: 0.000\n",
            "[2,  2000] loss: 0.000\n",
            "[2,  3000] loss: 0.000\n",
            "[2,  4000] loss: 0.000\n",
            "[2,  5000] loss: 0.000\n",
            "[2,  6000] loss: 0.000\n",
            "[2,  7000] loss: 0.000\n",
            "[2,  8000] loss: 0.000\n",
            "[2,  9000] loss: 0.000\n",
            "[2, 10000] loss: 0.000\n",
            "[2, 11000] loss: 0.000\n",
            "[2, 12000] loss: 0.000\n",
            "[2, 13000] loss: 0.000\n",
            "[2, 14000] loss: 0.000\n",
            "[2, 15000] loss: 0.000\n",
            "[2, 16000] loss: 0.000\n",
            "[2, 17000] loss: 0.000\n",
            "[2, 18000] loss: 0.000\n",
            "[2, 19000] loss: 0.000\n",
            "[2, 20000] loss: 0.000\n",
            "[2, 21000] loss: 0.000\n",
            "[2, 22000] loss: 0.000\n",
            "[2, 23000] loss: 0.000\n",
            "[2, 24000] loss: 0.000\n",
            "[2, 25000] loss: 0.000\n",
            "[2, 26000] loss: 0.000\n",
            "[2, 27000] loss: 0.000\n",
            "[2, 28000] loss: 0.000\n",
            "[2, 29000] loss: 0.000\n",
            "[2, 30000] loss: 0.000\n",
            "[2, 31000] loss: 0.000\n",
            "[2, 32000] loss: 0.000\n",
            "[2, 33000] loss: 0.000\n",
            "[2, 34000] loss: 0.000\n",
            "[2, 35000] loss: 0.000\n",
            "[2, 36000] loss: 0.000\n",
            "[2, 37000] loss: 0.000\n",
            "[2, 38000] loss: 0.000\n",
            "[2, 39000] loss: 0.004\n",
            "[2, 40000] loss: 0.000\n",
            "[2, 41000] loss: 0.000\n",
            "[2, 42000] loss: 0.000\n",
            "[2, 43000] loss: 0.000\n",
            "[2, 44000] loss: 0.000\n",
            "[2, 45000] loss: 0.000\n",
            "[2, 46000] loss: 0.000\n",
            "[2, 47000] loss: 0.000\n",
            "[2, 48000] loss: 0.000\n",
            "[2, 49000] loss: 0.000\n",
            "[2, 50000] loss: 0.000\n",
            "[2, 51000] loss: 0.000\n",
            "[2, 52000] loss: 0.000\n",
            "[3,  1000] loss: 0.000\n",
            "[3,  2000] loss: 0.000\n",
            "[3,  3000] loss: 0.000\n",
            "[3,  4000] loss: 0.000\n",
            "[3,  5000] loss: 0.000\n",
            "[3,  6000] loss: 0.000\n",
            "[3,  7000] loss: 0.000\n",
            "[3,  8000] loss: 0.000\n",
            "[3,  9000] loss: 0.000\n",
            "[3, 10000] loss: 0.000\n",
            "[3, 11000] loss: 0.000\n",
            "[3, 12000] loss: 0.000\n",
            "[3, 13000] loss: 0.000\n",
            "[3, 14000] loss: 0.000\n",
            "[3, 15000] loss: 0.000\n",
            "[3, 16000] loss: 0.000\n",
            "[3, 17000] loss: 0.000\n",
            "[3, 18000] loss: 0.000\n",
            "[3, 19000] loss: 0.000\n",
            "[3, 20000] loss: 0.000\n",
            "[3, 21000] loss: 0.000\n",
            "[3, 22000] loss: 0.000\n",
            "[3, 23000] loss: 0.000\n",
            "[3, 24000] loss: 0.000\n",
            "[3, 25000] loss: 0.000\n",
            "[3, 26000] loss: 0.000\n",
            "[3, 27000] loss: 0.000\n",
            "[3, 28000] loss: 0.000\n",
            "[3, 29000] loss: 0.000\n",
            "[3, 30000] loss: 0.000\n",
            "[3, 31000] loss: 0.000\n",
            "[3, 32000] loss: 0.000\n",
            "[3, 33000] loss: 0.000\n",
            "[3, 34000] loss: 0.000\n",
            "[3, 35000] loss: 0.000\n",
            "[3, 36000] loss: 0.000\n",
            "[3, 37000] loss: 0.000\n",
            "[3, 38000] loss: 0.000\n",
            "[3, 39000] loss: 0.000\n",
            "[3, 40000] loss: 0.000\n",
            "[3, 41000] loss: 0.000\n",
            "[3, 42000] loss: 0.000\n",
            "[3, 43000] loss: 0.000\n",
            "[3, 44000] loss: 0.000\n",
            "[3, 45000] loss: 0.000\n",
            "[3, 46000] loss: 0.000\n",
            "[3, 47000] loss: 0.000\n",
            "[3, 48000] loss: 0.000\n",
            "[3, 49000] loss: 0.000\n",
            "[3, 50000] loss: 0.000\n",
            "[3, 51000] loss: 0.000\n",
            "[3, 52000] loss: 0.000\n",
            "[4,  1000] loss: 0.000\n",
            "[4,  2000] loss: 0.000\n",
            "[4,  3000] loss: 0.000\n",
            "[4,  4000] loss: 0.000\n",
            "[4,  5000] loss: 0.000\n",
            "[4,  6000] loss: 0.000\n",
            "[4,  7000] loss: 0.000\n",
            "[4,  8000] loss: 0.000\n",
            "[4,  9000] loss: 0.000\n",
            "[4, 10000] loss: 0.000\n",
            "[4, 11000] loss: 0.000\n",
            "[4, 12000] loss: 0.000\n",
            "[4, 13000] loss: 0.000\n",
            "[4, 14000] loss: 0.000\n",
            "[4, 15000] loss: 0.000\n",
            "[4, 16000] loss: 0.000\n",
            "[4, 17000] loss: 0.000\n",
            "[4, 18000] loss: 0.000\n",
            "[4, 19000] loss: 0.000\n",
            "[4, 20000] loss: 0.000\n",
            "[4, 21000] loss: 0.000\n",
            "[4, 22000] loss: 0.000\n",
            "[4, 23000] loss: 0.000\n",
            "[4, 24000] loss: 0.000\n",
            "[4, 25000] loss: 0.000\n",
            "[4, 26000] loss: 0.000\n",
            "[4, 27000] loss: 0.000\n",
            "[4, 28000] loss: 0.000\n",
            "[4, 29000] loss: 0.000\n",
            "[4, 30000] loss: 0.000\n",
            "[4, 31000] loss: 0.000\n",
            "[4, 32000] loss: 0.000\n",
            "[4, 33000] loss: 0.000\n",
            "[4, 34000] loss: 0.000\n",
            "[4, 35000] loss: 0.000\n",
            "[4, 36000] loss: 0.000\n",
            "[4, 37000] loss: 0.000\n",
            "[4, 38000] loss: 0.000\n",
            "[4, 39000] loss: 0.000\n",
            "[4, 40000] loss: 0.000\n",
            "[4, 41000] loss: 0.000\n",
            "[4, 42000] loss: 0.000\n",
            "[4, 43000] loss: 0.000\n",
            "[4, 44000] loss: 0.000\n",
            "[4, 45000] loss: 0.000\n",
            "[4, 46000] loss: 0.000\n",
            "[4, 47000] loss: 0.000\n",
            "[4, 48000] loss: 0.000\n",
            "[4, 49000] loss: 0.000\n",
            "[4, 50000] loss: 0.000\n",
            "[4, 51000] loss: 0.000\n",
            "[4, 52000] loss: 0.000\n",
            "Finished Training\n"
          ],
          "name": "stdout"
        }
      ]
    },
    {
      "cell_type": "code",
      "metadata": {
        "colab_type": "code",
        "id": "CSoLjUOliRxh",
        "outputId": "06a16e9a-d7b2-46bd-b790-ad16a2310b0a",
        "colab": {
          "base_uri": "https://localhost:8080/",
          "height": 50
        }
      },
      "source": [
        "correct = 0\n",
        "total = 0\n",
        "wrong_im = []\n",
        "wrong_label = []\n",
        "with torch.no_grad():\n",
        "    for data in testloader:\n",
        "        images, labels = data\n",
        "        outputs = net(images)\n",
        "        _, predicted = torch.max(outputs.data, 1)\n",
        "        total += labels.size(0)\n",
        "        correct += (predicted == labels).sum().item()\n",
        "        k = 0\n",
        "        for truth in (predicted == labels): \n",
        "          if not truth: \n",
        "            wrong_im.append(images[k])\n",
        "            wrong_label.append(int(labels[k]))\n",
        "          k += 1\n",
        "        \n",
        "        \n",
        "\n",
        "print(\"Accuracy of the network on the \" + str(total) + ' test images: %d %%' % (\n",
        "    100 * correct / total))\n",
        "\n",
        "print(\"Number of mistakes : \" +str(total-correct))\n",
        "index = 0"
      ],
      "execution_count": 16,
      "outputs": [
        {
          "output_type": "stream",
          "text": [
            "Accuracy of the network on the 90000 test images: 99 %\n",
            "Number of mistakes : 2\n"
          ],
          "name": "stdout"
        }
      ]
    },
    {
      "cell_type": "code",
      "metadata": {
        "colab_type": "code",
        "id": "_2qbFlsY0EY3",
        "outputId": "ebb570c8-81d1-4ffe-b8bc-d8efac1df364",
        "colab": {
          "base_uri": "https://localhost:8080/",
          "height": 281
        }
      },
      "source": [
        "if index in range(len(wrong_im)):\n",
        "  display_image(wrong_im[index], wrong_label[index])\n",
        "  index += 1"
      ],
      "execution_count": 18,
      "outputs": [
        {
          "output_type": "display_data",
          "data": {
            "image/png": "[encoded data removed]",
            "text/plain": [
              "<Figure size 432x288 with 1 Axes>"
            ]
          },
          "metadata": {
            "tags": []
          }
        }
      ]
    }
  ]
}