{
  "nbformat": 4,
  "nbformat_minor": 0,
  "metadata": {
    "accelerator": "GPU",
    "colab": {
      "name": "Data_analysis1.ipynb",
      "provenance": [],
      "collapsed_sections": [],
      "include_colab_link": true
    },
    "kernelspec": {
      "name": "python3",
      "display_name": "Python 3"
    },
    "language_info": {
      "codemirror_mode": {
        "name": "ipython",
        "version": 3
      },
      "file_extension": ".py",
      "mimetype": "text/x-python",
      "name": "python",
      "nbconvert_exporter": "python",
      "pygments_lexer": "ipython3",
      "version": "3.7.3"
    }
  },
  "cells": [
    {
      "cell_type": "markdown",
      "metadata": {
        "id": "view-in-github",
        "colab_type": "text"
      },
      "source": [
        "<a href=\"https://colab.research.google.com/github/lustea0201/Interpretability/blob/master/Data_analysis1.ipynb\" target=\"_parent\"><img src=\"https://colab.research.google.com/assets/colab-badge.svg\" alt=\"Open In Colab\"/></a>"
      ]
    },
    {
      "cell_type": "markdown",
      "metadata": {
        "id": "1uv-An0P9QTD",
        "colab_type": "text"
      },
      "source": [
        "# Importing the first dataset "
      ]
    },
    {
      "cell_type": "code",
      "metadata": {
        "colab_type": "code",
        "id": "h4NeSToBbJMn",
        "outputId": "6b02e025-e3b1-4deb-d943-c1618c61b03c",
        "colab": {
          "base_uri": "https://localhost:8080/",
          "height": 121
        }
      },
      "source": [
        "import zipfile\n",
        "import io\n",
        "import cv2\n",
        "import glob \n",
        "import numpy as np\n",
        "import random \n",
        "import torch \n",
        "\n",
        "torch.manual_seed(0) # Reproducible, for now \n",
        "\n",
        "dtype = torch.float\n",
        "device = torch.device(\"cpu\") \n",
        "\n",
        "FIGSIZE = (12,10)\n",
        "\n",
        "!rm -rf main_dir\n",
        "!rm -rf data.zip\n",
        "\n",
        "m = 2 # 1 to import local file, 2 to import from drive\n",
        "\n",
        "if (m == 1): \n",
        "  from google.colab import files\n",
        "  uploaded = files.upload()\n",
        "  data = zipfile.ZipFile(io.BytesIO(uploaded['data.zip']), 'r')\n",
        "\n",
        "if (m == 2): \n",
        "  from google.colab import drive\n",
        "  drive.mount('/content/drive/')\n",
        "\n",
        "  data = zipfile.ZipFile(\"/content/drive/My Drive/Interpretability/1000/data1/data.zip\", 'r')\n",
        "\n",
        "\n",
        "\n",
        "root_dir = \"main_dir\"\n",
        "data.extractall(root_dir)\n",
        "data.close()"
      ],
      "execution_count": 1,
      "outputs": [
        {
          "output_type": "stream",
          "text": [
            "Go to this URL in a browser: https://accounts.google.com/o/oauth2/auth?client_id=947318989803-6bn6qk8qdgf4n4g3pfee6491hc0brc4i.apps.googleusercontent.com&redirect_uri=urn%3aietf%3awg%3aoauth%3a2.0%3aoob&response_type=code&scope=email%20https%3a%2f%2fwww.googleapis.com%2fauth%2fdocs.test%20https%3a%2f%2fwww.googleapis.com%2fauth%2fdrive%20https%3a%2f%2fwww.googleapis.com%2fauth%2fdrive.photos.readonly%20https%3a%2f%2fwww.googleapis.com%2fauth%2fpeopleapi.readonly\n",
            "\n",
            "Enter your authorization code:\n",
            "··········\n",
            "Mounted at /content/drive/\n"
          ],
          "name": "stdout"
        }
      ]
    },
    {
      "cell_type": "code",
      "metadata": {
        "colab_type": "code",
        "id": "vAf1Fk2IbguJ",
        "colab": {}
      },
      "source": [
        "from torchvision.datasets import ImageFolder\n",
        "from torch.utils.data import DataLoader\n",
        "from torchvision.transforms import Resize, ToTensor, Normalize\n",
        "from torchvision import transforms\n",
        "import os\n",
        "import matplotlib.pyplot as plt\n",
        "import numpy as np\n",
        "\n",
        "transforms = transforms.Compose( [ToTensor(), \n",
        "                                  Normalize(mean=(0.5, 0.5, 0.5), std=(0.5, 0.5, 0.5))])\n",
        "\n",
        "\n",
        "train_data = ImageFolder(root = os.path.join(root_dir, 'train'), transform = transforms)\n",
        "\n",
        "test_data = ImageFolder(root = os.path.join(root_dir, 'test'), transform = transforms)\n",
        "\n",
        "idx_to_class = {j:i for i,j in train_data.class_to_idx.items()}\n"
      ],
      "execution_count": 0,
      "outputs": []
    },
    {
      "cell_type": "markdown",
      "metadata": {
        "id": "rZbOwxII9bcn",
        "colab_type": "text"
      },
      "source": [
        "# Dataset description \n",
        "\n",
        "\n",
        "*   Label 0: the image doesn't contain any shape \n",
        "*   Label 1: the image contains at least one shape \n",
        "Here are two examples: \n",
        "\n"
      ]
    },
    {
      "cell_type": "code",
      "metadata": {
        "colab_type": "code",
        "id": "cSTJr4lCmYaB",
        "outputId": "8a0c312c-a6ba-41f0-8a2f-164c47d94005",
        "colab": {
          "base_uri": "https://localhost:8080/",
          "height": 607
        }
      },
      "source": [
        "\n",
        "\n",
        "def display_image(image, true_label, predicted_label = None): \n",
        "  plt.figure(figsize = FIGSIZE)\n",
        "  sample_image = image.numpy().transpose(1,2,0)\n",
        "  mean = np.array([0.5, 0.5, 0.5])\n",
        "  sd = np.array([0.5, 0.5, 0.5])\n",
        "  im = sample_image*sd + mean\n",
        "  plt.imshow(im)\n",
        "  title_ = \"True label : \" + idx_to_class[true_label]\n",
        "  \n",
        "  if (predicted_label != None):\n",
        "    title_ += \"/ Predicted : \" + idx_to_class[predicted_label]\n",
        "\n",
        "\n",
        "  plt.title(title_)\n",
        "\n",
        "display_image(train_data[0][0], train_data[0][1])\n",
        "\n",
        "\n"
      ],
      "execution_count": 3,
      "outputs": [
        {
          "output_type": "display_data",
          "data": {
            "image/png": "[encoded data removed]",
            "text/plain": [
              "<Figure size 864x720 with 1 Axes>"
            ]
          },
          "metadata": {
            "tags": []
          }
        }
      ]
    },
    {
      "cell_type": "code",
      "metadata": {
        "id": "_M0hHUuQ-qYb",
        "colab_type": "code",
        "outputId": "e56b7f5e-89e7-4789-b081-8c263c9bd6e3",
        "colab": {
          "base_uri": "https://localhost:8080/",
          "height": 607
        }
      },
      "source": [
        "display_image(train_data[-1][0], train_data[-1][1])"
      ],
      "execution_count": 4,
      "outputs": [
        {
          "output_type": "display_data",
          "data": {
            "image/png": "[encoded data removed]",
            "text/plain": [
              "<Figure size 864x720 with 1 Axes>"
            ]
          },
          "metadata": {
            "tags": []
          }
        }
      ]
    },
    {
      "cell_type": "code",
      "metadata": {
        "colab_type": "code",
        "id": "Hoo3HmSLqBbd",
        "colab": {}
      },
      "source": [
        "batch_Size = 4\n",
        "dataloader = DataLoader(train_data, batch_size = batch_Size, shuffle = True, num_workers = 0)\n",
        "\n",
        "testloader = DataLoader(test_data, batch_size = batch_Size, shuffle = True, num_workers = 0)\n",
        "\n",
        "train_loader = iter(dataloader)\n",
        "x,y = next(train_loader)\n",
        "\n"
      ],
      "execution_count": 0,
      "outputs": []
    },
    {
      "cell_type": "markdown",
      "metadata": {
        "id": "qkyIUp28HrrJ",
        "colab_type": "text"
      },
      "source": [
        "# Model description\n",
        "The neural network used to classify the images receives batches of 3x100x120 images. \n",
        "It consists of \n",
        "* two convolutional layers followed by max pooling \n",
        "* three fully connected layers"
      ]
    },
    {
      "cell_type": "markdown",
      "metadata": {
        "colab_type": "text",
        "id": "q04CfJzYqnVr"
      },
      "source": [
        "https://www.youtube.com/watch?v=fXEdtz8U3Sc"
      ]
    },
    {
      "cell_type": "code",
      "metadata": {
        "colab_type": "code",
        "id": "7ZHuALqxGmy9",
        "colab": {}
      },
      "source": [
        "import torch.nn as nn\n",
        "import torch.nn.functional as F\n",
        "\n",
        "\n",
        "class Net(nn.Module):\n",
        "  \n",
        "  def __init__(self):\n",
        "    super(Net, self).__init__()\n",
        "    self.conv1 = nn.Conv2d(3, 6, 5)\n",
        "    self.pool1 = nn.MaxPool2d(2)\n",
        "    self.conv2 = nn.Conv2d(6, 16, 4)\n",
        "    self.pool2 = nn.MaxPool2d(5)\n",
        "    self.fc1 = nn.Linear(16 * 9 * 11, 120)\n",
        "    self.fc2 = nn.Linear(120, 84)\n",
        "    self.fc3 = nn.Linear(84, 2)\n",
        "  \n",
        "\n",
        "  def forward(self, x):\n",
        "    x = F.relu(self.conv1(x))\n",
        "    x = self.pool1(x)\n",
        "    x = F.relu(self.conv2(x))\n",
        "    x = self.pool2(x)\n",
        "    x = x.view(-1, self.num_flat_features(x)) # 16*9*11\n",
        "    x = F.relu(self.fc1(x))\n",
        "    x = F.relu(self.fc2(x))\n",
        "    x = self.fc3(x)\n",
        "    return x\n",
        "  \n",
        "  def num_flat_features(self, x):\n",
        "      size = x.size()[1:]  # all dimensions except the batch dimension\n",
        "      num_features = 1\n",
        "      for s in size:\n",
        "          num_features *= s\n",
        "      return num_features\n",
        "\n",
        "\n",
        "net = Net().to(device)\n"
      ],
      "execution_count": 0,
      "outputs": []
    },
    {
      "cell_type": "markdown",
      "metadata": {
        "id": "CMlUWA54IX0F",
        "colab_type": "text"
      },
      "source": [
        "The network is implemented with cross entropy loss and L2 regularization. "
      ]
    },
    {
      "cell_type": "code",
      "metadata": {
        "colab_type": "code",
        "id": "OxH1U0hnaTzk",
        "colab": {}
      },
      "source": [
        "import torch.optim as optim\n",
        "\n",
        "regularization_strength = 0.003\n",
        "learning_rate = 0.0001\n",
        "mom = 0.9\n",
        "\n",
        "criterion = nn.CrossEntropyLoss()\n",
        "optimizer = optim.SGD(net.parameters(), lr = learning_rate, momentum = mom, weight_decay = regularization_strength)"
      ],
      "execution_count": 0,
      "outputs": []
    },
    {
      "cell_type": "code",
      "metadata": {
        "colab_type": "code",
        "id": "D5-jWYmoaViF",
        "outputId": "c4af3b1d-edbd-467f-df08-717be2ede92e",
        "colab": {
          "base_uri": "https://localhost:8080/",
          "height": 1000
        }
      },
      "source": [
        "max_epochs = 1000\n",
        "out_period = 0.5*len(train_data)/batch_Size # twice per generation\n",
        "plot_period = 0.5*out_period # four times per generation\n",
        "converged = False\n",
        "epsilon = 0.001\n",
        "\n",
        "def almost_equal(n1, n2, e): \n",
        "  return abs(n1-n2) < e\n",
        "\n",
        "loss_list = []\n",
        "for epoch in range(max_epochs):  # loop over the dataset multiple times\n",
        "\n",
        "  running_loss_plot = 0.0\n",
        "  running_loss_out = 0.0\n",
        "  if not converged: \n",
        "    for i, data in enumerate(dataloader, 0):\n",
        "      \n",
        "      # get the inputs; data is a list of [inputs, labels]\n",
        "      inputs, labels = data\n",
        "      inputs = inputs.to(device)\n",
        "      labels = labels.to(device)\n",
        "\n",
        "      # zero the parameter gradients\n",
        "      optimizer.zero_grad()\n",
        "\n",
        "      # forward + backward + optimize\n",
        "      outputs = net(inputs)\n",
        "      loss = criterion(outputs, labels)\n",
        "\n",
        "      loss.backward()\n",
        "      optimizer.step()\n",
        "\n",
        "      # plot loss \n",
        "      running_loss_plot += loss.item()\n",
        "      running_loss_out += loss.item()\n",
        "\n",
        "      if (i % plot_period == (plot_period - 1)):    \n",
        "        loss_list.append(running_loss_plot/plot_period)\n",
        "        running_loss_plot = 0.0\n",
        "\n",
        "      if (i % out_period == (out_period - 1)):    # print every 200 mini-batches\n",
        "          print('[%d, %5d] loss: %.3f' %\n",
        "                (epoch + 1, i + 1, running_loss_out / out_period))\n",
        "          running_loss_out = 0.0\n",
        "\n",
        "      if (len(loss_list) > 4): \n",
        "        c = almost_equal(loss_list[-4], loss_list[-3], epsilon) \n",
        "        c = c and almost_equal(loss_list[-4], loss_list[-2], epsilon)\n",
        "        converged = c and almost_equal(loss_list[-4], loss_list[-1], epsilon)\n",
        "  \n",
        "if (converged): \n",
        "  print (\"Network has converged.\")\n",
        "else: \n",
        "  print(\"Network hasn't been able to converge in \" + str(max_epochs) + \" generations.\")\n",
        "\n",
        "          \n",
        "\n"
      ],
      "execution_count": 35,
      "outputs": [
        {
          "output_type": "stream",
          "text": [
            "[1,   250] loss: 0.699\n",
            "[1,   500] loss: 0.691\n",
            "[2,   250] loss: 0.695\n",
            "[2,   500] loss: 0.688\n",
            "[3,   250] loss: 0.689\n",
            "[3,   500] loss: 0.688\n",
            "[4,   250] loss: 0.685\n",
            "[4,   500] loss: 0.685\n",
            "[5,   250] loss: 0.682\n",
            "[5,   500] loss: 0.679\n",
            "[6,   250] loss: 0.675\n",
            "[6,   500] loss: 0.673\n",
            "[7,   250] loss: 0.666\n",
            "[7,   500] loss: 0.660\n",
            "[8,   250] loss: 0.649\n",
            "[8,   500] loss: 0.639\n",
            "[9,   250] loss: 0.622\n",
            "[9,   500] loss: 0.595\n",
            "[10,   250] loss: 0.562\n",
            "[10,   500] loss: 0.522\n",
            "[11,   250] loss: 0.471\n",
            "[11,   500] loss: 0.430\n",
            "[12,   250] loss: 0.380\n",
            "[12,   500] loss: 0.352\n",
            "[13,   250] loss: 0.318\n",
            "[13,   500] loss: 0.282\n",
            "[14,   250] loss: 0.260\n",
            "[14,   500] loss: 0.233\n",
            "[15,   250] loss: 0.226\n",
            "[15,   500] loss: 0.183\n",
            "[16,   250] loss: 0.179\n",
            "[16,   500] loss: 0.154\n",
            "[17,   250] loss: 0.150\n",
            "[17,   500] loss: 0.127\n",
            "[18,   250] loss: 0.119\n",
            "[18,   500] loss: 0.111\n",
            "[19,   250] loss: 0.099\n",
            "[19,   500] loss: 0.088\n",
            "[20,   250] loss: 0.089\n",
            "[20,   500] loss: 0.075\n",
            "[21,   250] loss: 0.066\n",
            "[21,   500] loss: 0.065\n",
            "[22,   250] loss: 0.062\n",
            "[22,   500] loss: 0.049\n",
            "[23,   250] loss: 0.049\n",
            "[23,   500] loss: 0.047\n",
            "[24,   250] loss: 0.046\n",
            "[24,   500] loss: 0.037\n",
            "[25,   250] loss: 0.036\n",
            "[25,   500] loss: 0.041\n",
            "[26,   250] loss: 0.034\n",
            "[26,   500] loss: 0.028\n",
            "[27,   250] loss: 0.024\n",
            "[27,   500] loss: 0.029\n",
            "[28,   250] loss: 0.032\n",
            "[28,   500] loss: 0.026\n",
            "[29,   250] loss: 0.021\n",
            "[29,   500] loss: 0.025\n",
            "[30,   250] loss: 0.020\n",
            "[30,   500] loss: 0.018\n",
            "[31,   250] loss: 0.016\n",
            "[31,   500] loss: 0.018\n",
            "[32,   250] loss: 0.017\n",
            "[32,   500] loss: 0.015\n",
            "[33,   250] loss: 0.016\n",
            "[33,   500] loss: 0.013\n",
            "[34,   250] loss: 0.013\n",
            "[34,   500] loss: 0.017\n",
            "[35,   250] loss: 0.019\n",
            "[35,   500] loss: 0.037\n",
            "[36,   250] loss: 0.022\n",
            "[36,   500] loss: 0.021\n",
            "[37,   250] loss: 0.020\n",
            "[37,   500] loss: 0.036\n",
            "[38,   250] loss: 0.019\n",
            "[38,   500] loss: 0.019\n",
            "[39,   250] loss: 0.011\n",
            "[39,   500] loss: 0.014\n",
            "[40,   250] loss: 0.010\n",
            "[40,   500] loss: 0.046\n",
            "[41,   250] loss: 0.081\n",
            "[41,   500] loss: 0.075\n",
            "[42,   250] loss: 0.056\n",
            "[42,   500] loss: 0.043\n",
            "[43,   250] loss: 0.032\n",
            "[43,   500] loss: 0.035\n",
            "[44,   250] loss: 0.023\n",
            "[44,   500] loss: 0.021\n",
            "[45,   250] loss: 0.016\n",
            "[45,   500] loss: 0.015\n",
            "[46,   250] loss: 0.013\n",
            "[46,   500] loss: 0.009\n",
            "[47,   250] loss: 0.011\n",
            "[47,   500] loss: 0.007\n",
            "[48,   250] loss: 0.006\n",
            "[48,   500] loss: 0.010\n",
            "[49,   250] loss: 0.009\n",
            "[49,   500] loss: 0.005\n",
            "[50,   250] loss: 0.006\n",
            "[50,   500] loss: 0.007\n",
            "[51,   250] loss: 0.006\n",
            "[51,   500] loss: 0.005\n",
            "[52,   250] loss: 0.004\n",
            "[52,   500] loss: 0.007\n",
            "[53,   250] loss: 0.004\n",
            "[53,   500] loss: 0.006\n",
            "[54,   250] loss: 0.006\n",
            "[54,   500] loss: 0.004\n",
            "[55,   250] loss: 0.005\n",
            "[55,   500] loss: 0.004\n",
            "[56,   250] loss: 0.003\n",
            "[56,   500] loss: 0.006\n",
            "[57,   250] loss: 0.004\n",
            "[57,   500] loss: 0.005\n",
            "[58,   250] loss: 0.005\n",
            "[58,   500] loss: 0.003\n",
            "[59,   250] loss: 0.003\n",
            "[59,   500] loss: 0.004\n",
            "[60,   250] loss: 0.005\n",
            "[60,   500] loss: 0.002\n",
            "[61,   250] loss: 0.003\n",
            "[61,   500] loss: 0.004\n",
            "[62,   250] loss: 0.003\n",
            "[62,   500] loss: 0.004\n",
            "[63,   250] loss: 0.004\n",
            "[63,   500] loss: 0.003\n",
            "[64,   250] loss: 0.002\n",
            "[64,   500] loss: 0.004\n",
            "[65,   250] loss: 0.003\n",
            "[65,   500] loss: 0.003\n",
            "[66,   250] loss: 0.003\n",
            "[66,   500] loss: 0.003\n",
            "Network has converged.\n"
          ],
          "name": "stdout"
        }
      ]
    },
    {
      "cell_type": "code",
      "metadata": {
        "id": "Ryn4L-Rn7E6s",
        "colab_type": "code",
        "outputId": "e892e1d4-97a8-4566-e7fe-c533ae601e95",
        "colab": {
          "base_uri": "https://localhost:8080/",
          "height": 623
        }
      },
      "source": [
        "plt.figure(figsize = FIGSIZE)\n",
        "x_scale = plot_period*np.linspace(0, len(loss_list)- 1, len(loss_list) )\n",
        "_ = plt.plot(x_scale, loss_list)\n",
        "plt.xlabel(\"Number of iterations\")\n",
        "plt.ylabel(\"Evaluation of the loss function\")"
      ],
      "execution_count": 36,
      "outputs": [
        {
          "output_type": "execute_result",
          "data": {
            "text/plain": [
              "Text(0, 0.5, 'Evaluation of the loss function')"
            ]
          },
          "metadata": {
            "tags": []
          },
          "execution_count": 36
        },
        {
          "output_type": "display_data",
          "data": {
            "image/png": "[encoded data removed]",
            "text/plain": [
              "<Figure size 864x720 with 1 Axes>"
            ]
          },
          "metadata": {
            "tags": []
          }
        }
      ]
    },
    {
      "cell_type": "code",
      "metadata": {
        "colab_type": "code",
        "id": "CSoLjUOliRxh",
        "outputId": "537e0f17-c363-4158-fea4-40f0f6e3151e",
        "colab": {
          "base_uri": "https://localhost:8080/",
          "height": 50
        }
      },
      "source": [
        "correct = 0\n",
        "total = 0\n",
        "wrong_im = []\n",
        "wrong_label = []\n",
        "wrongly_predicted_label = []\n",
        "with torch.no_grad():\n",
        "    for data in testloader:\n",
        "        images, labels = data\n",
        "        images = images.to(device)\n",
        "        labels = labels.to(device)\n",
        "        \n",
        "        outputs = net(images)\n",
        "        _, predicted = torch.max(outputs.data, 1)\n",
        "        total += labels.size(0)\n",
        "        correct += (predicted == labels).sum().item()\n",
        "        k = 0\n",
        "        for truth in (predicted == labels): \n",
        "          if not truth: \n",
        "            wrong_im.append(images[k])\n",
        "            wrong_label.append(int(labels[k]))\n",
        "            wrongly_predicted_label.append(int(predicted[k]))\n",
        "          k += 1\n",
        "        \n",
        "        \n",
        "\n",
        "print(\"Accuracy of the network on the \" + str(total) + ' test images: %2d %%' % (\n",
        "    100 * correct / total))\n",
        "\n",
        "print(\"Number of mistakes : \" +str(total-correct))\n",
        "index = 0"
      ],
      "execution_count": 37,
      "outputs": [
        {
          "output_type": "stream",
          "text": [
            "Accuracy of the network on the 2000 test images: 100 %\n",
            "Number of mistakes : 0\n"
          ],
          "name": "stdout"
        }
      ]
    },
    {
      "cell_type": "code",
      "metadata": {
        "colab_type": "code",
        "id": "_2qbFlsY0EY3",
        "colab": {}
      },
      "source": [
        "if index in range(len(wrong_im)):\n",
        "  display_image(wrong_im[index], wrong_label[index], wrongly_predicted_label[index])\n",
        "  index += 1"
      ],
      "execution_count": 0,
      "outputs": []
    },
    {
      "cell_type": "code",
      "metadata": {
        "id": "1u0zjyeN2AYr",
        "colab_type": "code",
        "colab": {}
      },
      "source": [
        "index = 0"
      ],
      "execution_count": 0,
      "outputs": []
    }
  ]
}