{
  "nbformat": 4,
  "nbformat_minor": 0,
  "metadata": {
    "accelerator": "GPU",
    "colab": {
      "name": "Data_analysis1.ipynb",
      "provenance": [],
      "collapsed_sections": [],
      "include_colab_link": true
    },
    "kernelspec": {
      "name": "python3",
      "display_name": "Python 3"
    },
    "language_info": {
      "codemirror_mode": {
        "name": "ipython",
        "version": 3
      },
      "file_extension": ".py",
      "mimetype": "text/x-python",
      "name": "python",
      "nbconvert_exporter": "python",
      "pygments_lexer": "ipython3",
      "version": "3.7.3"
    }
  },
  "cells": [
    {
      "cell_type": "markdown",
      "metadata": {
        "id": "view-in-github",
        "colab_type": "text"
      },
      "source": [
        "<a href=\"https://colab.research.google.com/github/lustea0201/Interpretability/blob/master/Data_analysis1.ipynb\" target=\"_parent\"><img src=\"https://colab.research.google.com/assets/colab-badge.svg\" alt=\"Open In Colab\"/></a>"
      ]
    },
    {
      "cell_type": "markdown",
      "metadata": {
        "id": "1uv-An0P9QTD",
        "colab_type": "text"
      },
      "source": [
        "# Importing the first dataset "
      ]
    },
    {
      "cell_type": "code",
      "metadata": {
        "colab_type": "code",
        "id": "h4NeSToBbJMn",
        "outputId": "edffac51-0bf5-4fd0-e022-7f099da429ee",
        "colab": {
          "base_uri": "https://localhost:8080/",
          "height": 34
        }
      },
      "source": [
        "import zipfile\n",
        "import io\n",
        "import cv2\n",
        "import glob \n",
        "import numpy as np\n",
        "import random \n",
        "import torch \n",
        "\n",
        "torch.manual_seed(0) # Reproducible, for now \n",
        "\n",
        "dtype = torch.float\n",
        "device = torch.device(\"cpu\") \n",
        "\n",
        "FIGSIZE = (12,10)\n",
        "\n",
        "!rm -rf main_dir\n",
        "!rm -rf data.zip\n",
        "\n",
        "m = 2 # 1 to import local file, 2 to import from drive\n",
        "\n",
        "if (m == 1): \n",
        "  from google.colab import files\n",
        "  uploaded = files.upload()\n",
        "  data = zipfile.ZipFile(io.BytesIO(uploaded['data.zip']), 'r')\n",
        "\n",
        "if (m == 2): \n",
        "  from google.colab import drive\n",
        "  drive.mount('/content/drive/')\n",
        "\n",
        "  data = zipfile.ZipFile(\"/content/drive/My Drive/Interpretability/1000/data1/data.zip\", 'r')\n",
        "\n",
        "\n",
        "\n",
        "root_dir = \"main_dir\"\n",
        "data.extractall(root_dir)\n",
        "data.close()"
      ],
      "execution_count": 51,
      "outputs": [
        {
          "output_type": "stream",
          "text": [
            "Drive already mounted at /content/drive/; to attempt to forcibly remount, call drive.mount(\"/content/drive/\", force_remount=True).\n"
          ],
          "name": "stdout"
        }
      ]
    },
    {
      "cell_type": "code",
      "metadata": {
        "colab_type": "code",
        "id": "vAf1Fk2IbguJ",
        "colab": {}
      },
      "source": [
        "from torchvision.datasets import ImageFolder\n",
        "from torch.utils.data import DataLoader\n",
        "from torchvision.transforms import Resize, ToTensor, Normalize\n",
        "from torchvision import transforms\n",
        "import os\n",
        "import matplotlib.pyplot as plt\n",
        "import numpy as np\n",
        "\n",
        "transforms = transforms.Compose( [ToTensor(), \n",
        "                                  Normalize(mean=(0.5, 0.5, 0.5), std=(0.5, 0.5, 0.5))])\n",
        "\n",
        "\n",
        "train_data = ImageFolder(root = os.path.join(root_dir, 'train'), transform = transforms)\n",
        "\n",
        "val_data = ImageFolder(root = os.path.join(root_dir, 'val'), transform = transforms)\n",
        "\n",
        "test_data = ImageFolder(root = os.path.join(root_dir, 'test'), transform = transforms)\n",
        "\n",
        "idx_to_class = {j:i for i,j in train_data.class_to_idx.items()}\n"
      ],
      "execution_count": 0,
      "outputs": []
    },
    {
      "cell_type": "markdown",
      "metadata": {
        "id": "rZbOwxII9bcn",
        "colab_type": "text"
      },
      "source": [
        "# Dataset description \n",
        "\n",
        "\n",
        "*   Label 0: the image doesn't contain any shape \n",
        "*   Label 1: the image contains at least one shape \n",
        "Here are two examples: \n",
        "\n"
      ]
    },
    {
      "cell_type": "code",
      "metadata": {
        "colab_type": "code",
        "id": "cSTJr4lCmYaB",
        "outputId": "b3c3da32-d241-4682-84fe-c4a40be3dd2d",
        "colab": {
          "base_uri": "https://localhost:8080/",
          "height": 607
        }
      },
      "source": [
        "\n",
        "\n",
        "def display_image(image, true_label, predicted_label = None): \n",
        "  plt.figure(figsize = FIGSIZE)\n",
        "  sample_image = image.numpy().transpose(1,2,0)\n",
        "  mean = np.array([0.5, 0.5, 0.5])\n",
        "  sd = np.array([0.5, 0.5, 0.5])\n",
        "  im = sample_image*sd + mean\n",
        "  plt.imshow(im)\n",
        "  title_ = \"True label : \" + idx_to_class[true_label]\n",
        "  \n",
        "  if (predicted_label != None):\n",
        "    title_ += \"/ Predicted : \" + idx_to_class[predicted_label]\n",
        "\n",
        "\n",
        "  plt.title(title_)\n",
        "\n",
        "display_image(train_data[0][0], train_data[0][1])\n",
        "\n",
        "\n"
      ],
      "execution_count": 53,
      "outputs": [
        {
          "output_type": "display_data",
          "data": {
            "image/png": "[encoded data removed]",
            "text/plain": [
              "<Figure size 864x720 with 1 Axes>"
            ]
          },
          "metadata": {
            "tags": []
          }
        }
      ]
    },
    {
      "cell_type": "code",
      "metadata": {
        "id": "_M0hHUuQ-qYb",
        "colab_type": "code",
        "outputId": "fae5865d-ad90-439c-d70e-37cd1e0fd603",
        "colab": {
          "base_uri": "https://localhost:8080/",
          "height": 607
        }
      },
      "source": [
        "display_image(train_data[-1][0], train_data[-1][1])"
      ],
      "execution_count": 54,
      "outputs": [
        {
          "output_type": "display_data",
          "data": {
            "image/png": "[encoded data removed]",
            "text/plain": [
              "<Figure size 864x720 with 1 Axes>"
            ]
          },
          "metadata": {
            "tags": []
          }
        }
      ]
    },
    {
      "cell_type": "code",
      "metadata": {
        "colab_type": "code",
        "id": "Hoo3HmSLqBbd",
        "colab": {}
      },
      "source": [
        "batch_Size = 4\n",
        "dataloader = DataLoader(train_data, batch_size = batch_Size, shuffle = True, num_workers = 0)\n",
        "\n",
        "valloader = DataLoader(val_data, batch_size = batch_Size, shuffle = True, num_workers = 0)\n",
        "\n",
        "testloader = DataLoader(test_data, batch_size = batch_Size, shuffle = True, num_workers = 0)\n",
        "\n",
        "train_loader = iter(dataloader)\n",
        "x,y = next(train_loader)\n",
        "\n"
      ],
      "execution_count": 0,
      "outputs": []
    },
    {
      "cell_type": "markdown",
      "metadata": {
        "id": "qkyIUp28HrrJ",
        "colab_type": "text"
      },
      "source": [
        "# Model description\n",
        "The neural network used to classify the images receives batches of 3x100x120 images. \n",
        "It consists of \n",
        "* two convolutional layers followed by max pooling \n",
        "* three fully connected layers"
      ]
    },
    {
      "cell_type": "markdown",
      "metadata": {
        "colab_type": "text",
        "id": "q04CfJzYqnVr"
      },
      "source": [
        "https://www.youtube.com/watch?v=fXEdtz8U3Sc"
      ]
    },
    {
      "cell_type": "code",
      "metadata": {
        "colab_type": "code",
        "id": "7ZHuALqxGmy9",
        "colab": {}
      },
      "source": [
        "import torch.nn as nn\n",
        "import torch.nn.functional as F\n",
        "\n",
        "\n",
        "class Net(nn.Module):\n",
        "  \n",
        "  def __init__(self):\n",
        "    super(Net, self).__init__()\n",
        "    self.conv1 = nn.Conv2d(3, 6, 5)\n",
        "    self.pool1 = nn.MaxPool2d(2)\n",
        "    self.conv2 = nn.Conv2d(6, 16, 4)\n",
        "    self.pool2 = nn.MaxPool2d(5)\n",
        "    self.fc1 = nn.Linear(16 * 9 * 11, 120)\n",
        "    self.fc2 = nn.Linear(120, 84)\n",
        "    self.fc3 = nn.Linear(84, 2)\n",
        "    self.drop = nn.Dropout(p = 0.5)\n",
        "  \n",
        "\n",
        "  def forward(self, x):\n",
        "    x = F.relu(self.conv1(x))\n",
        "    x = self.pool1(x)\n",
        "    x = F.relu(self.conv2(x))\n",
        "    x = self.pool2(x)\n",
        "    x = x.view(-1, self.num_flat_features(x)) # 16*9*11\n",
        "    x = self.drop(F.relu(self.fc1(x)))\n",
        "    x = self.drop(F.relu(self.fc2(x)))\n",
        "    x = self.fc3(x)\n",
        "    return x\n",
        "  \n",
        "  def num_flat_features(self, x):\n",
        "      size = x.size()[1:]  # all dimensions except the batch dimension\n",
        "      num_features = 1\n",
        "      for s in size:\n",
        "          num_features *= s\n",
        "      return num_features\n",
        "\n",
        "\n",
        "net = Net()\n"
      ],
      "execution_count": 0,
      "outputs": []
    },
    {
      "cell_type": "markdown",
      "metadata": {
        "id": "CMlUWA54IX0F",
        "colab_type": "text"
      },
      "source": [
        "The network is implemented with cross entropy loss and L2 regularization. "
      ]
    },
    {
      "cell_type": "code",
      "metadata": {
        "colab_type": "code",
        "id": "OxH1U0hnaTzk",
        "colab": {}
      },
      "source": [
        "import torch.optim as optim\n",
        "\n",
        "regularization_strength = 0 #0.003\n",
        "learning_rate = 0.001\n",
        "mom = 0.5\n",
        "\n",
        "criterion = nn.CrossEntropyLoss()\n",
        "optimizer = optim.SGD(net.parameters(), lr = learning_rate, momentum = mom,\n",
        "                      weight_decay = regularization_strength)"
      ],
      "execution_count": 0,
      "outputs": []
    },
    {
      "cell_type": "code",
      "metadata": {
        "colab_type": "code",
        "id": "D5-jWYmoaViF",
        "outputId": "03955af7-0292-4bea-9f14-df1e8f1aba6c",
        "colab": {
          "base_uri": "https://localhost:8080/",
          "height": 979
        }
      },
      "source": [
        "max_epochs = 1000\n",
        "converged = False\n",
        "epsilon = 0.0002\n",
        "\n",
        "def almost_equal(n1, n2, e): \n",
        "  return abs(n1-n2) < e\n",
        "\n",
        "\n",
        "\n",
        "def training_accuracy(network, loader): \n",
        "  with torch.no_grad(): \n",
        "    correct = 0\n",
        "    total = 0\n",
        "    for data in loader: \n",
        "      images, labels = data             \n",
        "      outputs = network(images)\n",
        "      _, predicted = torch.max(outputs.data, 1)\n",
        "      total += labels.size(0)\n",
        "      correct += (predicted == labels).sum().item()\n",
        "  return 100 * correct/total\n",
        "\n",
        "\n",
        "def validation_stats(network, loader, crit): \n",
        "  total_loss = 0\n",
        "  correct = 0\n",
        "  total = 0\n",
        "  with torch.no_grad(): \n",
        "    for data in loader: \n",
        "      images, labels = data             \n",
        "      outputs = network(images)\n",
        "      _, predicted = torch.max(outputs.data, 1)\n",
        "      total += labels.size(0)\n",
        "      correct += (predicted == labels).sum().item()\n",
        "      loss = criterion(outputs, labels)\n",
        "      total_loss += loss.item()\n",
        "\n",
        "  return (100 * correct/total, total_loss/len(loader.dataset))\n",
        "\n",
        "def network_has_converged(loss, e): \n",
        "  if (len(loss) < 4):\n",
        "    return False\n",
        "  else: \n",
        "    return (almost_equal(loss[-4], loss[-3], e) and \n",
        "            almost_equal(loss[-4], loss[-2], e) and \n",
        "            almost_equal(loss[-4], loss[-1], e) )\n",
        "          \n",
        "\n",
        "train_loss = []\n",
        "val_loss = []\n",
        "train_accuracy = []\n",
        "val_accuracy = []\n",
        "\n",
        "for epoch in range(max_epochs):  # loop over the dataset multiple times\n",
        "\n",
        "  running_loss = 0.0\n",
        "  if not converged: \n",
        "    for i, data in enumerate(dataloader, 0):\n",
        "      \n",
        "      # get the inputs; data is a list of [inputs, labels]\n",
        "      inputs, labels = data\n",
        "      inputs = inputs.to(device)\n",
        "      labels = labels.to(device)\n",
        "\n",
        "      # zero the parameter gradients\n",
        "      optimizer.zero_grad()\n",
        "\n",
        "      # forward + backward + optimize\n",
        "      outputs = net(inputs)\n",
        "      loss = criterion(outputs, labels)\n",
        "\n",
        "      loss.backward()\n",
        "      optimizer.step()\n",
        "\n",
        "      # plot loss \n",
        "      running_loss += loss.item()\n",
        "\n",
        "    \n",
        "\n",
        "    train_loss.append(running_loss/len(dataloader.dataset))\n",
        "    train_accuracy.append(training_accuracy(net, dataloader))\n",
        "    A, L = validation_stats(net, valloader, criterion)\n",
        "    val_loss.append(L)\n",
        "    val_accuracy.append(A)\n",
        "\n",
        "    print('Generation %d. training loss: %.4f,' \n",
        "          % (epoch + 1, train_loss[-1]), end = \"\")\n",
        "    print(\" training accuracy: %.2f \" % (train_accuracy[-1]), end = \"%,\")\n",
        "    print(\" validation loss: %.4f,\" % (val_loss[-1]), end = \" \")\n",
        "    print(\" validation accuracy: %.2f \" % (val_accuracy[-1]), end=\"% \\n\")    \n",
        "\n",
        "    converged = network_has_converged(train_loss, epsilon)\n",
        "      \n",
        "  \n",
        "if (converged): \n",
        "  print (\"Network has converged.\")\n",
        "else: \n",
        "  print(\"Network hasn't been able to converge in \" + str(max_epochs) + \" generations.\")\n",
        "\n",
        "          \n",
        "\n"
      ],
      "execution_count": 90,
      "outputs": [
        {
          "output_type": "stream",
          "text": [
            "Generation 1. training loss: 0.1730, training accuracy: 50.70 %, validation loss: 0.1725,  validation accuracy: 50.35 % \n",
            "Generation 2. training loss: 0.1722, training accuracy: 55.85 %, validation loss: 0.1717,  validation accuracy: 57.15 % \n",
            "Generation 3. training loss: 0.1711, training accuracy: 63.75 %, validation loss: 0.1706,  validation accuracy: 64.35 % \n",
            "Generation 4. training loss: 0.1691, training accuracy: 72.65 %, validation loss: 0.1680,  validation accuracy: 71.15 % \n",
            "Generation 5. training loss: 0.1648, training accuracy: 76.45 %, validation loss: 0.1608,  validation accuracy: 75.95 % \n",
            "Generation 6. training loss: 0.1504, training accuracy: 93.60 %, validation loss: 0.1371,  validation accuracy: 95.25 % \n",
            "Generation 7. training loss: 0.1147, training accuracy: 96.50 %, validation loss: 0.0945,  validation accuracy: 96.90 % \n",
            "Generation 8. training loss: 0.0777, training accuracy: 97.55 %, validation loss: 0.0637,  validation accuracy: 97.85 % \n",
            "Generation 9. training loss: 0.0541, training accuracy: 98.55 %, validation loss: 0.0459,  validation accuracy: 97.85 % \n",
            "Generation 10. training loss: 0.0397, training accuracy: 98.90 %, validation loss: 0.0340,  validation accuracy: 98.30 % \n",
            "Generation 11. training loss: 0.0291, training accuracy: 99.30 %, validation loss: 0.0263,  validation accuracy: 98.50 % \n",
            "Generation 12. training loss: 0.0226, training accuracy: 99.20 %, validation loss: 0.0216,  validation accuracy: 98.85 % \n",
            "Generation 13. training loss: 0.0190, training accuracy: 99.50 %, validation loss: 0.0163,  validation accuracy: 99.15 % \n",
            "Generation 14. training loss: 0.0184, training accuracy: 96.00 %, validation loss: 0.0291,  validation accuracy: 96.45 % \n",
            "Generation 15. training loss: 0.0294, training accuracy: 97.30 %, validation loss: 0.0259,  validation accuracy: 96.95 % \n",
            "Generation 16. training loss: 0.0191, training accuracy: 98.45 %, validation loss: 0.0187,  validation accuracy: 97.95 % \n",
            "Generation 17. training loss: 0.0158, training accuracy: 98.90 %, validation loss: 0.0171,  validation accuracy: 98.25 % \n",
            "Generation 18. training loss: 0.0128, training accuracy: 99.10 %, validation loss: 0.0142,  validation accuracy: 98.50 % \n",
            "Generation 19. training loss: 0.0101, training accuracy: 99.35 %, validation loss: 0.0135,  validation accuracy: 98.65 % \n",
            "Generation 20. training loss: 0.0100, training accuracy: 99.60 %, validation loss: 0.0101,  validation accuracy: 99.15 % \n",
            "Generation 21. training loss: 0.0076, training accuracy: 99.60 %, validation loss: 0.0096,  validation accuracy: 98.95 % \n",
            "Generation 22. training loss: 0.0067, training accuracy: 99.90 %, validation loss: 0.0079,  validation accuracy: 99.25 % \n",
            "Generation 23. training loss: 0.0055, training accuracy: 99.65 %, validation loss: 0.0087,  validation accuracy: 98.70 % \n",
            "Generation 24. training loss: 0.0043, training accuracy: 99.90 %, validation loss: 0.0063,  validation accuracy: 99.40 % \n",
            "Generation 25. training loss: 0.0055, training accuracy: 99.90 %, validation loss: 0.0064,  validation accuracy: 99.35 % \n",
            "Generation 26. training loss: 0.0032, training accuracy: 99.95 %, validation loss: 0.0049,  validation accuracy: 99.50 % \n",
            "Generation 27. training loss: 0.0028, training accuracy: 99.95 %, validation loss: 0.0041,  validation accuracy: 99.60 % \n",
            "Generation 28. training loss: 0.0026, training accuracy: 100.00 %, validation loss: 0.0040,  validation accuracy: 99.75 % \n",
            "Generation 29. training loss: 0.0020, training accuracy: 99.95 %, validation loss: 0.0033,  validation accuracy: 99.65 % \n",
            "Generation 30. training loss: 0.0019, training accuracy: 99.95 %, validation loss: 0.0033,  validation accuracy: 99.65 % \n",
            "Generation 31. training loss: 0.0021, training accuracy: 99.45 %, validation loss: 0.0100,  validation accuracy: 98.65 % \n",
            "Generation 32. training loss: 0.0034, training accuracy: 99.80 %, validation loss: 0.0075,  validation accuracy: 99.00 % \n",
            "Generation 33. training loss: 0.0029, training accuracy: 99.85 %, validation loss: 0.0050,  validation accuracy: 99.30 % \n",
            "Generation 34. training loss: 0.0054, training accuracy: 99.25 %, validation loss: 0.0170,  validation accuracy: 98.40 % \n",
            "Generation 35. training loss: 0.0076, training accuracy: 99.65 %, validation loss: 0.0081,  validation accuracy: 99.00 % \n",
            "Generation 36. training loss: 0.0030, training accuracy: 99.75 %, validation loss: 0.0069,  validation accuracy: 99.25 % \n",
            "Generation 37. training loss: 0.0026, training accuracy: 99.75 %, validation loss: 0.0046,  validation accuracy: 99.40 % \n",
            "Generation 38. training loss: 0.0020, training accuracy: 99.95 %, validation loss: 0.0038,  validation accuracy: 99.60 % \n",
            "Generation 39. training loss: 0.0018, training accuracy: 99.95 %, validation loss: 0.0040,  validation accuracy: 99.50 % \n",
            "Generation 40. training loss: 0.0014, training accuracy: 100.00 %, validation loss: 0.0039,  validation accuracy: 99.65 % \n",
            "Generation 41. training loss: 0.0019, training accuracy: 99.85 %, validation loss: 0.0056,  validation accuracy: 99.20 % \n",
            "Generation 42. training loss: 0.0019, training accuracy: 99.95 %, validation loss: 0.0030,  validation accuracy: 99.65 % \n",
            "Generation 43. training loss: 0.0012, training accuracy: 100.00 %, validation loss: 0.0028,  validation accuracy: 99.75 % \n",
            "Generation 44. training loss: 0.0012, training accuracy: 100.00 %, validation loss: 0.0034,  validation accuracy: 99.50 % \n",
            "Generation 45. training loss: 0.0013, training accuracy: 99.60 %, validation loss: 0.0087,  validation accuracy: 98.95 % \n",
            "Generation 46. training loss: 0.0025, training accuracy: 99.65 %, validation loss: 0.0078,  validation accuracy: 98.90 % \n",
            "Generation 47. training loss: 0.0021, training accuracy: 99.90 %, validation loss: 0.0060,  validation accuracy: 99.25 % \n",
            "Generation 48. training loss: 0.0014, training accuracy: 99.95 %, validation loss: 0.0052,  validation accuracy: 99.45 % \n",
            "Generation 49. training loss: 0.0014, training accuracy: 100.00 %, validation loss: 0.0051,  validation accuracy: 99.35 % \n",
            "Generation 50. training loss: 0.0011, training accuracy: 99.95 %, validation loss: 0.0029,  validation accuracy: 99.60 % \n",
            "Generation 51. training loss: 0.0012, training accuracy: 99.85 %, validation loss: 0.0025,  validation accuracy: 99.85 % \n",
            "Generation 52. training loss: 0.0012, training accuracy: 100.00 %, validation loss: 0.0022,  validation accuracy: 99.75 % \n",
            "Generation 53. training loss: 0.0008, training accuracy: 99.95 %, validation loss: 0.0025,  validation accuracy: 99.75 % \n",
            "Generation 54. training loss: 0.0007, training accuracy: 100.00 %, validation loss: 0.0027,  validation accuracy: 99.70 % \n",
            "Generation 55. training loss: 0.0008, training accuracy: 100.00 %, validation loss: 0.0025,  validation accuracy: 99.70 % \n",
            "Generation 56. training loss: 0.0008, training accuracy: 100.00 %, validation loss: 0.0028,  validation accuracy: 99.60 % \n",
            "Network has converged.\n"
          ],
          "name": "stdout"
        }
      ]
    },
    {
      "cell_type": "code",
      "metadata": {
        "id": "Ryn4L-Rn7E6s",
        "colab_type": "code",
        "outputId": "a701f179-c75f-441d-f2de-2cd242cb8980",
        "colab": {
          "base_uri": "https://localhost:8080/",
          "height": 623
        }
      },
      "source": [
        "plt.figure(figsize = FIGSIZE)\n",
        "x_scale = np.linspace(0, len(train_loss)- 1, len(train_loss) )\n",
        "_ = plt.plot(x_scale, train_loss)\n",
        "_ = plt.plot(x_scale, val_loss)\n",
        "plt.legend([\"Loss on the training set\", \"Loss on the validation set\"])\n",
        "plt.xlabel(\"Number of generations\")\n",
        "plt.ylabel(\"Evaluation of the loss function\")"
      ],
      "execution_count": 91,
      "outputs": [
        {
          "output_type": "execute_result",
          "data": {
            "text/plain": [
              "Text(0, 0.5, 'Evaluation of the loss function')"
            ]
          },
          "metadata": {
            "tags": []
          },
          "execution_count": 91
        },
        {
          "output_type": "display_data",
          "data": {
            "image/png": "[encoded data removed]",
            "text/plain": [
              "<Figure size 864x720 with 1 Axes>"
            ]
          },
          "metadata": {
            "tags": []
          }
        }
      ]
    },
    {
      "cell_type": "code",
      "metadata": {
        "id": "rcKq6Gw4erkC",
        "colab_type": "code",
        "outputId": "ad5eb4c9-4e4f-4264-d0ad-12065f05433f",
        "colab": {
          "base_uri": "https://localhost:8080/",
          "height": 623
        }
      },
      "source": [
        "plt.figure(figsize = FIGSIZE)\n",
        "x_scale = np.linspace(0, len(train_accuracy)- 1, len(train_accuracy) )\n",
        "_ = plt.plot(x_scale, train_accuracy)\n",
        "_ = plt.plot(x_scale, val_accuracy)\n",
        "plt.legend([\"Training accuracy\", \"Validation accuracy\"])\n",
        "plt.xlabel(\"Number of generations\")\n",
        "plt.ylabel(\"Accuracy \")"
      ],
      "execution_count": 92,
      "outputs": [
        {
          "output_type": "execute_result",
          "data": {
            "text/plain": [
              "Text(0, 0.5, 'Accuracy ')"
            ]
          },
          "metadata": {
            "tags": []
          },
          "execution_count": 92
        },
        {
          "output_type": "display_data",
          "data": {
            "image/png": "[encoded data removed]",
            "text/plain": [
              "<Figure size 864x720 with 1 Axes>"
            ]
          },
          "metadata": {
            "tags": []
          }
        }
      ]
    },
    {
      "cell_type": "code",
      "metadata": {
        "colab_type": "code",
        "id": "CSoLjUOliRxh",
        "outputId": "5d75c59e-b0f0-4d29-e18c-fc72e14db401",
        "colab": {
          "base_uri": "https://localhost:8080/",
          "height": 50
        }
      },
      "source": [
        "correct = 0\n",
        "total = 0\n",
        "wrong_im = []\n",
        "wrong_label = []\n",
        "wrongly_predicted_label = []\n",
        "\n",
        "with torch.no_grad():\n",
        "    for data in testloader:\n",
        "        images, labels = data\n",
        "        images = images.to(device)\n",
        "        labels = labels.to(device)\n",
        "        \n",
        "        outputs = net(images)\n",
        "        _, predicted = torch.max(outputs.data, 1)\n",
        "        total += labels.size(0)\n",
        "        correct += (predicted == labels).sum().item()\n",
        "        k = 0\n",
        "        for truth in (predicted == labels): \n",
        "          if not truth: \n",
        "            wrong_im.append(images[k])\n",
        "            wrong_label.append(int(labels[k]))\n",
        "            wrongly_predicted_label.append(int(predicted[k]))\n",
        "          k += 1\n",
        "        \n",
        "        \n",
        "\n",
        "print(\"Accuracy of the network on the \" + str(total) + ' test images: %.3f %%' % (\n",
        "    100 * correct / total))\n",
        "\n",
        "print(\"Number of mistakes : \" +str(total-correct))\n",
        "index = 0"
      ],
      "execution_count": 93,
      "outputs": [
        {
          "output_type": "stream",
          "text": [
            "Accuracy of the network on the 2000 test images: 99.700 %\n",
            "Number of mistakes : 6\n"
          ],
          "name": "stdout"
        }
      ]
    },
    {
      "cell_type": "code",
      "metadata": {
        "colab_type": "code",
        "id": "_2qbFlsY0EY3",
        "colab": {}
      },
      "source": [
        "if index in range(len(wrong_im)):\n",
        "  display_image(wrong_im[index], wrong_label[index], wrongly_predicted_label[index])\n",
        "  index += 1"
      ],
      "execution_count": 0,
      "outputs": []
    },
    {
      "cell_type": "code",
      "metadata": {
        "id": "1u0zjyeN2AYr",
        "colab_type": "code",
        "colab": {}
      },
      "source": [
        "index = 0"
      ],
      "execution_count": 0,
      "outputs": []
    }
  ]
}