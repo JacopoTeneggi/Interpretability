{
  "nbformat": 4,
  "nbformat_minor": 0,
  "metadata": {
    "colab": {
      "name": "HDattempt2.ipynb",
      "provenance": [],
      "machine_shape": "hm",
      "authorship_tag": "ABX9TyMjtzwAYmyalJQkZsAjOYGP",
      "include_colab_link": true
    },
    "kernelspec": {
      "name": "python3",
      "display_name": "Python 3"
    }
  },
  "cells": [
    {
      "cell_type": "markdown",
      "metadata": {
        "id": "view-in-github",
        "colab_type": "text"
      },
      "source": [
        "<a href=\"https://colab.research.google.com/github/lustea0201/Interpretability/blob/master/HDattempt2.ipynb\" target=\"_parent\"><img src=\"https://colab.research.google.com/assets/colab-badge.svg\" alt=\"Open In Colab\"/></a>"
      ]
    },
    {
      "cell_type": "code",
      "metadata": {
        "id": "L2qQtnANSh2N",
        "colab_type": "code",
        "outputId": "7cb0ea0f-a4fe-4a1f-aa55-3a065a7c01c0",
        "colab": {
          "base_uri": "https://localhost:8080/",
          "height": 69
        }
      },
      "source": [
        "import torch\n",
        "torch.manual_seed(0)\n",
        "dtype = torch.float\n",
        "from google.colab import drive\n",
        "drive.mount('/content/drive/')\n",
        "import zipfile\n",
        "import sys\n",
        "sys.path.append('local_modules')\n",
        "!wget https://raw.githubusercontent.com/lustea0201/Interpretability/master/utils.py -P local_modules -nc\n",
        "import local_modules.utils as utils"
      ],
      "execution_count": 1,
      "outputs": [
        {
          "output_type": "stream",
          "text": [
            "Drive already mounted at /content/drive/; to attempt to forcibly remount, call drive.mount(\"/content/drive/\", force_remount=True).\n",
            "File ‘local_modules/utils.py’ already there; not retrieving.\n",
            "\n"
          ],
          "name": "stdout"
        }
      ]
    },
    {
      "cell_type": "code",
      "metadata": {
        "id": "XfM2uSRbUyN7",
        "colab_type": "code",
        "colab": {}
      },
      "source": [
        "import numpy as np\n",
        "from torchvision import transforms\n",
        "from torchvision.transforms import Resize, ToTensor, Normalize\n",
        "from torchvision.datasets import ImageFolder\n",
        "import os\n",
        "from torch.utils.data import DataLoader\n",
        "\n",
        "net = utils.Net() # Model instantiation\n",
        "# Loading the trained dictionnary state\n",
        "net.load_state_dict(torch.load('drive/My Drive/Interpretability/model2.pth')) \n",
        "\n",
        "data = zipfile.ZipFile(\"/content/drive/My Drive/Interpretability/HD/data2/data.zip\", 'r')\n",
        "\n",
        "root_dir = \"main_dir\"\n",
        "data.extractall(root_dir)\n",
        "data.close()\n",
        "\n",
        "Batch_Size = 20\n",
        "\n",
        "MEAN, STD = np.array([0.5, 0.5, 0.5]), np.array([0.5, 0.5, 0.5])\n",
        "\n",
        "transf = transforms.Compose( [ToTensor(), Normalize(mean=MEAN, std=STD)])\n",
        "\n",
        "train_data = ImageFolder(root = os.path.join(root_dir, 'train'), transform = transf)\n",
        "dataloader = DataLoader(train_data, batch_size = Batch_Size, shuffle = True, num_workers = 0)\n",
        "train_loader = iter(dataloader)"
      ],
      "execution_count": 0,
      "outputs": []
    },
    {
      "cell_type": "code",
      "metadata": {
        "id": "aIxIizooVKyW",
        "colab_type": "code",
        "outputId": "00e17e93-0778-434a-d20c-67b45dcbea8f",
        "colab": {
          "base_uri": "https://localhost:8080/",
          "height": 35
        }
      },
      "source": [
        "X,y = next(train_loader)\n",
        "\n",
        "class HD_Net(utils.Net): \n",
        "  def __init__(self):\n",
        "    super().__init__()\n",
        "  def forward(self, X):\n",
        "    batch_size = len(X)\n",
        "    final_output = torch.empty(batch_size, 2)\n",
        "    \n",
        "    max_score_1 = -1e9*torch.ones(batch_size)\n",
        "    for i in range(19): \n",
        "      for j in range(19): \n",
        "        s_image = X[:,:,i*50:i*50+100, j*60:j*60+120]\n",
        "        input_ = s_image.reshape(-1, 3, 100, 120) # This shape is necessary for the network \n",
        "        output = net(input_)\n",
        "        _, predicted = torch.max(output.data, 1)\n",
        "        \n",
        "        \n",
        "        score_class_1 = output.data[:,1]\n",
        "        greater = (score_class_1 > max_score_1)\n",
        "        max_score_1[greater] = score_class_1[greater]\n",
        "        final_output[greater] = output[greater]\n",
        "    return final_output\n",
        "\n",
        "HDN = HD_Net()\n",
        "correct = 0\n",
        "\n",
        "output = HDN(X)\n",
        "_, predicted = torch.max(output.data, 1)\n",
        "  \n",
        "print(\"Correct: %f percent.\" % (100*(predicted == y).sum()/len(y)))\n"
      ],
      "execution_count": 3,
      "outputs": [
        {
          "output_type": "stream",
          "text": [
            "Correct: 100.000000 percent.\n"
          ],
          "name": "stdout"
        }
      ]
    },
    {
      "cell_type": "code",
      "metadata": {
        "id": "Kzhda-7Tyn-J",
        "colab_type": "code",
        "colab": {
          "base_uri": "https://localhost:8080/",
          "height": 733
        },
        "outputId": "6743042c-a110-49bf-cb55-3d541a9fe132"
      },
      "source": [
        "i = 3\n",
        "image0 = X[i]\n",
        "label0 = y[i]\n",
        "\n",
        "input0 = X[i].unsqueeze(0)\n",
        "output0 = HDN(input0)\n",
        "_, predicted0 = torch.max(output0.data, 1)\n",
        "print(predicted0)\n",
        "\n",
        "\n",
        "\n",
        "img0 = utils.input2image(image0, MEAN, STD)\n",
        "utils.display_image(img0, label0.numpy(), int(predicted0), figure_size = (16,12))"
      ],
      "execution_count": 4,
      "outputs": [
        {
          "output_type": "stream",
          "text": [
            "tensor([1])\n"
          ],
          "name": "stdout"
        },
        {
          "output_type": "display_data",
          "data": {
            "image/png": "[encoded data removed]",
            "text/plain": [
              "<Figure size 1152x864 with 1 Axes>"
            ]
          },
          "metadata": {
            "tags": []
          }
        }
      ]
    },
    {
      "cell_type": "markdown",
      "metadata": {
        "id": "EFZPlV-dxBRd",
        "colab_type": "text"
      },
      "source": [
        "## SHAP\n"
      ]
    },
    {
      "cell_type": "code",
      "metadata": {
        "id": "WHUAObEMmd52",
        "colab_type": "code",
        "colab": {}
      },
      "source": [
        "!pip install shap \n",
        "import shap\n",
        "\n",
        "# For SHAP\n",
        "bg_choice = \"black\" # Default: entire training set, \"average\", \"white\", \"black\" \n",
        "# Median would result in white \n",
        "background = X\n",
        "if (bg_choice == \"black\"): \n",
        "  background = -torch.ones(X.shape)\n",
        "elif (bg_choice == \"white\"): \n",
        "  background = torch.ones(X.shape)\n",
        "elif (bg_choice == \"average\"): \n",
        "  avg = torch.mean(X, dim = 0)\n",
        "  display_image(avg, 0)\n",
        "e = shap.GradientExplainer(HDN, background)"
      ],
      "execution_count": 0,
      "outputs": []
    },
    {
      "cell_type": "code",
      "metadata": {
        "id": "PSY-tSbksevA",
        "colab_type": "code",
        "colab": {}
      },
      "source": [
        "!pip install pytorch-gradcam\n",
        "from torchvision import transforms\n",
        "from torchvision.utils import make_grid, save_image\n",
        "\n",
        "from gradcam.utils import visualize_cam\n",
        "from gradcam import GradCAM, GradCAMpp\n",
        "\n",
        "!wget https://raw.githubusercontent.com/lustea0201/Interpretability/master/interpret11.py -P local_modules -nc\n",
        "import local_modules.interpret11 as intp\n",
        "\n",
        "intp.shap_exp(e, input0.detach(), img0)"
      ],
      "execution_count": 0,
      "outputs": []
    },
    {
      "cell_type": "markdown",
      "metadata": {
        "id": "FHVhd5aSxJBg",
        "colab_type": "text"
      },
      "source": [
        "## Hierarchical Shapley"
      ]
    },
    {
      "cell_type": "code",
      "metadata": {
        "id": "qGGtEoCqw-mJ",
        "colab_type": "code",
        "colab": {
          "base_uri": "https://localhost:8080/",
          "height": 52
        },
        "outputId": "5fbbb88b-99cc-47dd-bd8b-cef4cbea04c4"
      },
      "source": [
        "# For Hierarchical \n",
        "!wget https://raw.githubusercontent.com/lustea0201/Interpretability/master/Hshapley13.py -P local_modules -nc\n",
        "import local_modules.Hshapley13 as HS\n",
        "\n",
        "white_bg = -torch.ones(X.shape[1:])\n",
        "h = HS.HierarchicalShap(HDN, background = white_bg)"
      ],
      "execution_count": 5,
      "outputs": [
        {
          "output_type": "stream",
          "text": [
            "File ‘local_modules/Hshapley13.py’ already there; not retrieving.\n",
            "\n"
          ],
          "name": "stdout"
        }
      ]
    },
    {
      "cell_type": "code",
      "metadata": {
        "id": "nd9FM1NbxUiP",
        "colab_type": "code",
        "colab": {
          "base_uri": "https://localhost:8080/",
          "height": 257
        },
        "outputId": "cb245362-854a-4765-8ce9-e3601d2a450b"
      },
      "source": [
        "h.shapMap(X[i], y[i], shapTol = [1.5], keepItSimple = True, debug = False)\n"
      ],
      "execution_count": 6,
      "outputs": [
        {
          "output_type": "display_data",
          "data": {
            "image/png": "[encoded data removed]",
            "text/plain": [
              "<Figure size 1080x360 with 3 Axes>"
            ]
          },
          "metadata": {
            "tags": []
          }
        }
      ]
    }
  ]
}