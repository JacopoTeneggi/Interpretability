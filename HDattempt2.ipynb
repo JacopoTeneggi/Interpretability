{
  "nbformat": 4,
  "nbformat_minor": 0,
  "metadata": {
    "colab": {
      "name": "HDattempt2.ipynb",
      "provenance": [],
      "authorship_tag": "ABX9TyO8PKWADgdFuNuVKYTXM3hX",
      "include_colab_link": true
    },
    "kernelspec": {
      "name": "python3",
      "display_name": "Python 3"
    }
  },
  "cells": [
    {
      "cell_type": "markdown",
      "metadata": {
        "id": "view-in-github",
        "colab_type": "text"
      },
      "source": [
        "<a href=\"https://colab.research.google.com/github/lustea0201/Interpretability/blob/master/HDattempt2.ipynb\" target=\"_parent\"><img src=\"https://colab.research.google.com/assets/colab-badge.svg\" alt=\"Open In Colab\"/></a>"
      ]
    },
    {
      "cell_type": "code",
      "metadata": {
        "id": "L2qQtnANSh2N",
        "colab_type": "code",
        "colab": {
          "base_uri": "https://localhost:8080/",
          "height": 68
        },
        "outputId": "e5004670-9281-4434-ba5e-1a969485f870"
      },
      "source": [
        "import torch\n",
        "torch.manual_seed(0)\n",
        "dtype = torch.float\n",
        "from google.colab import drive\n",
        "drive.mount('/content/drive/')\n",
        "import zipfile\n",
        "import sys\n",
        "sys.path.append('local_modules')\n",
        "!wget https://raw.githubusercontent.com/lustea0201/Interpretability/master/utils.py -P local_modules -nc\n",
        "import local_modules.utils as utils"
      ],
      "execution_count": 3,
      "outputs": [
        {
          "output_type": "stream",
          "text": [
            "Drive already mounted at /content/drive/; to attempt to forcibly remount, call drive.mount(\"/content/drive/\", force_remount=True).\n",
            "File ‘local_modules/utils.py’ already there; not retrieving.\n",
            "\n"
          ],
          "name": "stdout"
        }
      ]
    },
    {
      "cell_type": "code",
      "metadata": {
        "id": "XfM2uSRbUyN7",
        "colab_type": "code",
        "colab": {}
      },
      "source": [
        "import numpy as np\n",
        "from torchvision import transforms\n",
        "from torchvision.transforms import Resize, ToTensor, Normalize\n",
        "from torchvision.datasets import ImageFolder\n",
        "import os\n",
        "from torch.utils.data import DataLoader\n",
        "\n",
        "net = utils.Net() # Model instantiation\n",
        "# Loading the trained dictionnary state\n",
        "net.load_state_dict(torch.load('drive/My Drive/Interpretability/model2.pth')) \n",
        "\n",
        "data = zipfile.ZipFile(\"/content/drive/My Drive/Interpretability/HD/data2/data.zip\", 'r')\n",
        "\n",
        "root_dir = \"main_dir\"\n",
        "data.extractall(root_dir)\n",
        "data.close()\n",
        "\n",
        "Batch_Size = 200\n",
        "\n",
        "MEAN, STD = np.array([0.5, 0.5, 0.5]), np.array([0.5, 0.5, 0.5])\n",
        "\n",
        "transf = transforms.Compose( [ToTensor(), Normalize(mean=MEAN, std=STD)])\n",
        "\n",
        "train_data = ImageFolder(root = os.path.join(root_dir, 'train'), transform = transf)\n",
        "dataloader = DataLoader(train_data, batch_size = Batch_Size, shuffle = True, num_workers = 0)\n",
        "train_loader = iter(dataloader)"
      ],
      "execution_count": 0,
      "outputs": []
    },
    {
      "cell_type": "code",
      "metadata": {
        "id": "aIxIizooVKyW",
        "colab_type": "code",
        "colab": {
          "base_uri": "https://localhost:8080/",
          "height": 34
        },
        "outputId": "20583b39-39d3-4ae3-a630-1f0b4dca6953"
      },
      "source": [
        "X,y = next(train_loader)\n",
        "correct = 0\n",
        "for k in range(200):\n",
        "  image = X[k]\n",
        "  label = y[k].numpy()\n",
        "\n",
        "  label_l = 0\n",
        "  class FoundLabel1(Exception): pass\n",
        "\n",
        "  try:\n",
        "    for i in range(19): \n",
        "      for j in range(19): \n",
        "        s_image = image[:,i*50:i*50+100, j*60:j*60+120]\n",
        "        input_ = s_image.view(-1, 3, 100, 120) # This shape is necessary for the network \n",
        "        output = net(input_)\n",
        "        _, predicted = torch.max(output.data, 1)\n",
        "        if (predicted == 1):\n",
        "          raise FoundLabel1\n",
        "\n",
        "  except FoundLabel1:\n",
        "    label_l = 1\n",
        "\n",
        "  if label_l == label: \n",
        "    correct += 1\n",
        "print(\"success rate: %f \" %(correct/len(y)*100)) "
      ],
      "execution_count": 132,
      "outputs": [
        {
          "output_type": "stream",
          "text": [
            "success rate: 100.000000 \n"
          ],
          "name": "stdout"
        }
      ]
    }
  ]
}