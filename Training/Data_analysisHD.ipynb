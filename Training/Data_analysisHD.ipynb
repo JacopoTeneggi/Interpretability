{
  "nbformat": 4,
  "nbformat_minor": 0,
  "metadata": {
    "accelerator": "GPU",
    "colab": {
      "name": "Data_analysisHD.ipynb",
      "provenance": [],
      "collapsed_sections": [],
      "include_colab_link": true
    },
    "kernelspec": {
      "name": "python3",
      "display_name": "Python 3"
    },
    "language_info": {
      "codemirror_mode": {
        "name": "ipython",
        "version": 3
      },
      "file_extension": ".py",
      "mimetype": "text/x-python",
      "name": "python",
      "nbconvert_exporter": "python",
      "pygments_lexer": "ipython3",
      "version": "3.7.3"
    }
  },
  "cells": [
    {
      "cell_type": "markdown",
      "metadata": {
        "id": "view-in-github",
        "colab_type": "text"
      },
      "source": [
        "<a href=\"https://colab.research.google.com/github/lustea0201/Interpretability/blob/master/Data_analysisHD.ipynb\" target=\"_parent\"><img src=\"https://colab.research.google.com/assets/colab-badge.svg\" alt=\"Open In Colab\"/></a>"
      ]
    },
    {
      "cell_type": "markdown",
      "metadata": {
        "id": "1uv-An0P9QTD",
        "colab_type": "text"
      },
      "source": [
        "# Importing the second dataset "
      ]
    },
    {
      "cell_type": "code",
      "metadata": {
        "colab_type": "code",
        "id": "h4NeSToBbJMn",
        "outputId": "47d00897-38a2-4c12-92d7-5784c0ba54e7",
        "colab": {
          "base_uri": "https://localhost:8080/",
          "height": 69
        }
      },
      "source": [
        "#@title\n",
        "import zipfile\n",
        "import io\n",
        "import cv2\n",
        "import glob \n",
        "import numpy as np\n",
        "import random \n",
        "import torch \n",
        "device = 'cuda'\n",
        "from torchvision.datasets import ImageFolder\n",
        "from torch.utils.data import DataLoader\n",
        "from torchvision.transforms import ToTensor, Normalize\n",
        "from torchvision import transforms\n",
        "import os\n",
        "import matplotlib.pyplot as plt\n",
        "import numpy as np\n",
        "import torch.nn as nn\n",
        "import torch.nn.functional as F\n",
        "import torch.optim as optim\n",
        "from google.colab import drive\n",
        "\n",
        "torch.manual_seed(0) # Reproducible, for now \n",
        "\n",
        "FIGSIZE = (12,10)\n",
        "\n",
        "!rm -rf main_dir\n",
        "!rm -rf data.zip\n",
        "\n",
        "drive.mount('/content/drive/')\n",
        "data = zipfile.ZipFile(\"/content/drive/My Drive/Interpretability/HD/data2/data.zip\", 'r')\n",
        "\n",
        "root_dir = \"main_dir\"\n",
        "data.extractall(root_dir)\n",
        "data.close()\n",
        "\n",
        "import sys\n",
        "sys.path.append('local_modules')\n",
        "\n",
        "!wget https://raw.githubusercontent.com/lustea0201/Interpretability/master/utils.py -P local_modules -nc\n",
        "import local_modules.utils as utils"
      ],
      "execution_count": 19,
      "outputs": [
        {
          "output_type": "stream",
          "text": [
            "Drive already mounted at /content/drive/; to attempt to forcibly remount, call drive.mount(\"/content/drive/\", force_remount=True).\n",
            "File ‘local_modules/utils.py’ already there; not retrieving.\n",
            "\n"
          ],
          "name": "stdout"
        }
      ]
    },
    {
      "cell_type": "code",
      "metadata": {
        "colab_type": "code",
        "id": "vAf1Fk2IbguJ",
        "colab": {}
      },
      "source": [
        "#transf_temp =  transforms.Compose( [ToTensor()])\n",
        "#train_data_temp = ImageFolder(root = os.path.join(root_dir, 'train'), transform = transf_temp)\n",
        "#dataloader_temp = DataLoader(train_data_temp, batch_size = 64, shuffle = True, num_workers = 0)\n",
        "#MEAN, STD = utils.datasetMeanStd(dataloader_temp)\n",
        "MEAN, STD = np.array([0.5, 0.5, 0.5]), np.array([0.5, 0.5, 0.5])\n",
        "\n",
        "transf = transforms.Compose( [ToTensor(), Normalize(mean=MEAN, std=STD)])\n",
        "train_data = ImageFolder(root = os.path.join(root_dir, 'train'), transform = transf)\n",
        "val_data = ImageFolder(root = os.path.join(root_dir, 'val'), transform = transf)\n",
        "test_data = ImageFolder(root = os.path.join(root_dir, 'test'), transform = transf)\n"
      ],
      "execution_count": 0,
      "outputs": []
    },
    {
      "cell_type": "markdown",
      "metadata": {
        "id": "rZbOwxII9bcn",
        "colab_type": "text"
      },
      "source": [
        "# Dataset description \n",
        "\n",
        "\n",
        "*   Label 0: the image doesn't contain any shape \n",
        "*   Label 1: the image contains at least one shape \n",
        "\n",
        "Here are two examples: \n",
        "\n"
      ]
    },
    {
      "cell_type": "code",
      "metadata": {
        "colab_type": "code",
        "id": "cSTJr4lCmYaB",
        "outputId": "d02ace7f-b714-4780-d47c-a0065c83e7d3",
        "colab": {
          "base_uri": "https://localhost:8080/",
          "height": 655
        }
      },
      "source": [
        "img0 = utils.input2image(train_data[0][0], MEAN, STD)\n",
        "img1 = utils.input2image(train_data[-1][0], MEAN, STD)\n",
        "utils.display_image(img0, train_data[0][1])      \n",
        "utils.display_image(img1, train_data[-1][1])     "
      ],
      "execution_count": 21,
      "outputs": [
        {
          "output_type": "display_data",
          "data": {
            "image/png": "[encoded data removed]",
            "text/plain": [
              "<Figure size 576x360 with 1 Axes>"
            ]
          },
          "metadata": {
            "tags": []
          }
        },
        {
          "output_type": "display_data",
          "data": {
            "image/png": "[encoded data removed]",
            "text/plain": [
              "<Figure size 576x360 with 1 Axes>"
            ]
          },
          "metadata": {
            "tags": []
          }
        }
      ]
    },
    {
      "cell_type": "code",
      "metadata": {
        "colab_type": "code",
        "id": "Hoo3HmSLqBbd",
        "colab": {}
      },
      "source": [
        "batch_Size = 64\n",
        "dataloader = DataLoader(train_data, batch_size = batch_Size, shuffle = True, num_workers = 0)\n",
        "valloader = DataLoader(val_data, batch_size = batch_Size, shuffle = True, num_workers = 0)\n",
        "testloader = DataLoader(test_data, batch_size = batch_Size, shuffle = True, num_workers = 0)\n",
        "train_loader = iter(dataloader)\n",
        "x,y = next(train_loader)"
      ],
      "execution_count": 0,
      "outputs": []
    },
    {
      "cell_type": "markdown",
      "metadata": {
        "id": "qkyIUp28HrrJ",
        "colab_type": "text"
      },
      "source": [
        "# Model description\n",
        "The neural network used to classify the images receives batches of 3x100x120 images. \n",
        "It consists of \n",
        "* two convolutional layers followed by max pooling \n",
        "* three fully connected layers"
      ]
    },
    {
      "cell_type": "code",
      "metadata": {
        "id": "DD6mKncbrFMV",
        "colab_type": "code",
        "colab": {}
      },
      "source": [
        "class HD_Net(nn.Module):\n",
        "    def __init__(self):\n",
        "        super(HD_Net, self).__init__()\n",
        "        self.conv0 = nn.Conv2d(in_channels = 3, out_channels = 6, kernel_size = 5, stride=5)\n",
        "        self.pool0 = nn.MaxPool2d(kernel_size = 2, stride=2)\n",
        "        self.conv1 = nn.Conv2d(6, 10, 5)\n",
        "        self.pool1 = nn.MaxPool2d(2)\n",
        "        self.conv2 = nn.Conv2d(10, 16, 4)\n",
        "        self.pool2 = nn.MaxPool2d(5)\n",
        "        self.fc1 = nn.Linear(16 * 9 * 11, 120)\n",
        "        self.fc2 = nn.Linear(120, 84)\n",
        "        self.fc3 = nn.Linear(84, 2)\n",
        "        self.drop = nn.Dropout(p=0.5)\n",
        "\n",
        "    def forward(self, x):\n",
        "        x = F.relu(self.conv0(x))\n",
        "        x = self.pool0(x)\n",
        "        x = F.relu(self.conv1(x))\n",
        "        x = self.pool1(x)\n",
        "        x = F.relu(self.conv2(x))\n",
        "        x = self.pool2(x)\n",
        "        x = x.view(-1, self.num_flat_features(x))  # 16*9*11\n",
        "        x = self.drop(F.relu(self.fc1(x)))\n",
        "        x = self.drop(F.relu(self.fc2(x)))\n",
        "        x = self.fc3(x)\n",
        "        return x\n",
        "\n",
        "    def num_flat_features(self, x):\n",
        "        size = x.size()[1:]  # all dimensions except the batch dimension\n",
        "        num_features = 1\n",
        "        for s in size:\n",
        "            num_features *= s\n",
        "        return num_features\n",
        "\n",
        "\n",
        "def datasetMeanStd(loader):\n",
        "    # Computes the mean and standard deviation of a DataLoader of 3 channel images\n",
        "    mean = 0.\n",
        "    std = 0.\n",
        "    N = len(loader.dataset)\n",
        "    for images, _ in loader:\n",
        "        batch_samples = images.size(0)\n",
        "        images = images.view(batch_samples, images.size(1), -1)\n",
        "        mean += images.mean(2).sum(0)\n",
        "        std += images.std(2).sum(0)\n",
        "    mean /= N\n",
        "    std /= (N-1)\n",
        "    return mean.numpy(), std.numpy()\n",
        "\n",
        "\n",
        "def denormalize(im, mean, std):\n",
        "  return im*std + mean\n",
        "\n",
        "def input2image(input, mean, std):\n",
        "    sample_image = input.numpy().transpose(1, 2, 0)\n",
        "    return denormalize(sample_image, mean, std)\n",
        "\n",
        "def display_image(im, true_label, predicted_label=None, figure_size = (8, 5)):\n",
        "    plt.figure(figsize=figure_size)\n",
        "    plt.imshow(im)\n",
        "    title_ = \"True label : \" + str(true_label)\n",
        "    if (predicted_label != None):\n",
        "        title_ += \"/ Predicted : \" + str(predicted_label)\n",
        "    plt.title(title_)\n",
        "\n",
        "def almost_equal(n1, n2, e):\n",
        "  return abs(n1-n2) < e\n",
        "\n",
        "def network_has_converged(loss, e):\n",
        "  if (len(loss) < 3):\n",
        "    return False\n",
        "  else:\n",
        "    return (almost_equal(loss[-3], loss[-2], e) and\n",
        "            almost_equal(loss[-3], loss[-1], e) )\n",
        "\n",
        "def training_accuracy(network, loader):\n",
        "  with torch.no_grad():\n",
        "    correct = 0\n",
        "    total = 0\n",
        "    for data in loader:\n",
        "      images, labels = data\n",
        "      images = images.to(device)\n",
        "      labels = labels.to(device)\n",
        "      outputs = network(images)\n",
        "      _, predicted = torch.max(outputs.data, 1)\n",
        "      total += labels.size(0)\n",
        "      correct += (predicted == labels).sum().item()\n",
        "  return 100 * correct/total\n",
        "\n",
        "def validation_stats(network, loader, criterion):\n",
        "    total_loss = 0\n",
        "    correct = 0\n",
        "    total = 0\n",
        "    with torch.no_grad():\n",
        "        for data in loader:\n",
        "          images, labels = data\n",
        "          images = images.to(device)\n",
        "          labels = labels.to(device)\n",
        "\n",
        "          outputs = network(images)\n",
        "          _, predicted = torch.max(outputs.data, 1)\n",
        "          total += labels.size(0)\n",
        "          correct += (predicted == labels).sum().item()\n",
        "          loss = criterion(outputs, labels)\n",
        "          total_loss += loss.item()\n",
        "\n",
        "    return (100 * correct/total, total_loss/len(loader.dataset))\n",
        "\n",
        "def plot_training(train_loss, val_loss, train_accuracy, val_accuracy):\n",
        "    fig, (ax1, ax2) = plt.subplots(1,2, figsize = (10,5))\n",
        "    x_scale = np.linspace(0, len(train_loss)- 1, len(train_loss) )\n",
        "    _ = ax1.plot(x_scale, train_loss)\n",
        "    _ = ax1.plot(x_scale, val_loss)\n",
        "    ax1.legend([\"Loss on the training set\", \"Loss on the validation set\"])\n",
        "    ax1.set_xlabel(\"Number of generations\")\n",
        "    ax1.set_ylabel(\"Evaluation of the loss function\")\n",
        "\n",
        "    x_scale = np.linspace(0, len(train_accuracy)- 1, len(train_accuracy) )\n",
        "    _ = ax2.plot(x_scale, train_accuracy)\n",
        "    _ = ax2.plot(x_scale, val_accuracy)\n",
        "    ax2.legend([\"Training accuracy\", \"Validation accuracy\"])\n",
        "    ax2.set_xlabel(\"Number of generations\")\n",
        "    ax2.set_ylabel(\"Accuracy \")\n",
        "\n",
        "\n",
        "def test(net, loader):\n",
        "    correct = 0\n",
        "    total = 0\n",
        "    wrong_im = []\n",
        "    wrong_label = []\n",
        "    wrongly_predicted_label = []\n",
        "\n",
        "    with torch.no_grad():\n",
        "        for data in loader:\n",
        "            images, labels = data\n",
        "            images = images.to(device)\n",
        "            labels = labels.to(device)\n",
        "\n",
        "            outputs = net(images)\n",
        "            _, predicted = torch.max(outputs.data, 1)\n",
        "            total += labels.size(0)\n",
        "            correct += (predicted == labels).sum().item()\n",
        "            k = 0\n",
        "            for truth in (predicted == labels):\n",
        "                if not truth:\n",
        "                    wrong_im.append(images[k])\n",
        "                    wrong_label.append(int(labels[k]))\n",
        "                    wrongly_predicted_label.append(int(predicted[k]))\n",
        "                k += 1\n",
        "\n",
        "    print(\"Accuracy of the network on the \" + str(total) + ' test images: %.3f %%' % (\n",
        "            100 * correct / total))\n",
        "\n",
        "    print(\"Number of mistakes : \" + str(total - correct))\n",
        "    return wrong_im, wrong_label, wrongly_predicted_label\n",
        "\n",
        "\n",
        "def train(net, optimizer, criterion, max_epochs, dataloader, valloader ):\n",
        "    converged = False\n",
        "    epsilon = 0.0001\n",
        "    train_loss, val_loss, train_accuracy, val_accuracy = [], [], [], []\n",
        "    for epoch in range(max_epochs):  # loop over the dataset multiple times\n",
        "\n",
        "        running_loss = 0.0\n",
        "        if not converged:\n",
        "            for i, data in enumerate(dataloader, 0):\n",
        "                # get the inputs; data is a list of [inputs, labels]\n",
        "                inputs, labels = data\n",
        "                inputs = inputs.to(device)\n",
        "                labels = labels.to(device)\n",
        "\n",
        "                # zero the parameter gradients\n",
        "                optimizer.zero_grad()\n",
        "\n",
        "                # forward + backward + optimize\n",
        "                outputs = net(inputs)\n",
        "                loss = criterion(outputs, labels)\n",
        "\n",
        "                loss.backward()\n",
        "                optimizer.step()\n",
        "\n",
        "                # plot loss\n",
        "                running_loss += loss.item()\n",
        "\n",
        "            train_loss.append(running_loss / len(dataloader.dataset))\n",
        "            train_accuracy.append(training_accuracy(net, dataloader))\n",
        "            A, L = validation_stats(net, valloader, criterion)\n",
        "            val_loss.append(L)\n",
        "            val_accuracy.append(A)\n",
        "\n",
        "            print('Generation %d. training loss: %.4f,'\n",
        "                  % (epoch + 1, train_loss[-1]), end=\"\")\n",
        "            print(\" training accuracy: %.2f \" % (train_accuracy[-1]), end=\"%,\")\n",
        "            print(\" validation loss: %.4f,\" % (val_loss[-1]), end=\" \")\n",
        "            print(\" validation accuracy: %.2f \" % (val_accuracy[-1]), end=\"% \\n\")\n",
        "\n",
        "            converged = network_has_converged(train_loss, epsilon)\n",
        "\n",
        "    if (converged):\n",
        "        print(\"Network has converged.\")\n",
        "    else:\n",
        "        print(\"Network hasn't been able to converge in \" + str(max_epochs) + \" generations.\")\n",
        "    return train_loss, val_loss, train_accuracy, val_accuracy\n"
      ],
      "execution_count": 0,
      "outputs": []
    },
    {
      "cell_type": "code",
      "metadata": {
        "colab_type": "code",
        "id": "7ZHuALqxGmy9",
        "outputId": "3cac4178-66bb-4d9b-d1e2-ca814980038c",
        "colab": {
          "base_uri": "https://localhost:8080/",
          "height": 507
        }
      },
      "source": [
        "net = HD_Net().to(device)\n",
        "\n",
        "\n",
        "criterion = nn.CrossEntropyLoss()\n",
        "optimizer = optim.Adam(net.parameters()) \n",
        "max_epochs = 50\n",
        "train_loss, val_loss, train_accuracy, val_accuracy = train(net, optimizer, criterion, max_epochs, dataloader, valloader)\n",
        "plot_training(train_loss, val_loss, train_accuracy, val_accuracy)\n",
        "wi, wl, wpl = test(net, testloader)\n",
        "index = 0"
      ],
      "execution_count": 18,
      "outputs": [
        {
          "output_type": "stream",
          "text": [
            "Generation 1. training loss: 0.0109, training accuracy: 50.06 %, validation loss: 0.0111,  validation accuracy: 50.40 % \n",
            "Generation 2. training loss: 0.0103, training accuracy: 54.06 %, validation loss: 0.0102,  validation accuracy: 53.70 % \n",
            "Generation 3. training loss: 0.0030, training accuracy: 96.94 %, validation loss: 0.0016,  validation accuracy: 97.90 % \n",
            "Generation 4. training loss: 0.0006, training accuracy: 99.85 %, validation loss: 0.0002,  validation accuracy: 99.70 % \n",
            "Generation 5. training loss: 0.0001, training accuracy: 99.94 %, validation loss: 0.0001,  validation accuracy: 99.90 % \n",
            "Generation 6. training loss: 0.0000, training accuracy: 99.99 %, validation loss: 0.0001,  validation accuracy: 99.90 % \n",
            "Generation 7. training loss: 0.0000, training accuracy: 100.00 %, validation loss: 0.0001,  validation accuracy: 99.90 % \n",
            "Network has converged.\n",
            "Accuracy of the network on the 2000 test images: 100.000 %\n",
            "Number of mistakes : 0\n"
          ],
          "name": "stdout"
        },
        {
          "output_type": "display_data",
          "data": {
            "image/png": "[encoded data removed]",
            "text/plain": [
              "<Figure size 720x360 with 2 Axes>"
            ]
          },
          "metadata": {
            "tags": []
          }
        }
      ]
    },
    {
      "cell_type": "code",
      "metadata": {
        "colab_type": "code",
        "id": "_2qbFlsY0EY3",
        "colab": {}
      },
      "source": [
        "if index in range(len(wi)):\n",
        "  I = utils.input2image(wi[index], MEAN, STD)\n",
        "  utils.display_image(I, wl[index], wpl[index])\n",
        "  outputs = net(wi[index].unsqueeze(0)).data\n",
        "  print(\"Score for predicted label: \", outputs.numpy()[0][wpl[index]])\n",
        "  print(\"Score for true label: \", outputs.numpy()[0][wl[index]])\n",
        "  index += 1"
      ],
      "execution_count": 0,
      "outputs": []
    },
    {
      "cell_type": "code",
      "metadata": {
        "id": "1u0zjyeN2AYr",
        "colab_type": "code",
        "colab": {}
      },
      "source": [
        "index = 0"
      ],
      "execution_count": 0,
      "outputs": []
    },
    {
      "cell_type": "code",
      "metadata": {
        "id": "rg1Ma1XyaSLM",
        "colab_type": "code",
        "outputId": "91483d14-c9e6-4437-a0eb-3299ab991881",
        "colab": {
          "base_uri": "https://localhost:8080/",
          "height": 52
        }
      },
      "source": [
        "save = input(\"Overwrite current state dictionnary ? [y/n]\")\n",
        "if (save == 'y'): \n",
        "  torch.save(net.state_dict(), 'drive/My Drive/Interpretability/modelHD.pth')\n",
        "  print(\"State dictionnary saved.\")\n",
        "else: \n",
        "  print(\"State dictionnary has not been saved.\")"
      ],
      "execution_count": 23,
      "outputs": [
        {
          "output_type": "stream",
          "text": [
            "Overwrite current state dictionnary ? [y/n]y\n",
            "State dictionnary saved.\n"
          ],
          "name": "stdout"
        }
      ]
    }
  ]
}