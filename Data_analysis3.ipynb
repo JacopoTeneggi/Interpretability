{
  "nbformat": 4,
  "nbformat_minor": 0,
  "metadata": {
    "accelerator": "GPU",
    "colab": {
      "name": "Data_analysis3.ipynb",
      "provenance": [],
      "collapsed_sections": [],
      "include_colab_link": true
    },
    "kernelspec": {
      "name": "python3",
      "display_name": "Python 3"
    },
    "language_info": {
      "codemirror_mode": {
        "name": "ipython",
        "version": 3
      },
      "file_extension": ".py",
      "mimetype": "text/x-python",
      "name": "python",
      "nbconvert_exporter": "python",
      "pygments_lexer": "ipython3",
      "version": "3.7.3"
    }
  },
  "cells": [
    {
      "cell_type": "markdown",
      "metadata": {
        "id": "view-in-github",
        "colab_type": "text"
      },
      "source": [
        "<a href=\"https://colab.research.google.com/github/lustea0201/Interpretability/blob/master/Data_analysis3.ipynb\" target=\"_parent\"><img src=\"https://colab.research.google.com/assets/colab-badge.svg\" alt=\"Open In Colab\"/></a>"
      ]
    },
    {
      "cell_type": "markdown",
      "metadata": {
        "id": "1uv-An0P9QTD",
        "colab_type": "text"
      },
      "source": [
        "# Importing the third dataset "
      ]
    },
    {
      "cell_type": "code",
      "metadata": {
        "colab_type": "code",
        "id": "h4NeSToBbJMn",
        "outputId": "f42573a1-6333-4313-ec3c-7957c765fdc7",
        "colab": {
          "base_uri": "https://localhost:8080/",
          "height": 313
        }
      },
      "source": [
        "#@title\n",
        "import zipfile\n",
        "import io\n",
        "import cv2\n",
        "import glob \n",
        "import numpy as np\n",
        "import random \n",
        "import torch \n",
        "from torchvision.datasets import ImageFolder\n",
        "from torch.utils.data import DataLoader\n",
        "from torchvision.transforms import ToTensor, Normalize\n",
        "from torchvision import transforms\n",
        "import os\n",
        "import matplotlib.pyplot as plt\n",
        "import numpy as np\n",
        "import torch.nn as nn\n",
        "import torch.nn.functional as F\n",
        "import torch.optim as optim\n",
        "from google.colab import drive\n",
        "\n",
        "torch.manual_seed(0) # Reproducible, for now \n",
        "\n",
        "FIGSIZE = (12,10)\n",
        "\n",
        "!rm -rf main_dir\n",
        "!rm -rf data.zip\n",
        "\n",
        "drive.mount('/content/drive/')\n",
        "data = zipfile.ZipFile(\"/content/drive/My Drive/Interpretability/5000/data3/data.zip\", 'r')\n",
        "\n",
        "root_dir = \"main_dir\"\n",
        "data.extractall(root_dir)\n",
        "data.close()\n",
        "\n",
        "import sys\n",
        "sys.path.append('local_modules')\n",
        "\n",
        "!wget https://raw.githubusercontent.com/lustea0201/Interpretability/master/utils.py -P local_modules -nc\n",
        "import local_modules.utils as utils"
      ],
      "execution_count": 3,
      "outputs": [
        {
          "output_type": "stream",
          "text": [
            "Go to this URL in a browser: https://accounts.google.com/o/oauth2/auth?client_id=947318989803-6bn6qk8qdgf4n4g3pfee6491hc0brc4i.apps.googleusercontent.com&redirect_uri=urn%3aietf%3awg%3aoauth%3a2.0%3aoob&response_type=code&scope=email%20https%3a%2f%2fwww.googleapis.com%2fauth%2fdocs.test%20https%3a%2f%2fwww.googleapis.com%2fauth%2fdrive%20https%3a%2f%2fwww.googleapis.com%2fauth%2fdrive.photos.readonly%20https%3a%2f%2fwww.googleapis.com%2fauth%2fpeopleapi.readonly\n",
            "\n",
            "Enter your authorization code:\n",
            "··········\n",
            "Mounted at /content/drive/\n",
            "--2020-03-11 17:03:44--  https://raw.githubusercontent.com/lustea0201/Interpretability/master/utils.py\n",
            "Resolving raw.githubusercontent.com (raw.githubusercontent.com)... 151.101.0.133, 151.101.64.133, 151.101.128.133, ...\n",
            "Connecting to raw.githubusercontent.com (raw.githubusercontent.com)|151.101.0.133|:443... connected.\n",
            "HTTP request sent, awaiting response... 200 OK\n",
            "Length: 6513 (6.4K) [text/plain]\n",
            "Saving to: ‘local_modules/utils.py’\n",
            "\n",
            "utils.py            100%[===================>]   6.36K  --.-KB/s    in 0s      \n",
            "\n",
            "2020-03-11 17:03:44 (139 MB/s) - ‘local_modules/utils.py’ saved [6513/6513]\n",
            "\n"
          ],
          "name": "stdout"
        }
      ]
    },
    {
      "cell_type": "code",
      "metadata": {
        "colab_type": "code",
        "id": "vAf1Fk2IbguJ",
        "colab": {}
      },
      "source": [
        "transf_temp =  transforms.Compose( [ToTensor()])\n",
        "train_data_temp = ImageFolder(root = os.path.join(root_dir, 'train'), transform = transf_temp)\n",
        "dataloader_temp = DataLoader(train_data_temp, batch_size = 64, shuffle = True, num_workers = 0)\n",
        "MEAN, STD = utils.datasetMeanStd(dataloader_temp)\n",
        "\n",
        "transf = transforms.Compose( [ToTensor(), Normalize(mean=MEAN, std=STD)])\n",
        "train_data = ImageFolder(root = os.path.join(root_dir, 'train'), transform = transf)\n",
        "val_data = ImageFolder(root = os.path.join(root_dir, 'val'), transform = transf)\n",
        "test_data = ImageFolder(root = os.path.join(root_dir, 'test'), transform = transf)"
      ],
      "execution_count": 0,
      "outputs": []
    },
    {
      "cell_type": "markdown",
      "metadata": {
        "id": "rZbOwxII9bcn",
        "colab_type": "text"
      },
      "source": [
        "# Dataset description \n",
        "\n",
        "\n",
        "*   Label 0: the image doesn't contain any shape \n",
        "*   Label 1: the image contains at least one shape \n",
        "\n",
        "Here are two examples: \n",
        "\n"
      ]
    },
    {
      "cell_type": "code",
      "metadata": {
        "colab_type": "code",
        "id": "cSTJr4lCmYaB",
        "outputId": "ce889493-1080-4768-c1f0-5dbaa7926284",
        "colab": {
          "base_uri": "https://localhost:8080/",
          "height": 1000
        }
      },
      "source": [
        "img0 = utils.input2image(train_data[0][0], MEAN, STD)\n",
        "img1 = utils.input2image(train_data[-1][0], MEAN, STD)\n",
        "utils.display_image(img0, train_data[0][1])      \n",
        "utils.display_image(img1, train_data[-1][1])     "
      ],
      "execution_count": 5,
      "outputs": [
        {
          "output_type": "stream",
          "text": [
            "Clipping input data to the valid range for imshow with RGB data ([0..1] for floats or [0..255] for integers).\n",
            "Clipping input data to the valid range for imshow with RGB data ([0..1] for floats or [0..255] for integers).\n"
          ],
          "name": "stderr"
        },
        {
          "output_type": "display_data",
          "data": {
            "image/png": "[encoded data removed]",
            "text/plain": [
              "<Figure size 864x720 with 1 Axes>"
            ]
          },
          "metadata": {
            "tags": []
          }
        },
        {
          "output_type": "display_data",
          "data": {
            "image/png": "[encoded data removed]",
            "text/plain": [
              "<Figure size 864x720 with 1 Axes>"
            ]
          },
          "metadata": {
            "tags": []
          }
        }
      ]
    },
    {
      "cell_type": "code",
      "metadata": {
        "colab_type": "code",
        "id": "Hoo3HmSLqBbd",
        "colab": {}
      },
      "source": [
        "batch_Size = 64\n",
        "dataloader = DataLoader(train_data, batch_size = batch_Size, shuffle = True, num_workers = 0)\n",
        "valloader = DataLoader(val_data, batch_size = batch_Size, shuffle = True, num_workers = 0)\n",
        "testloader = DataLoader(test_data, batch_size = batch_Size, shuffle = True, num_workers = 0)\n",
        "train_loader = iter(dataloader)\n",
        "x,y = next(train_loader)"
      ],
      "execution_count": 0,
      "outputs": []
    },
    {
      "cell_type": "markdown",
      "metadata": {
        "id": "qkyIUp28HrrJ",
        "colab_type": "text"
      },
      "source": [
        "# Model description\n",
        "The neural network used to classify the images receives batches of 3x100x120 images. \n",
        "It consists of \n",
        "* two convolutional layers followed by max pooling \n",
        "* three fully connected layers"
      ]
    },
    {
      "cell_type": "code",
      "metadata": {
        "colab_type": "code",
        "id": "7ZHuALqxGmy9",
        "colab": {
          "base_uri": "https://localhost:8080/",
          "height": 454
        },
        "outputId": "96de6d4b-d7f7-42ae-96a4-359d60187f25"
      },
      "source": [
        "net = utils.Net()\n",
        "criterion = nn.CrossEntropyLoss()\n",
        "optimizer = optim.Adam(net.parameters()) \n",
        "max_epochs = 50\n",
        "train_loss, val_loss, train_accuracy, val_accuracy = utils.train(net, optimizer, criterion, max_epochs, dataloader, valloader)\n",
        "utils.plot_training(train_loss, val_loss, train_accuracy, val_accuracy)\n",
        "wi, wl, wpl = utils.test(net, testloader)\n",
        "index = 0"
      ],
      "execution_count": 7,
      "outputs": [
        {
          "output_type": "stream",
          "text": [
            "Generation 1. training loss: 0.0083, training accuracy: 99.73 %, validation loss: 0.0003,  validation accuracy: 99.55 % \n",
            "Generation 2. training loss: 0.0001, training accuracy: 99.99 %, validation loss: 0.0001,  validation accuracy: 99.95 % \n",
            "Generation 3. training loss: 0.0000, training accuracy: 99.99 %, validation loss: 0.0000,  validation accuracy: 99.95 % \n",
            "Generation 4. training loss: 0.0000, training accuracy: 100.00 %, validation loss: 0.0000,  validation accuracy: 100.00 % \n",
            "Network has converged.\n",
            "Accuracy of the network on the 4000 test images: 100.000 %\n",
            "Number of mistakes : 0\n"
          ],
          "name": "stdout"
        },
        {
          "output_type": "display_data",
          "data": {
            "image/png": "[encoded data removed]",
            "text/plain": [
              "<Figure size 720x360 with 2 Axes>"
            ]
          },
          "metadata": {
            "tags": []
          }
        }
      ]
    },
    {
      "cell_type": "code",
      "metadata": {
        "colab_type": "code",
        "id": "_2qbFlsY0EY3",
        "colab": {}
      },
      "source": [
        "if index in range(len(wi)):\n",
        "  if index in range(len(wi)):\n",
        "    I = utils.input2image(wi[index], MEAN, STD)\n",
        "    utils.display_image(I, wl[index], wpl[index])\n",
        "    outputs = net(wi[index].unsqueeze(0)).data\n",
        "    print(\"Score for predicted label: \", outputs.numpy()[0][wpl[index]])\n",
        "    print(\"Score for true label: \", outputs.numpy()[0][wl[index]])\n",
        "    index += 1"
      ],
      "execution_count": 0,
      "outputs": []
    },
    {
      "cell_type": "code",
      "metadata": {
        "id": "1u0zjyeN2AYr",
        "colab_type": "code",
        "colab": {}
      },
      "source": [
        "index = 0"
      ],
      "execution_count": 0,
      "outputs": []
    },
    {
      "cell_type": "code",
      "metadata": {
        "id": "uZZ5ejhumCn5",
        "colab_type": "code",
        "outputId": "c25f37ca-3263-440e-b471-802b15e328e0",
        "colab": {
          "base_uri": "https://localhost:8080/",
          "height": 51
        }
      },
      "source": [
        "save = input(\"Overwrite current state dictionnary ? [y/n]\")\n",
        "if (save == 'y'): \n",
        "  torch.save(net.state_dict(), 'drive/My Drive/Interpretability/model3.pth')\n",
        "  print(\"State dictionnary saved.\")\n",
        "else: \n",
        "  print(\"State dictionnary has not been saved.\")"
      ],
      "execution_count": 12,
      "outputs": [
        {
          "output_type": "stream",
          "text": [
            "Overwrite current state dictionnary ? [y/n]y\n",
            "State dictionnary saved.\n"
          ],
          "name": "stdout"
        }
      ]
    }
  ]
}