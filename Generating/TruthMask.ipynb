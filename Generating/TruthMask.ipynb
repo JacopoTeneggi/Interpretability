{
  "nbformat": 4,
  "nbformat_minor": 0,
  "metadata": {
    "colab": {
      "name": "TruthMask.ipynb",
      "provenance": [],
      "toc_visible": true
    },
    "kernelspec": {
      "name": "python3",
      "display_name": "Python 3"
    }
  },
  "cells": [
    {
      "cell_type": "code",
      "metadata": {
        "id": "-Chqyzu1gvxu",
        "colab_type": "code",
        "colab": {
          "base_uri": "https://localhost:8080/",
          "height": 54
        },
        "outputId": "457fe1eb-c187-48b1-bc33-8f4d1ec83833"
      },
      "source": [
        "#IMPORTS\n",
        "import numpy as np\n",
        "from numpy import genfromtxt\n",
        "from torchvision.datasets import ImageFolder\n",
        "from torchvision.transforms import Resize, ToTensor, Normalize\n",
        "from torchvision import transforms\n",
        "import matplotlib.pyplot as plt\n",
        "import seaborn as sns\n",
        "import zipfile\n",
        "import os\n",
        "from torch.utils.data import DataLoader\n",
        "from google.colab import drive\n",
        "drive.mount('/content/drive/')"
      ],
      "execution_count": 15,
      "outputs": [
        {
          "output_type": "stream",
          "text": [
            "Drive already mounted at /content/drive/; to attempt to forcibly remount, call drive.mount(\"/content/drive/\", force_remount=True).\n"
          ],
          "name": "stdout"
        }
      ]
    },
    {
      "cell_type": "code",
      "metadata": {
        "id": "PdiGEKtxhq5x",
        "colab_type": "code",
        "colab": {
          "base_uri": "https://localhost:8080/",
          "height": 387
        },
        "outputId": "4e2f52b4-3969-46ec-8d1b-ea3938615779"
      },
      "source": [
        "# LOAD POSITIONS\n",
        "positions = genfromtxt('/content/drive/My Drive/H-Shap/1/positions_73.csv', delimiter=',')\n",
        "print(positions)\n",
        "\n",
        "# BUILD TRUTH MAP\n",
        "map = np.zeros((100, 120))\n",
        "for item in positions:\n",
        "  row = int(item[1])\n",
        "  column = int(item[0])\n",
        "  map[row, column] = 1\n",
        "  for i in np.arange(1, 5):\n",
        "    map[row-i, column-i] = 1\n",
        "    map[row-i, column+i] = 1\n",
        "    map[row+i, column-i] = 1\n",
        "    map[row+i, column+i] = 1\n",
        "\n",
        "plt.imshow(map)\n",
        "np.savetxt(\"/content/drive/My Drive/H-Shap/1/truth.csv\", map, delimiter=\",\")"
      ],
      "execution_count": 28,
      "outputs": [
        {
          "output_type": "stream",
          "text": [
            "[[ 35.  65.]\n",
            " [ 65.  65.]\n",
            " [ 15.  75.]\n",
            " [105.  75.]\n",
            " [ 45.  85.]\n",
            " [115.  85.]\n",
            " [  5.  95.]]\n"
          ],
          "name": "stdout"
        },
        {
          "output_type": "display_data",
          "data": {
            "image/png": "[encoded data removed]",
            "text/plain": [
              "<Figure size 432x288 with 1 Axes>"
            ]
          },
          "metadata": {
            "tags": [],
            "needs_background": "light"
          }
        }
      ]
    }
  ]
}